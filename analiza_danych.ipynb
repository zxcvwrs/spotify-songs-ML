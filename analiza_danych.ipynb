{
  "cells": [
    {
      "cell_type": "markdown",
      "metadata": {},
      "source": [
        "### Projekt IUM (zestaw 09, wariant 02)"
      ]
    },
    {
      "cell_type": "markdown",
      "metadata": {},
      "source": [
        "Poniższy notatnik składa się z sekcji:\n",
        "1. Analiza biznesowa, kryteria sukcesu\n",
        "2. Załadowanie danych do df\n",
        "3. Wstępny preprocessing danych\n",
        "4. Analiza danych"
      ]
    },
    {
      "cell_type": "markdown",
      "metadata": {},
      "source": [
        "#### 1. Załadowanie danych do df"
      ]
    },
    {
      "cell_type": "code",
      "execution_count": null,
      "metadata": {},
      "outputs": [],
      "source": [
        "import pandas as pd\n",
        "import json"
      ]
    },
    {
      "cell_type": "code",
      "execution_count": null,
      "metadata": {},
      "outputs": [],
      "source": [
        "def load_lines(filename):\n",
        "    with open(filename) as f:\n",
        "        lines = f.read().splitlines()\n",
        "    return lines"
      ]
    },
    {
      "cell_type": "code",
      "execution_count": null,
      "metadata": {},
      "outputs": [],
      "source": [
        "artists_lines = load_lines(\"artists.jsonl\")\n",
        "tracks_lines = load_lines(\"tracks.jsonl\")"
      ]
    }
  ],
  "metadata": {
    "colab": {
      "provenance": []
    },
    "kernelspec": {
      "display_name": "Python 3.10.5 64-bit",
      "language": "python",
      "name": "python3"
    },
    "language_info": {
      "name": "python",
      "version": "3.10.5"
    },
    "orig_nbformat": 4,
    "vscode": {
      "interpreter": {
        "hash": "4c1bce8e414f9bc48912dcc4416cdb1ae524d0fbd3b04a7c9d6465f890f9d9c6"
      }
    }
  },
  "nbformat": 4,
  "nbformat_minor": 0
}
