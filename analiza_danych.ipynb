{
  "cells": [
    {
      "cell_type": "markdown",
      "metadata": {},
      "source": [
        "### Projekt IUM (zestaw 09, wariant 02)"
      ]
    },
    {
      "cell_type": "markdown",
      "metadata": {},
      "source": [
        "Autorzy:\n",
        "- Shpakovich Valeryia 317114\n",
        "- Wolert Rafał 306020"
      ]
    },
    {
      "cell_type": "markdown",
      "metadata": {},
      "source": [
        "### Spis treści:\n",
        "1. Wstęp do projektu\n",
        "2. Definicja problemu biznesowego \n",
        "3. Propozycja rozwiązania problemu biznesowego na podstawie dostępnych danych\n",
        "    - Wnioski dla danych artystów (artists.jsonl)\n",
        "    - Wnioski dla danych utworów (tracks.jsonl)\n",
        "4. Propozycja rozwiązania\n",
        "5. Kryteria sukcesu\n",
        "6. Uwagi\n",
        "7. Analiza danych\n",
        "   - Załadowanie danych do df\n",
        "   - Analiza danych \n",
        "       * zbiór artystów\n",
        "       * zbiór utworów "
      ]
    },
    {
      "cell_type": "markdown",
      "metadata": {},
      "source": [
        "### Wstęp do projektu\n",
        "\n",
        "W ramach projektu otrzymano krótki opis biznesowy: “Nie wszyscy nowo dodawani wykonawcy do naszej bazy mają przypisany gatunek muzyczny – musimy jakoś temu zaradzić!”\n",
        "\n",
        "Dane, które otrzymano od klienta, zawierały:\n",
        "\n",
        "\n",
        "1. Bazę użytkowników (users.jsonl)\n",
        "\n",
        "2. Listę wykonawców (artists.jsonl)\n",
        "\n",
        "3. Listę utworów (tracks.jsonl)\n",
        "\n",
        "4. Historię sesji użytkowników (sessions.jsonl)\n",
        "\n",
        "5. Techniczne informacje dotyczące przechowywania plików (track_storage.jsonl)\n",
        " \n",
        " \n",
        " Po krótkiej analizie wstępnej, służącej jako pomoc przy określaniu problemu biznesowego i kryteriów sukcesu, zaobserwowano:\n",
        "\n",
        "*   Zdecydowano się na wybór danych nr 2 i 3. Pozostałe zbiory nie wnoszą informacji odnośnie wykonawców piosenek oraz samych utworów,\n",
        "*   W zbiorze listy utworów nie mamy informacji o gatunkach przypisanych do utworów,\n",
        "*   W zbiorze listy wykonawców mamy wiele gatunków przypisanych do jednego autora,\n",
        "*   W zbiorze listy wykonawców mamy bardzo dużo podgatunków, które należą do jednego gatunku,\n",
        "*   W zbiorze listy utworów występuje bezpośredni związek autorów z piosenkami, a zatem gatunków z piosenkami na podstawie tej samej wartości id oraz id_artist odpowiednio w zbiorze artists.jsonl oraz tracks.jsonl\n",
        "\n",
        "Na podstawie powyższej krótkiej analizy wstępnej określono problem biznesowy.\n",
        "\n",
        "### Definicja problemu biznesowego\n",
        "\n",
        "Problemem biznesowym jest brak określonych gatunków muzycznych dla utworów.\n",
        "\n",
        "Na podstawie powyższych danych, możemy wnioskować o gatunku dla autora muzycznego, tylko na podstawie gatunków muzycznych utworów jego autorstwa.\n",
        "\n",
        "Poniżej zaprezentowano wizualizację procesu przypisywania gatunków muzycznych do autora na podstawie gatunków muzycznych jego utworów.\n",
        "![przypisywanie_gatunkow](przypisywanie_gatunkow.png)\n",
        "\n",
        "### Propozycja rozwiązania problemu biznesowego na podstawie dostępnych danych\n",
        "\n",
        "#### Wnioski dla danych artystów (artists.jsonl)\n",
        "Poniższe wnioski zaobserwowano na podstawie danych bez usuwania wartości błędnych.\n",
        "1. Liczność zbioru artystów: 1667 wierszy na 3 kolumny\n",
        "2. Istotny błąd w kolumnie 'id'. Mamy 320 wierszy z wartością '-1'. Przez to, nie wiemy jakie piosenki należą do danego artysty w zbiorze danych utworów (tracks.jsonl).\n",
        "3. Istotny błąd w kolumnie 'genres'. Mamy 328 wartości None - przez to nie można określić, w jakim gatunku tworzy dany artysta.\n",
        "\n",
        "Poniższe wnioski zaobserwowano na podstawie danych z usuwaniem wartości błędnych (tj. usunięto 328 wierszy z wartościami None w 'genres'\n",
        "\n",
        "1. Łącznie mamy 5545 gatunków w zbiorze.\n",
        "2. Podgatunków występujących w liczbie 1, 2, 3, 4 mamy łącznie 567. Pojedynczych podgatunków jest jeszcze więcej i mogą stanowić klasę większościową dla zbioru gatunków.\n",
        "3. 4/5 najbardziej popularnych unikalnych podgatunków odwołuje się do głównego gatunku \"pop\". Jest to klasa większościowa, która może negatywnie wpłynać na modelowanie.\n",
        "\n",
        "Wniosek: Potrzeba dla artystów, w których nie występują błędy zarówno w kolumnie 'id' jak i 'genres'. Wtedy, możliwe, że niezbalansowanie danych zaobserwowanie w zbiorze przy usuniętych wartościach None będzie akceptowalne dla zadań modelowania.\n",
        "\n",
        "#### Wnioski dla danych utworów (tracks.jsonl)\n",
        "Poniższe wnioski zaobserwowano na podstawie danych bez usuwania wartości błędnych.\n",
        "\n",
        "1. Liczność zbioru to 22412 wiersze na 7 kolumn.\n",
        "2. Wartości typu None w kolumnach: 'id', 'name', 'popularity', 'id_artist'. Istotne błędy w danych to kolumny: 'name', 'popularity' oraz 'id_artist'. Błędy typu 'id' jesteśmy w stanie uzupełnić generując id, przypisując kolejne cyfry do piosenek - nie jest to rażący błąd danych. \n",
        "\n",
        "Brak nazw piosenek w 'name' nie jest możliwy do uzupełnienia przez nasz zespół analityków, nie jesteśmy w stanie wtedy wykryć np.: duplikatów piosenek po nazwie, które mają podobne cechy piosenek takie jak: energy, danceability, key itd.\n",
        "\n",
        "Brak wskaźnika popularności w 'popularity' - może nie być to kluczowa cecha w przypadku zadań modelowania, jednak ciężko jest uzupełnić tak występujący brak danych reprezentatywnie. Możemy wypełnić braki np.: często występującą wartością, ale ilość braków dla tej kolumny (4436 braków) jest duża.\n",
        "\n",
        "Celem dalszej analizy, usunięto braki None w trzech kolumnach pozostałych kolumnach (łącznie 13 446 rekordów). Braki w kolumnie 'id' czyli 4480, uzupełniono kolejnymi cyframi od 0.\n",
        "\n",
        "Poniższe wnioski zaobserwowano na podstawie danych z usuwaniem wartości błędnych (tj. usunięto 13 446 wierszy z wartościami None w trzech kolumnach.\n",
        "\n",
        "1. Z pozostałych danych, 11 451 rekordów, sprawdziliśmy ile artystów ze zbioru artists.jsonl występuje w zbiorze piosenek jako autorzy. Jest to 9092 artystów, którzy mają odwzorowanie w zbiorze artists.jsonl, a co za tym idzie, mają przypisane gatunki, w których tworzą. 2359 artystów z tracks.jsonl nie znajduje się w zbiorze artists.jsonl\n",
        "\n",
        "Wniosek: Potrzebny zbiór danych, który nie zawiera braków w 'name', 'popularity', 'id_artist'. Spora część danych, 9092 artystów ze zbioru piosenek ma swoje odwzorowanie w zbiorze artystów, co powinno wystarczyć w celach modelowania.\n",
        "\n",
        "\n",
        "### Propozycja rozwiązania\n",
        "\n",
        "1. Proponujemy bardziej uogólniony podział na gatunki. Bez uogólnionego podziału, istnieje bardzo dużo podgatunków w małej liczności w zbiorze. Oznacza to, że model nie będzie w stanie generalizować przypadków gatunków, pojedyncze podgatunki występujące w zbiorze wpływają negatywnie na jego działanie.\n",
        "W tym przypadku użyjemy **metod asocjacyjnych**, które są w stanie skutecznie powiązać podobne elementy ze sobą i w ten sposób zredukować liczność zbioru.\n",
        "2.  Mając uogólnione gatunki, jesteśmy w stanie przejść do pierwszego z zadań modelowania:\n",
        "  - na zbiorze wszystkich piosenek stosujemy **clustering**, celem uzyskania grup, które posiadają cechy charakterystyczne dla każdego gatunku i są związane z rytmicznością, tanecznością, głośnością itd. danego utworu\n",
        "  - wynikiem clusteringu są grupy, z których w każdej znajdują się piosenki z przypisanymi autorami. Artyści mają przypisane gatunki w których tworzą.\n",
        "  - na podstawie gatunków, w których artyści tworzą, z pomocą heurystyk, jaki gatunek występuje w grupie najczęściej, określany będzie gatunek całej grupy.\n",
        "\n",
        "  Dzięki temu, otrzymamy dodatkową informację o gatunku danego utworu.\n",
        "  Powyższy opis zaprezentowano na poniższym diagramie.\n",
        "\n",
        "  ![pierwszy_model](pierwszy_model.png)\n",
        "\n",
        "Dla grupowania danych prawdopodobnie zostanie wykorzystana metoda k-średnich, na podstawie danej mapy: https://scikit-learn.org/stable/tutorial/machine_learning_map/index.html\n",
        "\n",
        "3. Drugie zadanie modelowania będzie polegało na:\n",
        "  - pracy ze zbiorem początkowym, trenującym, ale wzbogaconym o informację o gatunku dla danego utworu,\n",
        "  - na podstawie tych danych, tworzymy model, który określa gatunek piosenki (zadanie klasyfikacji)\n",
        "\n",
        "Końcowy model utworzony w ramach drugiego zadania modelowania będzie wykorzystywany \"na produkcji\". Algorytm użyty do zadania klasyfikacji zostanie określony po otrzymaniu wyników z modelu pierwszego.\n",
        "\n",
        "Przedstawiona architektura wymaga aktualizacji danych treningowych do modelu 1 i 2, co pewien określony czas.\n",
        "\n",
        "### Kryteria sukcesu\n",
        "\n",
        "**Biznesowe:**  \n",
        "\n",
        "Nowododanym wykonawcom skutecznie przypisywane są gatunki muzyczne. \n",
        "\n",
        "**Analityczne:**  \n",
        "\n",
        "Ostateczne kryterium sukcesu: jak dobrze dobierane są gatunki do konkretnego wykonawcy? Na przykład, na ile prawdopodobieństwo tego, że nasze rozwiązanie przypisze do wykonawcy odpowiedni gatunek, jest lepsze od losowego przypisania. \n",
        "\n",
        "Podczas pracy do określenia jakości implementacji i dobranych parametrów zostaną dobrane specyficzne dla problemów clusteringu (grupowania) i klasyfikacji metryki takie jak:\n",
        "1. dla clusteringu:\n",
        "  - Silhouette Coefficient\n",
        "  - Dunn's Index\n",
        "2. dla klasyfikacji:\n",
        "  - confusion matrix\n",
        "  - ROC curve\n",
        "  - PR curve\n",
        "  - Log Loss\n",
        "\n",
        "### Uwagi:\n",
        "W dalszej części notatnika przeprowadzono analizę danych, na podstawie której oceniono czy dane są wystarczające, czy w danych czegoś brakuje. Należy nadmienić, że finalnie, tak jak powyżej, stwierdzono, że należy przesłać dane bez błędów, które posłużą do dalszej analizy. Z tego względu, w analizie danych nie skupiowano się na przydatności otrzymanych cech, np.: w przypadku zbioru tracks.jsonl. Zostanie to wykonane, po otrzymaniu zbioru niezawierającego błędów."
      ]
    },
    {
      "cell_type": "markdown",
      "metadata": {},
      "source": [
        "Poniższa analiza składa się z sekcji:\n",
        "1. Załadowanie danych do df\n",
        "2. Analiza danych \n",
        "    * zbiór artystów\n",
        "    * zbiór utworów      "
      ]
    },
    {
      "cell_type": "markdown",
      "metadata": {},
      "source": [
        "### 1. Załadowanie danych do df"
      ]
    },
    {
      "cell_type": "code",
      "execution_count": 314,
      "metadata": {},
      "outputs": [],
      "source": [
        "import pandas as pd\n",
        "import json\n",
        "import matplotlib.pyplot as plt\n",
        "import seaborn as sns\n",
        "import numpy as np\n"
      ]
    },
    {
      "cell_type": "code",
      "execution_count": 315,
      "metadata": {},
      "outputs": [],
      "source": [
        "def load_lines(filename):\n",
        "    with open(filename) as f:\n",
        "        lines = f.read().splitlines()\n",
        "    return lines"
      ]
    },
    {
      "cell_type": "code",
      "execution_count": 316,
      "metadata": {},
      "outputs": [],
      "source": [
        "artists_lines = load_lines(\"artists.jsonl\")\n",
        "tracks_lines = load_lines(\"tracks.jsonl\")"
      ]
    },
    {
      "cell_type": "code",
      "execution_count": 317,
      "metadata": {},
      "outputs": [
        {
          "data": {
            "text/plain": [
              "['{\"id\": \"7jVv8c5Fj3E9VhNjxT4snq\", \"name\": \"Lil Nas X\", \"genres\": [\"country rap\", \"lgbtq+ hip hop\", \"pop rap\", \"queer country\"]}',\n",
              " '{\"id\": \"0xRXCcSX89eobfrshSVdyu\", \"name\": \"MEDUZA\", \"genres\": [\"dance pop\", \"edm\", \"pop dance\", \"pop house\", \"tropical house\"]}',\n",
              " '{\"id\": -1, \"name\": \"TheFatRat\", \"genres\": [\"speedrun\"]}',\n",
              " '{\"id\": \"4f7KfxeHq9BiylGmyXepGt\", \"name\": \"Tanishk Bagchi\", \"genres\": [\"desi pop\", \"filmi\", \"modern bollywood\"]}',\n",
              " '{\"id\": -1, \"name\": \"Jawsh 685\", \"genres\": [\"nz pop\"]}',\n",
              " '{\"id\": \"523y9KSneKh6APd1hKxLuF\", \"name\": \"Master KG\", \"genres\": [\"south african house\"]}',\n",
              " '{\"id\": \"25UNJbwGZSQKvz5cPLWlv3\", \"name\": \"Los Dos Carnales\", \"genres\": null}',\n",
              " '{\"id\": \"6vTqEFbTtTRJsuIpzZgjxi\", \"name\": \"Grupo Menos \\\\u00c9 Mais\", \"genres\": [\"pagode\", \"pagode novo\"]}',\n",
              " '{\"id\": \"44mEtidu0VdRkIqO4IbkNa\", \"name\": \"Marca MP\", \"genres\": [\"corrido\", \"corridos tumbados\", \"nuevo regional mexicano\", \"regional mexican\", \"sierreno\"]}',\n",
              " '{\"id\": -1, \"name\": \"Guilherme & Benuto\", \"genres\": [\"sertanejo pop\"]}']"
            ]
          },
          "execution_count": 317,
          "metadata": {},
          "output_type": "execute_result"
        }
      ],
      "source": [
        "artists_lines[:10]"
      ]
    },
    {
      "cell_type": "code",
      "execution_count": 318,
      "metadata": {},
      "outputs": [
        {
          "data": {
            "text/plain": [
              "['{\"id\": \"0RNxWy0PC3AyH4ThH3aGK6\", \"name\": null, \"popularity\": null, \"duration_ms\": 201467, \"explicit\": 0, \"id_artist\": \"19eLuQmk9aCobbVDHc6eek\", \"release_date\": \"1929\", \"danceability\": 0.673, \"energy\": 0.377, \"key\": 0, \"loudness\": -14.141, \"speechiness\": 0.0697, \"acousticness\": 0.586, \"instrumentalness\": 0.0, \"liveness\": 0.332, \"valence\": 0.713, \"tempo\": 88.973}',\n",
              " '{\"id\": \"2W889aLIKxULEefrleFBFI\", \"name\": \"Someone to Watch Over Me\", \"popularity\": 54, \"duration_ms\": 198000, \"explicit\": 0, \"id_artist\": \"1Mxqyy3pSjf8kZZL4QVxS0\", \"release_date\": \"1943\", \"danceability\": 0.204, \"energy\": 0.151, \"key\": 2, \"loudness\": -17.842, \"speechiness\": 0.0418, \"acousticness\": 0.947, \"instrumentalness\": 9.15e-06, \"liveness\": 0.321, \"valence\": 0.134, \"tempo\": 91.783}',\n",
              " '{\"id\": \"4Pnzw1nLOpDNV6MKI5ueIR\", \"name\": null, \"popularity\": 55, \"duration_ms\": 199000, \"explicit\": 0, \"id_artist\": \"1Mxqyy3pSjf8kZZL4QVxS0\", \"release_date\": \"1944\", \"danceability\": 0.295, \"energy\": 0.0826, \"key\": 1, \"loudness\": -19.569, \"speechiness\": 0.0367, \"acousticness\": 0.984, \"instrumentalness\": 0.000358, \"liveness\": 0.156, \"valence\": 0.169, \"tempo\": 128.6}',\n",
              " '{\"id\": \"7GLmfKOe5BfOXk7334DoKt\", \"name\": \"Saturday Night (Is The Loneliest Night In The Week)\", \"popularity\": null, \"duration_ms\": 163000, \"explicit\": 0, \"id_artist\": \"1Mxqyy3pSjf8kZZL4QVxS0\", \"release_date\": \"1944\", \"danceability\": 0.561, \"energy\": 0.335, \"key\": 9, \"loudness\": -11.093, \"speechiness\": 0.0499, \"acousticness\": 0.84, \"instrumentalness\": 1.52e-06, \"liveness\": 0.788, \"valence\": 0.59, \"tempo\": 126.974}',\n",
              " '{\"id\": \"6kD1SNGPkfX9LwaGd1FG92\", \"name\": \"Put Your Dreams Away (For Another Day)\", \"popularity\": null, \"duration_ms\": 186173, \"explicit\": 0, \"id_artist\": \"1Mxqyy3pSjf8kZZL4QVxS0\", \"release_date\": \"1944\", \"danceability\": 0.197, \"energy\": 0.0546, \"key\": 1, \"loudness\": -22.411, \"speechiness\": 0.0346, \"acousticness\": 0.95, \"instrumentalness\": 0.276, \"liveness\": 0.152, \"valence\": 0.1, \"tempo\": 90.15}',\n",
              " '{\"id\": \"5RcvlmVx2xtFcp2Ta5pw7X\", \"name\": \"Someone To Watch Over Me\", \"popularity\": 57, \"duration_ms\": 196667, \"explicit\": 0, \"id_artist\": null, \"release_date\": \"1950-09-11\", \"danceability\": 0.354, \"energy\": 0.0851, \"key\": 7, \"loudness\": -13.738, \"speechiness\": 0.0345, \"acousticness\": 0.99, \"instrumentalness\": 4.49e-06, \"liveness\": 0.123, \"valence\": 0.197, \"tempo\": 97.684}',\n",
              " '{\"id\": \"5DIVWgTeJ2fPIxaY9e7ZKn\", \"name\": \"I\\'ve Got A Crush On You\", \"popularity\": 56, \"duration_ms\": 196440, \"explicit\": 0, \"id_artist\": \"5V0MlUE1Bft0mbLlND7FJz\", \"release_date\": \"1950-09-11\", \"danceability\": 0.455, \"energy\": 0.106, \"key\": 2, \"loudness\": -14.086, \"speechiness\": 0.0422, \"acousticness\": 0.986, \"instrumentalness\": 0.0, \"liveness\": 0.122, \"valence\": 0.258, \"tempo\": 66.807}',\n",
              " '{\"id\": \"0x0ffSAP6PkdoDgHOfroof\", \"name\": \"My Funny Valentine - Remastered\", \"popularity\": null, \"duration_ms\": 150667, \"explicit\": 0, \"id_artist\": \"1Mxqyy3pSjf8kZZL4QVxS0\", \"release_date\": \"1954-01-01\", \"danceability\": 0.257, \"energy\": 0.125, \"key\": 11, \"loudness\": -14.267, \"speechiness\": 0.0332, \"acousticness\": 0.891, \"instrumentalness\": 0.0, \"liveness\": 0.108, \"valence\": 0.245, \"tempo\": 84.93}',\n",
              " '{\"id\": \"0Hsc0sIaxOxXBZbT3ms2oj\", \"name\": \"In The Wee Small Hours Of The Morning - Remastered 1998\", \"popularity\": 60, \"duration_ms\": 180933, \"explicit\": 0, \"id_artist\": \"1Mxqyy3pSjf8kZZL4QVxS0\", \"release_date\": \"1955\", \"danceability\": 0.29, \"energy\": 0.0874, \"key\": 0, \"loudness\": -16.119, \"speechiness\": 0.0346, \"acousticness\": 0.856, \"instrumentalness\": 0.000957, \"liveness\": 0.109, \"valence\": 0.0734, \"tempo\": 114.997}',\n",
              " '{\"id\": \"3aEJMh1cXKEjgh52claxQp\", \"name\": \"I\\'ve Got You Under My Skin - Remastered 1998\", \"popularity\": 68, \"duration_ms\": 223760, \"explicit\": 0, \"id_artist\": \"1Mxqyy3pSjf8kZZL4QVxS0\", \"release_date\": \"1956-03\", \"danceability\": 0.585, \"energy\": 0.247, \"key\": 1, \"loudness\": -12.612, \"speechiness\": 0.04, \"acousticness\": 0.452, \"instrumentalness\": 8.85e-06, \"liveness\": 0.107, \"valence\": 0.591, \"tempo\": 127.15}']"
            ]
          },
          "execution_count": 318,
          "metadata": {},
          "output_type": "execute_result"
        }
      ],
      "source": [
        "tracks_lines[:10]"
      ]
    },
    {
      "cell_type": "code",
      "execution_count": 319,
      "metadata": {},
      "outputs": [],
      "source": [
        "artists_df = pd.DataFrame(artists_lines)\n",
        "tracks_df = pd.DataFrame(tracks_lines)"
      ]
    },
    {
      "cell_type": "code",
      "execution_count": 320,
      "metadata": {},
      "outputs": [
        {
          "data": {
            "text/html": [
              "<div>\n",
              "<style scoped>\n",
              "    .dataframe tbody tr th:only-of-type {\n",
              "        vertical-align: middle;\n",
              "    }\n",
              "\n",
              "    .dataframe tbody tr th {\n",
              "        vertical-align: top;\n",
              "    }\n",
              "\n",
              "    .dataframe thead th {\n",
              "        text-align: right;\n",
              "    }\n",
              "</style>\n",
              "<table border=\"1\" class=\"dataframe\">\n",
              "  <thead>\n",
              "    <tr style=\"text-align: right;\">\n",
              "      <th></th>\n",
              "      <th>0</th>\n",
              "    </tr>\n",
              "  </thead>\n",
              "  <tbody>\n",
              "    <tr>\n",
              "      <th>0</th>\n",
              "      <td>{\"id\": \"7jVv8c5Fj3E9VhNjxT4snq\", \"name\": \"Lil ...</td>\n",
              "    </tr>\n",
              "    <tr>\n",
              "      <th>1</th>\n",
              "      <td>{\"id\": \"0xRXCcSX89eobfrshSVdyu\", \"name\": \"MEDU...</td>\n",
              "    </tr>\n",
              "    <tr>\n",
              "      <th>2</th>\n",
              "      <td>{\"id\": -1, \"name\": \"TheFatRat\", \"genres\": [\"sp...</td>\n",
              "    </tr>\n",
              "    <tr>\n",
              "      <th>3</th>\n",
              "      <td>{\"id\": \"4f7KfxeHq9BiylGmyXepGt\", \"name\": \"Tani...</td>\n",
              "    </tr>\n",
              "    <tr>\n",
              "      <th>4</th>\n",
              "      <td>{\"id\": -1, \"name\": \"Jawsh 685\", \"genres\": [\"nz...</td>\n",
              "    </tr>\n",
              "    <tr>\n",
              "      <th>...</th>\n",
              "      <td>...</td>\n",
              "    </tr>\n",
              "    <tr>\n",
              "      <th>1662</th>\n",
              "      <td>{\"id\": \"6AMd49uBDJfhf30Ak2QR5s\", \"name\": \"Coi ...</td>\n",
              "    </tr>\n",
              "    <tr>\n",
              "      <th>1663</th>\n",
              "      <td>{\"id\": \"6qgnBH6iDM91ipVXv28OMu\", \"name\": \"KAYT...</td>\n",
              "    </tr>\n",
              "    <tr>\n",
              "      <th>1664</th>\n",
              "      <td>{\"id\": \"5q8HGNo0BjLWaTAhRtbwxa\", \"name\": \"Bran...</td>\n",
              "    </tr>\n",
              "    <tr>\n",
              "      <th>1665</th>\n",
              "      <td>{\"id\": -1, \"name\": \"Bethel Music\", \"genres\": [...</td>\n",
              "    </tr>\n",
              "    <tr>\n",
              "      <th>1666</th>\n",
              "      <td>{\"id\": \"46MWeeHNVMYRIIofQBEX98\", \"name\": \"BEAM...</td>\n",
              "    </tr>\n",
              "  </tbody>\n",
              "</table>\n",
              "<p>1667 rows × 1 columns</p>\n",
              "</div>"
            ],
            "text/plain": [
              "                                                      0\n",
              "0     {\"id\": \"7jVv8c5Fj3E9VhNjxT4snq\", \"name\": \"Lil ...\n",
              "1     {\"id\": \"0xRXCcSX89eobfrshSVdyu\", \"name\": \"MEDU...\n",
              "2     {\"id\": -1, \"name\": \"TheFatRat\", \"genres\": [\"sp...\n",
              "3     {\"id\": \"4f7KfxeHq9BiylGmyXepGt\", \"name\": \"Tani...\n",
              "4     {\"id\": -1, \"name\": \"Jawsh 685\", \"genres\": [\"nz...\n",
              "...                                                 ...\n",
              "1662  {\"id\": \"6AMd49uBDJfhf30Ak2QR5s\", \"name\": \"Coi ...\n",
              "1663  {\"id\": \"6qgnBH6iDM91ipVXv28OMu\", \"name\": \"KAYT...\n",
              "1664  {\"id\": \"5q8HGNo0BjLWaTAhRtbwxa\", \"name\": \"Bran...\n",
              "1665  {\"id\": -1, \"name\": \"Bethel Music\", \"genres\": [...\n",
              "1666  {\"id\": \"46MWeeHNVMYRIIofQBEX98\", \"name\": \"BEAM...\n",
              "\n",
              "[1667 rows x 1 columns]"
            ]
          },
          "execution_count": 320,
          "metadata": {},
          "output_type": "execute_result"
        }
      ],
      "source": [
        "artists_df"
      ]
    },
    {
      "cell_type": "code",
      "execution_count": 321,
      "metadata": {},
      "outputs": [
        {
          "data": {
            "text/html": [
              "<div>\n",
              "<style scoped>\n",
              "    .dataframe tbody tr th:only-of-type {\n",
              "        vertical-align: middle;\n",
              "    }\n",
              "\n",
              "    .dataframe tbody tr th {\n",
              "        vertical-align: top;\n",
              "    }\n",
              "\n",
              "    .dataframe thead th {\n",
              "        text-align: right;\n",
              "    }\n",
              "</style>\n",
              "<table border=\"1\" class=\"dataframe\">\n",
              "  <thead>\n",
              "    <tr style=\"text-align: right;\">\n",
              "      <th></th>\n",
              "      <th>0</th>\n",
              "    </tr>\n",
              "  </thead>\n",
              "  <tbody>\n",
              "    <tr>\n",
              "      <th>0</th>\n",
              "      <td>{\"id\": \"0RNxWy0PC3AyH4ThH3aGK6\", \"name\": null,...</td>\n",
              "    </tr>\n",
              "    <tr>\n",
              "      <th>1</th>\n",
              "      <td>{\"id\": \"2W889aLIKxULEefrleFBFI\", \"name\": \"Some...</td>\n",
              "    </tr>\n",
              "    <tr>\n",
              "      <th>2</th>\n",
              "      <td>{\"id\": \"4Pnzw1nLOpDNV6MKI5ueIR\", \"name\": null,...</td>\n",
              "    </tr>\n",
              "    <tr>\n",
              "      <th>3</th>\n",
              "      <td>{\"id\": \"7GLmfKOe5BfOXk7334DoKt\", \"name\": \"Satu...</td>\n",
              "    </tr>\n",
              "    <tr>\n",
              "      <th>4</th>\n",
              "      <td>{\"id\": \"6kD1SNGPkfX9LwaGd1FG92\", \"name\": \"Put ...</td>\n",
              "    </tr>\n",
              "    <tr>\n",
              "      <th>...</th>\n",
              "      <td>...</td>\n",
              "    </tr>\n",
              "    <tr>\n",
              "      <th>22407</th>\n",
              "      <td>{\"id\": \"0LcNMuOiULmxJK3bdHTfDF\", \"name\": \"Miss...</td>\n",
              "    </tr>\n",
              "    <tr>\n",
              "      <th>22408</th>\n",
              "      <td>{\"id\": \"1uviKYHZuM4uINK33F7sCt\", \"name\": \"Fix ...</td>\n",
              "    </tr>\n",
              "    <tr>\n",
              "      <th>22409</th>\n",
              "      <td>{\"id\": null, \"name\": \"Lotus Inn\", \"popularity\"...</td>\n",
              "    </tr>\n",
              "    <tr>\n",
              "      <th>22410</th>\n",
              "      <td>{\"id\": \"27kcZEJvhkb1rzZS9gCpdA\", \"name\": null,...</td>\n",
              "    </tr>\n",
              "    <tr>\n",
              "      <th>22411</th>\n",
              "      <td>{\"id\": \"27Y1N4Q4U3EfDU5Ubw8ws2\", \"name\": \"What...</td>\n",
              "    </tr>\n",
              "  </tbody>\n",
              "</table>\n",
              "<p>22412 rows × 1 columns</p>\n",
              "</div>"
            ],
            "text/plain": [
              "                                                       0\n",
              "0      {\"id\": \"0RNxWy0PC3AyH4ThH3aGK6\", \"name\": null,...\n",
              "1      {\"id\": \"2W889aLIKxULEefrleFBFI\", \"name\": \"Some...\n",
              "2      {\"id\": \"4Pnzw1nLOpDNV6MKI5ueIR\", \"name\": null,...\n",
              "3      {\"id\": \"7GLmfKOe5BfOXk7334DoKt\", \"name\": \"Satu...\n",
              "4      {\"id\": \"6kD1SNGPkfX9LwaGd1FG92\", \"name\": \"Put ...\n",
              "...                                                  ...\n",
              "22407  {\"id\": \"0LcNMuOiULmxJK3bdHTfDF\", \"name\": \"Miss...\n",
              "22408  {\"id\": \"1uviKYHZuM4uINK33F7sCt\", \"name\": \"Fix ...\n",
              "22409  {\"id\": null, \"name\": \"Lotus Inn\", \"popularity\"...\n",
              "22410  {\"id\": \"27kcZEJvhkb1rzZS9gCpdA\", \"name\": null,...\n",
              "22411  {\"id\": \"27Y1N4Q4U3EfDU5Ubw8ws2\", \"name\": \"What...\n",
              "\n",
              "[22412 rows x 1 columns]"
            ]
          },
          "execution_count": 321,
          "metadata": {},
          "output_type": "execute_result"
        }
      ],
      "source": [
        "tracks_df"
      ]
    },
    {
      "cell_type": "code",
      "execution_count": 322,
      "metadata": {},
      "outputs": [],
      "source": [
        "artists_df.columns = ['json line']\n",
        "tracks_df.columns = ['json line']\n",
        "\n",
        "# utworzenie słownika na każdym elemencie kolumny json line\n",
        "loaded_json_artists = artists_df['json line'].apply(json.loads)\n",
        "loaded_json_tracks = tracks_df['json line'].apply(json.loads)\n"
      ]
    },
    {
      "cell_type": "code",
      "execution_count": 323,
      "metadata": {},
      "outputs": [],
      "source": [
        "artists_df = pd.json_normalize(loaded_json_artists)\n",
        "tracks_df = pd.json_normalize(loaded_json_tracks)"
      ]
    },
    {
      "cell_type": "code",
      "execution_count": 324,
      "metadata": {},
      "outputs": [
        {
          "data": {
            "text/html": [
              "<div>\n",
              "<style scoped>\n",
              "    .dataframe tbody tr th:only-of-type {\n",
              "        vertical-align: middle;\n",
              "    }\n",
              "\n",
              "    .dataframe tbody tr th {\n",
              "        vertical-align: top;\n",
              "    }\n",
              "\n",
              "    .dataframe thead th {\n",
              "        text-align: right;\n",
              "    }\n",
              "</style>\n",
              "<table border=\"1\" class=\"dataframe\">\n",
              "  <thead>\n",
              "    <tr style=\"text-align: right;\">\n",
              "      <th></th>\n",
              "      <th>id</th>\n",
              "      <th>name</th>\n",
              "      <th>genres</th>\n",
              "    </tr>\n",
              "  </thead>\n",
              "  <tbody>\n",
              "    <tr>\n",
              "      <th>0</th>\n",
              "      <td>7jVv8c5Fj3E9VhNjxT4snq</td>\n",
              "      <td>Lil Nas X</td>\n",
              "      <td>[country rap, lgbtq+ hip hop, pop rap, queer c...</td>\n",
              "    </tr>\n",
              "    <tr>\n",
              "      <th>1</th>\n",
              "      <td>0xRXCcSX89eobfrshSVdyu</td>\n",
              "      <td>MEDUZA</td>\n",
              "      <td>[dance pop, edm, pop dance, pop house, tropica...</td>\n",
              "    </tr>\n",
              "    <tr>\n",
              "      <th>2</th>\n",
              "      <td>-1</td>\n",
              "      <td>TheFatRat</td>\n",
              "      <td>[speedrun]</td>\n",
              "    </tr>\n",
              "    <tr>\n",
              "      <th>3</th>\n",
              "      <td>4f7KfxeHq9BiylGmyXepGt</td>\n",
              "      <td>Tanishk Bagchi</td>\n",
              "      <td>[desi pop, filmi, modern bollywood]</td>\n",
              "    </tr>\n",
              "    <tr>\n",
              "      <th>4</th>\n",
              "      <td>-1</td>\n",
              "      <td>Jawsh 685</td>\n",
              "      <td>[nz pop]</td>\n",
              "    </tr>\n",
              "    <tr>\n",
              "      <th>...</th>\n",
              "      <td>...</td>\n",
              "      <td>...</td>\n",
              "      <td>...</td>\n",
              "    </tr>\n",
              "    <tr>\n",
              "      <th>1662</th>\n",
              "      <td>6AMd49uBDJfhf30Ak2QR5s</td>\n",
              "      <td>Coi Leray</td>\n",
              "      <td>[pop r&amp;b, r&amp;b, trap queen, viral rap]</td>\n",
              "    </tr>\n",
              "    <tr>\n",
              "      <th>1663</th>\n",
              "      <td>6qgnBH6iDM91ipVXv28OMu</td>\n",
              "      <td>KAYTRANADA</td>\n",
              "      <td>[escape room, indie soul, lgbtq+ hip hop]</td>\n",
              "    </tr>\n",
              "    <tr>\n",
              "      <th>1664</th>\n",
              "      <td>5q8HGNo0BjLWaTAhRtbwxa</td>\n",
              "      <td>Brantley Gilbert</td>\n",
              "      <td>[contemporary country, country, country road, ...</td>\n",
              "    </tr>\n",
              "    <tr>\n",
              "      <th>1665</th>\n",
              "      <td>-1</td>\n",
              "      <td>Bethel Music</td>\n",
              "      <td>[ambient worship, ccm, christian music, deep c...</td>\n",
              "    </tr>\n",
              "    <tr>\n",
              "      <th>1666</th>\n",
              "      <td>46MWeeHNVMYRIIofQBEX98</td>\n",
              "      <td>BEAM</td>\n",
              "      <td>[trap soul, underground hip hop]</td>\n",
              "    </tr>\n",
              "  </tbody>\n",
              "</table>\n",
              "<p>1667 rows × 3 columns</p>\n",
              "</div>"
            ],
            "text/plain": [
              "                          id              name  \\\n",
              "0     7jVv8c5Fj3E9VhNjxT4snq         Lil Nas X   \n",
              "1     0xRXCcSX89eobfrshSVdyu            MEDUZA   \n",
              "2                         -1         TheFatRat   \n",
              "3     4f7KfxeHq9BiylGmyXepGt    Tanishk Bagchi   \n",
              "4                         -1         Jawsh 685   \n",
              "...                      ...               ...   \n",
              "1662  6AMd49uBDJfhf30Ak2QR5s         Coi Leray   \n",
              "1663  6qgnBH6iDM91ipVXv28OMu        KAYTRANADA   \n",
              "1664  5q8HGNo0BjLWaTAhRtbwxa  Brantley Gilbert   \n",
              "1665                      -1      Bethel Music   \n",
              "1666  46MWeeHNVMYRIIofQBEX98              BEAM   \n",
              "\n",
              "                                                 genres  \n",
              "0     [country rap, lgbtq+ hip hop, pop rap, queer c...  \n",
              "1     [dance pop, edm, pop dance, pop house, tropica...  \n",
              "2                                            [speedrun]  \n",
              "3                   [desi pop, filmi, modern bollywood]  \n",
              "4                                              [nz pop]  \n",
              "...                                                 ...  \n",
              "1662              [pop r&b, r&b, trap queen, viral rap]  \n",
              "1663          [escape room, indie soul, lgbtq+ hip hop]  \n",
              "1664  [contemporary country, country, country road, ...  \n",
              "1665  [ambient worship, ccm, christian music, deep c...  \n",
              "1666                   [trap soul, underground hip hop]  \n",
              "\n",
              "[1667 rows x 3 columns]"
            ]
          },
          "execution_count": 324,
          "metadata": {},
          "output_type": "execute_result"
        }
      ],
      "source": [
        "artists_df"
      ]
    },
    {
      "cell_type": "code",
      "execution_count": 325,
      "metadata": {},
      "outputs": [
        {
          "data": {
            "text/html": [
              "<div>\n",
              "<style scoped>\n",
              "    .dataframe tbody tr th:only-of-type {\n",
              "        vertical-align: middle;\n",
              "    }\n",
              "\n",
              "    .dataframe tbody tr th {\n",
              "        vertical-align: top;\n",
              "    }\n",
              "\n",
              "    .dataframe thead th {\n",
              "        text-align: right;\n",
              "    }\n",
              "</style>\n",
              "<table border=\"1\" class=\"dataframe\">\n",
              "  <thead>\n",
              "    <tr style=\"text-align: right;\">\n",
              "      <th></th>\n",
              "      <th>id</th>\n",
              "      <th>name</th>\n",
              "      <th>popularity</th>\n",
              "      <th>duration_ms</th>\n",
              "      <th>explicit</th>\n",
              "      <th>id_artist</th>\n",
              "      <th>release_date</th>\n",
              "      <th>danceability</th>\n",
              "      <th>energy</th>\n",
              "      <th>key</th>\n",
              "      <th>loudness</th>\n",
              "      <th>speechiness</th>\n",
              "      <th>acousticness</th>\n",
              "      <th>instrumentalness</th>\n",
              "      <th>liveness</th>\n",
              "      <th>valence</th>\n",
              "      <th>tempo</th>\n",
              "    </tr>\n",
              "  </thead>\n",
              "  <tbody>\n",
              "    <tr>\n",
              "      <th>0</th>\n",
              "      <td>0RNxWy0PC3AyH4ThH3aGK6</td>\n",
              "      <td>None</td>\n",
              "      <td>NaN</td>\n",
              "      <td>201467</td>\n",
              "      <td>0</td>\n",
              "      <td>19eLuQmk9aCobbVDHc6eek</td>\n",
              "      <td>1929</td>\n",
              "      <td>0.673</td>\n",
              "      <td>0.3770</td>\n",
              "      <td>0</td>\n",
              "      <td>-14.141</td>\n",
              "      <td>0.0697</td>\n",
              "      <td>0.5860</td>\n",
              "      <td>0.000000</td>\n",
              "      <td>0.3320</td>\n",
              "      <td>0.7130</td>\n",
              "      <td>88.973</td>\n",
              "    </tr>\n",
              "    <tr>\n",
              "      <th>1</th>\n",
              "      <td>2W889aLIKxULEefrleFBFI</td>\n",
              "      <td>Someone to Watch Over Me</td>\n",
              "      <td>54.0</td>\n",
              "      <td>198000</td>\n",
              "      <td>0</td>\n",
              "      <td>1Mxqyy3pSjf8kZZL4QVxS0</td>\n",
              "      <td>1943</td>\n",
              "      <td>0.204</td>\n",
              "      <td>0.1510</td>\n",
              "      <td>2</td>\n",
              "      <td>-17.842</td>\n",
              "      <td>0.0418</td>\n",
              "      <td>0.9470</td>\n",
              "      <td>0.000009</td>\n",
              "      <td>0.3210</td>\n",
              "      <td>0.1340</td>\n",
              "      <td>91.783</td>\n",
              "    </tr>\n",
              "    <tr>\n",
              "      <th>2</th>\n",
              "      <td>4Pnzw1nLOpDNV6MKI5ueIR</td>\n",
              "      <td>None</td>\n",
              "      <td>55.0</td>\n",
              "      <td>199000</td>\n",
              "      <td>0</td>\n",
              "      <td>1Mxqyy3pSjf8kZZL4QVxS0</td>\n",
              "      <td>1944</td>\n",
              "      <td>0.295</td>\n",
              "      <td>0.0826</td>\n",
              "      <td>1</td>\n",
              "      <td>-19.569</td>\n",
              "      <td>0.0367</td>\n",
              "      <td>0.9840</td>\n",
              "      <td>0.000358</td>\n",
              "      <td>0.1560</td>\n",
              "      <td>0.1690</td>\n",
              "      <td>128.600</td>\n",
              "    </tr>\n",
              "    <tr>\n",
              "      <th>3</th>\n",
              "      <td>7GLmfKOe5BfOXk7334DoKt</td>\n",
              "      <td>Saturday Night (Is The Loneliest Night In The ...</td>\n",
              "      <td>NaN</td>\n",
              "      <td>163000</td>\n",
              "      <td>0</td>\n",
              "      <td>1Mxqyy3pSjf8kZZL4QVxS0</td>\n",
              "      <td>1944</td>\n",
              "      <td>0.561</td>\n",
              "      <td>0.3350</td>\n",
              "      <td>9</td>\n",
              "      <td>-11.093</td>\n",
              "      <td>0.0499</td>\n",
              "      <td>0.8400</td>\n",
              "      <td>0.000002</td>\n",
              "      <td>0.7880</td>\n",
              "      <td>0.5900</td>\n",
              "      <td>126.974</td>\n",
              "    </tr>\n",
              "    <tr>\n",
              "      <th>4</th>\n",
              "      <td>6kD1SNGPkfX9LwaGd1FG92</td>\n",
              "      <td>Put Your Dreams Away (For Another Day)</td>\n",
              "      <td>NaN</td>\n",
              "      <td>186173</td>\n",
              "      <td>0</td>\n",
              "      <td>1Mxqyy3pSjf8kZZL4QVxS0</td>\n",
              "      <td>1944</td>\n",
              "      <td>0.197</td>\n",
              "      <td>0.0546</td>\n",
              "      <td>1</td>\n",
              "      <td>-22.411</td>\n",
              "      <td>0.0346</td>\n",
              "      <td>0.9500</td>\n",
              "      <td>0.276000</td>\n",
              "      <td>0.1520</td>\n",
              "      <td>0.1000</td>\n",
              "      <td>90.150</td>\n",
              "    </tr>\n",
              "    <tr>\n",
              "      <th>...</th>\n",
              "      <td>...</td>\n",
              "      <td>...</td>\n",
              "      <td>...</td>\n",
              "      <td>...</td>\n",
              "      <td>...</td>\n",
              "      <td>...</td>\n",
              "      <td>...</td>\n",
              "      <td>...</td>\n",
              "      <td>...</td>\n",
              "      <td>...</td>\n",
              "      <td>...</td>\n",
              "      <td>...</td>\n",
              "      <td>...</td>\n",
              "      <td>...</td>\n",
              "      <td>...</td>\n",
              "      <td>...</td>\n",
              "      <td>...</td>\n",
              "    </tr>\n",
              "    <tr>\n",
              "      <th>22407</th>\n",
              "      <td>0LcNMuOiULmxJK3bdHTfDF</td>\n",
              "      <td>Missing You</td>\n",
              "      <td>65.0</td>\n",
              "      <td>214987</td>\n",
              "      <td>0</td>\n",
              "      <td>7gAppWoH7pcYmphCVTXkzs</td>\n",
              "      <td>2019-04-19</td>\n",
              "      <td>0.537</td>\n",
              "      <td>0.6470</td>\n",
              "      <td>2</td>\n",
              "      <td>-7.370</td>\n",
              "      <td>0.0519</td>\n",
              "      <td>0.1680</td>\n",
              "      <td>0.000000</td>\n",
              "      <td>0.1080</td>\n",
              "      <td>0.5310</td>\n",
              "      <td>79.770</td>\n",
              "    </tr>\n",
              "    <tr>\n",
              "      <th>22408</th>\n",
              "      <td>1uviKYHZuM4uINK33F7sCt</td>\n",
              "      <td>Fix It to Break It</td>\n",
              "      <td>70.0</td>\n",
              "      <td>198799</td>\n",
              "      <td>0</td>\n",
              "      <td>7okSU80WTrn4LXlyXYbX3P</td>\n",
              "      <td>2020-03-27</td>\n",
              "      <td>0.493</td>\n",
              "      <td>0.4610</td>\n",
              "      <td>2</td>\n",
              "      <td>-8.524</td>\n",
              "      <td>0.0456</td>\n",
              "      <td>0.8450</td>\n",
              "      <td>0.000000</td>\n",
              "      <td>0.1150</td>\n",
              "      <td>0.3500</td>\n",
              "      <td>51.414</td>\n",
              "    </tr>\n",
              "    <tr>\n",
              "      <th>22409</th>\n",
              "      <td>None</td>\n",
              "      <td>Lotus Inn</td>\n",
              "      <td>63.0</td>\n",
              "      <td>195868</td>\n",
              "      <td>0</td>\n",
              "      <td>2jnIB6XdLvnJUeNTy5A0J2</td>\n",
              "      <td>2020-12-04</td>\n",
              "      <td>0.578</td>\n",
              "      <td>0.7400</td>\n",
              "      <td>2</td>\n",
              "      <td>-5.080</td>\n",
              "      <td>0.0721</td>\n",
              "      <td>0.0119</td>\n",
              "      <td>0.000000</td>\n",
              "      <td>0.1800</td>\n",
              "      <td>0.4950</td>\n",
              "      <td>155.984</td>\n",
              "    </tr>\n",
              "    <tr>\n",
              "      <th>22410</th>\n",
              "      <td>27kcZEJvhkb1rzZS9gCpdA</td>\n",
              "      <td>None</td>\n",
              "      <td>67.0</td>\n",
              "      <td>202355</td>\n",
              "      <td>0</td>\n",
              "      <td>7okSU80WTrn4LXlyXYbX3P</td>\n",
              "      <td>2020-11-27</td>\n",
              "      <td>0.590</td>\n",
              "      <td>0.4430</td>\n",
              "      <td>0</td>\n",
              "      <td>-5.662</td>\n",
              "      <td>0.0722</td>\n",
              "      <td>0.6180</td>\n",
              "      <td>0.000000</td>\n",
              "      <td>0.1100</td>\n",
              "      <td>0.3420</td>\n",
              "      <td>149.447</td>\n",
              "    </tr>\n",
              "    <tr>\n",
              "      <th>22411</th>\n",
              "      <td>27Y1N4Q4U3EfDU5Ubw8ws2</td>\n",
              "      <td>What They'll Say About Us</td>\n",
              "      <td>70.0</td>\n",
              "      <td>187601</td>\n",
              "      <td>0</td>\n",
              "      <td>None</td>\n",
              "      <td>2020-09-02</td>\n",
              "      <td>0.535</td>\n",
              "      <td>0.3140</td>\n",
              "      <td>7</td>\n",
              "      <td>-12.823</td>\n",
              "      <td>0.0408</td>\n",
              "      <td>0.8950</td>\n",
              "      <td>0.000150</td>\n",
              "      <td>0.0874</td>\n",
              "      <td>0.0663</td>\n",
              "      <td>145.095</td>\n",
              "    </tr>\n",
              "  </tbody>\n",
              "</table>\n",
              "<p>22412 rows × 17 columns</p>\n",
              "</div>"
            ],
            "text/plain": [
              "                           id  \\\n",
              "0      0RNxWy0PC3AyH4ThH3aGK6   \n",
              "1      2W889aLIKxULEefrleFBFI   \n",
              "2      4Pnzw1nLOpDNV6MKI5ueIR   \n",
              "3      7GLmfKOe5BfOXk7334DoKt   \n",
              "4      6kD1SNGPkfX9LwaGd1FG92   \n",
              "...                       ...   \n",
              "22407  0LcNMuOiULmxJK3bdHTfDF   \n",
              "22408  1uviKYHZuM4uINK33F7sCt   \n",
              "22409                    None   \n",
              "22410  27kcZEJvhkb1rzZS9gCpdA   \n",
              "22411  27Y1N4Q4U3EfDU5Ubw8ws2   \n",
              "\n",
              "                                                    name  popularity  \\\n",
              "0                                                   None         NaN   \n",
              "1                               Someone to Watch Over Me        54.0   \n",
              "2                                                   None        55.0   \n",
              "3      Saturday Night (Is The Loneliest Night In The ...         NaN   \n",
              "4                 Put Your Dreams Away (For Another Day)         NaN   \n",
              "...                                                  ...         ...   \n",
              "22407                                        Missing You        65.0   \n",
              "22408                                 Fix It to Break It        70.0   \n",
              "22409                                          Lotus Inn        63.0   \n",
              "22410                                               None        67.0   \n",
              "22411                          What They'll Say About Us        70.0   \n",
              "\n",
              "       duration_ms  explicit               id_artist release_date  \\\n",
              "0           201467         0  19eLuQmk9aCobbVDHc6eek         1929   \n",
              "1           198000         0  1Mxqyy3pSjf8kZZL4QVxS0         1943   \n",
              "2           199000         0  1Mxqyy3pSjf8kZZL4QVxS0         1944   \n",
              "3           163000         0  1Mxqyy3pSjf8kZZL4QVxS0         1944   \n",
              "4           186173         0  1Mxqyy3pSjf8kZZL4QVxS0         1944   \n",
              "...            ...       ...                     ...          ...   \n",
              "22407       214987         0  7gAppWoH7pcYmphCVTXkzs   2019-04-19   \n",
              "22408       198799         0  7okSU80WTrn4LXlyXYbX3P   2020-03-27   \n",
              "22409       195868         0  2jnIB6XdLvnJUeNTy5A0J2   2020-12-04   \n",
              "22410       202355         0  7okSU80WTrn4LXlyXYbX3P   2020-11-27   \n",
              "22411       187601         0                    None   2020-09-02   \n",
              "\n",
              "       danceability  energy  key  loudness  speechiness  acousticness  \\\n",
              "0             0.673  0.3770    0   -14.141       0.0697        0.5860   \n",
              "1             0.204  0.1510    2   -17.842       0.0418        0.9470   \n",
              "2             0.295  0.0826    1   -19.569       0.0367        0.9840   \n",
              "3             0.561  0.3350    9   -11.093       0.0499        0.8400   \n",
              "4             0.197  0.0546    1   -22.411       0.0346        0.9500   \n",
              "...             ...     ...  ...       ...          ...           ...   \n",
              "22407         0.537  0.6470    2    -7.370       0.0519        0.1680   \n",
              "22408         0.493  0.4610    2    -8.524       0.0456        0.8450   \n",
              "22409         0.578  0.7400    2    -5.080       0.0721        0.0119   \n",
              "22410         0.590  0.4430    0    -5.662       0.0722        0.6180   \n",
              "22411         0.535  0.3140    7   -12.823       0.0408        0.8950   \n",
              "\n",
              "       instrumentalness  liveness  valence    tempo  \n",
              "0              0.000000    0.3320   0.7130   88.973  \n",
              "1              0.000009    0.3210   0.1340   91.783  \n",
              "2              0.000358    0.1560   0.1690  128.600  \n",
              "3              0.000002    0.7880   0.5900  126.974  \n",
              "4              0.276000    0.1520   0.1000   90.150  \n",
              "...                 ...       ...      ...      ...  \n",
              "22407          0.000000    0.1080   0.5310   79.770  \n",
              "22408          0.000000    0.1150   0.3500   51.414  \n",
              "22409          0.000000    0.1800   0.4950  155.984  \n",
              "22410          0.000000    0.1100   0.3420  149.447  \n",
              "22411          0.000150    0.0874   0.0663  145.095  \n",
              "\n",
              "[22412 rows x 17 columns]"
            ]
          },
          "execution_count": 325,
          "metadata": {},
          "output_type": "execute_result"
        }
      ],
      "source": [
        "tracks_df"
      ]
    },
    {
      "cell_type": "markdown",
      "metadata": {},
      "source": [
        "### 2. Analiza danych"
      ]
    },
    {
      "cell_type": "markdown",
      "metadata": {},
      "source": [
        "#### Zbiór artystów"
      ]
    },
    {
      "cell_type": "markdown",
      "metadata": {},
      "source": [
        "Pierwszą rzeczą w analizie zbioru artystów jest sprawdzenie rozmiaru posiadanych danych, informacji o kolumnach za pomocą funkcji shape i info."
      ]
    },
    {
      "cell_type": "code",
      "execution_count": 326,
      "metadata": {},
      "outputs": [
        {
          "data": {
            "text/plain": [
              "(1667, 3)"
            ]
          },
          "execution_count": 326,
          "metadata": {},
          "output_type": "execute_result"
        }
      ],
      "source": [
        "artists_df.shape"
      ]
    },
    {
      "cell_type": "code",
      "execution_count": 327,
      "metadata": {},
      "outputs": [
        {
          "name": "stdout",
          "output_type": "stream",
          "text": [
            "<class 'pandas.core.frame.DataFrame'>\n",
            "RangeIndex: 1667 entries, 0 to 1666\n",
            "Data columns (total 3 columns):\n",
            " #   Column  Non-Null Count  Dtype \n",
            "---  ------  --------------  ----- \n",
            " 0   id      1667 non-null   object\n",
            " 1   name    1667 non-null   object\n",
            " 2   genres  1339 non-null   object\n",
            "dtypes: object(3)\n",
            "memory usage: 39.2+ KB\n"
          ]
        }
      ],
      "source": [
        "artists_df.info()"
      ]
    },
    {
      "cell_type": "markdown",
      "metadata": {},
      "source": [
        "Użyto także funkcji `describe`, która pozwoli nam użyć metryk celem podsumowania kolumn występujących w DataFramie. Sprawdzono także występujące wartości typu None w danych."
      ]
    },
    {
      "cell_type": "code",
      "execution_count": 328,
      "metadata": {},
      "outputs": [
        {
          "data": {
            "text/html": [
              "<div>\n",
              "<style scoped>\n",
              "    .dataframe tbody tr th:only-of-type {\n",
              "        vertical-align: middle;\n",
              "    }\n",
              "\n",
              "    .dataframe tbody tr th {\n",
              "        vertical-align: top;\n",
              "    }\n",
              "\n",
              "    .dataframe thead th {\n",
              "        text-align: right;\n",
              "    }\n",
              "</style>\n",
              "<table border=\"1\" class=\"dataframe\">\n",
              "  <thead>\n",
              "    <tr style=\"text-align: right;\">\n",
              "      <th></th>\n",
              "      <th>id</th>\n",
              "      <th>name</th>\n",
              "      <th>genres</th>\n",
              "    </tr>\n",
              "  </thead>\n",
              "  <tbody>\n",
              "    <tr>\n",
              "      <th>count</th>\n",
              "      <td>1667</td>\n",
              "      <td>1667</td>\n",
              "      <td>1339</td>\n",
              "    </tr>\n",
              "    <tr>\n",
              "      <th>unique</th>\n",
              "      <td>1347</td>\n",
              "      <td>1667</td>\n",
              "      <td>1118</td>\n",
              "    </tr>\n",
              "    <tr>\n",
              "      <th>top</th>\n",
              "      <td>-1</td>\n",
              "      <td>Lil Nas X</td>\n",
              "      <td>[k-pop, k-pop boy group]</td>\n",
              "    </tr>\n",
              "    <tr>\n",
              "      <th>freq</th>\n",
              "      <td>321</td>\n",
              "      <td>1</td>\n",
              "      <td>11</td>\n",
              "    </tr>\n",
              "  </tbody>\n",
              "</table>\n",
              "</div>"
            ],
            "text/plain": [
              "          id       name                    genres\n",
              "count   1667       1667                      1339\n",
              "unique  1347       1667                      1118\n",
              "top       -1  Lil Nas X  [k-pop, k-pop boy group]\n",
              "freq     321          1                        11"
            ]
          },
          "execution_count": 328,
          "metadata": {},
          "output_type": "execute_result"
        }
      ],
      "source": [
        "artists_df.describe(include=object)"
      ]
    },
    {
      "cell_type": "code",
      "execution_count": 329,
      "metadata": {},
      "outputs": [
        {
          "data": {
            "text/plain": [
              "id          0\n",
              "name        0\n",
              "genres    328\n",
              "dtype: int64"
            ]
          },
          "execution_count": 329,
          "metadata": {},
          "output_type": "execute_result"
        }
      ],
      "source": [
        "artists_df.isnull().sum()"
      ]
    },
    {
      "cell_type": "markdown",
      "metadata": {},
      "source": [
        "Można zauważyć kilka rzeczy na podstawie `describe` i podsumowania wartości None:\n",
        "1. Unikalnych wartości dla kolumny 'id' jest 1347, podczas gdy wszystkich wierszy (oraz wartości dla kolumny 'id') jest 1667. Oznacza to, że prawdopodobnie mamy do czynienia z anomalią/błędem w danych.\n",
        "2. Unikalnych wartości dla kolumny 'genres' jest 1118, a wszystkich wartości 1339, podczas gdy rozmiar DataFrame to 1667 x 3. Oznacza to zarówno możliwe błędy w danych lub inną formę reprezentacji danych niż standardowo jedna wartość w jednej komórce. Na podstawie funkcji `isnull()` wnioskujemy o 328 wartościach typu None w kolumnie 'genres', co łącznie daje nam 1667 wartości.\n",
        "3. Unikalnych wartości dla kolumny 'name' jest 1667 - prawdopodobnie nie mamy tutaj błędów w danych, możliwe problemy z nazwami/imionami artystów w nietypowym systemie kodowania (np.: nazwy artystów w języku chińskim).\n",
        "\n",
        "Sprawdzimy teraz każdą obserwację.\n",
        "Zajmijmy się kolumną 'id'. Sprawdzimy w jakiej formie są dane w tej kolumnie oraz sprawdzimy ewentualne błędy.\n"
      ]
    },
    {
      "cell_type": "code",
      "execution_count": 330,
      "metadata": {},
      "outputs": [
        {
          "data": {
            "text/plain": [
              "0       7jVv8c5Fj3E9VhNjxT4snq\n",
              "1       0xRXCcSX89eobfrshSVdyu\n",
              "2                           -1\n",
              "3       4f7KfxeHq9BiylGmyXepGt\n",
              "4                           -1\n",
              "                 ...          \n",
              "1662    6AMd49uBDJfhf30Ak2QR5s\n",
              "1663    6qgnBH6iDM91ipVXv28OMu\n",
              "1664    5q8HGNo0BjLWaTAhRtbwxa\n",
              "1665                        -1\n",
              "1666    46MWeeHNVMYRIIofQBEX98\n",
              "Name: id, Length: 1667, dtype: object"
            ]
          },
          "execution_count": 330,
          "metadata": {},
          "output_type": "execute_result"
        }
      ],
      "source": [
        "artists_df['id']"
      ]
    },
    {
      "cell_type": "code",
      "execution_count": 331,
      "metadata": {},
      "outputs": [
        {
          "data": {
            "text/plain": [
              "-1    320\n",
              "Name: id, dtype: int64"
            ]
          },
          "execution_count": 331,
          "metadata": {},
          "output_type": "execute_result"
        }
      ],
      "source": [
        "artists_df[artists_df['id'].duplicated()]['id'].value_counts()"
      ]
    },
    {
      "cell_type": "code",
      "execution_count": 332,
      "metadata": {},
      "outputs": [
        {
          "data": {
            "text/plain": [
              "-1                        321\n",
              "7jVv8c5Fj3E9VhNjxT4snq      1\n",
              "1moxjboGR7GNWYIMWsRjgG      1\n",
              "49tQo2QULno7gxHutgccqF      1\n",
              "37M5pPGs6V1fchFJSgCguX      1\n",
              "Name: id, dtype: int64"
            ]
          },
          "execution_count": 332,
          "metadata": {},
          "output_type": "execute_result"
        }
      ],
      "source": [
        "artists_df[\"id\"].value_counts().head()"
      ]
    },
    {
      "cell_type": "markdown",
      "metadata": {},
      "source": [
        "Pierwsze sprawdzenie już daje nam możliwą przyczynę, błąd danych w kolumnie 'id'. Policzyliśmy występujące duplikaty w wartościach i wyświetliliśmy je. Mamy 320 wartości \"-1\" w kolumnie 'id'. Stąd wcześniej widzieliśmy jedynie 1347 unikalnych wartości w kolumnie 'id'. Łącznie daję nam 1667 wartości, tyle ile mieliśmy wierszy w DataFrame.\n",
        "\n",
        "Z punktu widzenia modelowania, jest to istotny błąd w danych. Nie wiemy wtedy, jakie piosenki należą do danego artysty w zbiorze danych tracks."
      ]
    },
    {
      "cell_type": "markdown",
      "metadata": {},
      "source": [
        "Zajmijmy się teraz drugą obserwacją i sprawdźmy kolumnę z gatunkami artystów."
      ]
    },
    {
      "cell_type": "code",
      "execution_count": 333,
      "metadata": {},
      "outputs": [
        {
          "data": {
            "text/html": [
              "<div>\n",
              "<style scoped>\n",
              "    .dataframe tbody tr th:only-of-type {\n",
              "        vertical-align: middle;\n",
              "    }\n",
              "\n",
              "    .dataframe tbody tr th {\n",
              "        vertical-align: top;\n",
              "    }\n",
              "\n",
              "    .dataframe thead th {\n",
              "        text-align: right;\n",
              "    }\n",
              "</style>\n",
              "<table border=\"1\" class=\"dataframe\">\n",
              "  <thead>\n",
              "    <tr style=\"text-align: right;\">\n",
              "      <th></th>\n",
              "      <th>id</th>\n",
              "      <th>name</th>\n",
              "      <th>genres</th>\n",
              "    </tr>\n",
              "  </thead>\n",
              "  <tbody>\n",
              "    <tr>\n",
              "      <th>6</th>\n",
              "      <td>25UNJbwGZSQKvz5cPLWlv3</td>\n",
              "      <td>Los Dos Carnales</td>\n",
              "      <td>None</td>\n",
              "    </tr>\n",
              "    <tr>\n",
              "      <th>10</th>\n",
              "      <td>0n6sKrG0xKAf8xmdqeNGke</td>\n",
              "      <td>Los Legendarios</td>\n",
              "      <td>None</td>\n",
              "    </tr>\n",
              "    <tr>\n",
              "      <th>11</th>\n",
              "      <td>0IxgA9wO4Op3CSnPlhfwV1</td>\n",
              "      <td>Kevin</td>\n",
              "      <td>None</td>\n",
              "    </tr>\n",
              "    <tr>\n",
              "      <th>18</th>\n",
              "      <td>0vLsqW05dyLvjuKKftAEGA</td>\n",
              "      <td>Die drei ??? Kids</td>\n",
              "      <td>None</td>\n",
              "    </tr>\n",
              "    <tr>\n",
              "      <th>29</th>\n",
              "      <td>-1</td>\n",
              "      <td>CORPSE</td>\n",
              "      <td>None</td>\n",
              "    </tr>\n",
              "    <tr>\n",
              "      <th>...</th>\n",
              "      <td>...</td>\n",
              "      <td>...</td>\n",
              "      <td>...</td>\n",
              "    </tr>\n",
              "    <tr>\n",
              "      <th>1627</th>\n",
              "      <td>3YQKmKGau1PzlVlkL1iodx</td>\n",
              "      <td>Twenty One Pilots</td>\n",
              "      <td>None</td>\n",
              "    </tr>\n",
              "    <tr>\n",
              "      <th>1631</th>\n",
              "      <td>4oUHIQIBe0LHzYfvXNW4QM</td>\n",
              "      <td>Morgan Wallen</td>\n",
              "      <td>None</td>\n",
              "    </tr>\n",
              "    <tr>\n",
              "      <th>1636</th>\n",
              "      <td>3Y2MLcrD3ZQXRXmtn4fZQx</td>\n",
              "      <td>SpotemGottem</td>\n",
              "      <td>None</td>\n",
              "    </tr>\n",
              "    <tr>\n",
              "      <th>1643</th>\n",
              "      <td>55fhWPvDiMpLnE4ZzNXZyW</td>\n",
              "      <td>Noah Cyrus</td>\n",
              "      <td>None</td>\n",
              "    </tr>\n",
              "    <tr>\n",
              "      <th>1645</th>\n",
              "      <td>7rkW85dBwwrJtlHRDkJDAC</td>\n",
              "      <td>NAV</td>\n",
              "      <td>None</td>\n",
              "    </tr>\n",
              "  </tbody>\n",
              "</table>\n",
              "<p>328 rows × 3 columns</p>\n",
              "</div>"
            ],
            "text/plain": [
              "                          id               name genres\n",
              "6     25UNJbwGZSQKvz5cPLWlv3   Los Dos Carnales   None\n",
              "10    0n6sKrG0xKAf8xmdqeNGke    Los Legendarios   None\n",
              "11    0IxgA9wO4Op3CSnPlhfwV1              Kevin   None\n",
              "18    0vLsqW05dyLvjuKKftAEGA  Die drei ??? Kids   None\n",
              "29                        -1             CORPSE   None\n",
              "...                      ...                ...    ...\n",
              "1627  3YQKmKGau1PzlVlkL1iodx  Twenty One Pilots   None\n",
              "1631  4oUHIQIBe0LHzYfvXNW4QM      Morgan Wallen   None\n",
              "1636  3Y2MLcrD3ZQXRXmtn4fZQx       SpotemGottem   None\n",
              "1643  55fhWPvDiMpLnE4ZzNXZyW         Noah Cyrus   None\n",
              "1645  7rkW85dBwwrJtlHRDkJDAC                NAV   None\n",
              "\n",
              "[328 rows x 3 columns]"
            ]
          },
          "execution_count": 333,
          "metadata": {},
          "output_type": "execute_result"
        }
      ],
      "source": [
        "artists_df[artists_df['genres'].isna()]"
      ]
    },
    {
      "cell_type": "markdown",
      "metadata": {},
      "source": [
        "Mamy 328 wartości None, które są poważnymi błędami w danych. Nie jesteśmy wtedy w stanie użyć takich danych do dalszej analizy związanej z piosenkami oraz artystami, nie mając gatunków przypisanych do artystów.\n",
        "Dla dalszej analizy danych związanych z gatunkami, usunięto 328 rekordów, które są typu None. "
      ]
    },
    {
      "cell_type": "code",
      "execution_count": 334,
      "metadata": {},
      "outputs": [],
      "source": [
        "artists_df_genres = artists_df[~artists_df['genres'].isna()]"
      ]
    },
    {
      "cell_type": "code",
      "execution_count": 335,
      "metadata": {},
      "outputs": [],
      "source": [
        "artists_df_genres.reset_index(inplace=True)"
      ]
    },
    {
      "cell_type": "code",
      "execution_count": 336,
      "metadata": {},
      "outputs": [
        {
          "data": {
            "text/plain": [
              "(1339, 4)"
            ]
          },
          "execution_count": 336,
          "metadata": {},
          "output_type": "execute_result"
        }
      ],
      "source": [
        "artists_df_genres.shape"
      ]
    },
    {
      "cell_type": "code",
      "execution_count": 337,
      "metadata": {},
      "outputs": [
        {
          "data": {
            "text/html": [
              "<div>\n",
              "<style scoped>\n",
              "    .dataframe tbody tr th:only-of-type {\n",
              "        vertical-align: middle;\n",
              "    }\n",
              "\n",
              "    .dataframe tbody tr th {\n",
              "        vertical-align: top;\n",
              "    }\n",
              "\n",
              "    .dataframe thead th {\n",
              "        text-align: right;\n",
              "    }\n",
              "</style>\n",
              "<table border=\"1\" class=\"dataframe\">\n",
              "  <thead>\n",
              "    <tr style=\"text-align: right;\">\n",
              "      <th></th>\n",
              "      <th>index</th>\n",
              "    </tr>\n",
              "  </thead>\n",
              "  <tbody>\n",
              "    <tr>\n",
              "      <th>count</th>\n",
              "      <td>1339.000000</td>\n",
              "    </tr>\n",
              "    <tr>\n",
              "      <th>mean</th>\n",
              "      <td>833.455564</td>\n",
              "    </tr>\n",
              "    <tr>\n",
              "      <th>std</th>\n",
              "      <td>483.064750</td>\n",
              "    </tr>\n",
              "    <tr>\n",
              "      <th>min</th>\n",
              "      <td>0.000000</td>\n",
              "    </tr>\n",
              "    <tr>\n",
              "      <th>25%</th>\n",
              "      <td>415.000000</td>\n",
              "    </tr>\n",
              "    <tr>\n",
              "      <th>50%</th>\n",
              "      <td>830.000000</td>\n",
              "    </tr>\n",
              "    <tr>\n",
              "      <th>75%</th>\n",
              "      <td>1257.500000</td>\n",
              "    </tr>\n",
              "    <tr>\n",
              "      <th>max</th>\n",
              "      <td>1666.000000</td>\n",
              "    </tr>\n",
              "  </tbody>\n",
              "</table>\n",
              "</div>"
            ],
            "text/plain": [
              "             index\n",
              "count  1339.000000\n",
              "mean    833.455564\n",
              "std     483.064750\n",
              "min       0.000000\n",
              "25%     415.000000\n",
              "50%     830.000000\n",
              "75%    1257.500000\n",
              "max    1666.000000"
            ]
          },
          "execution_count": 337,
          "metadata": {},
          "output_type": "execute_result"
        }
      ],
      "source": [
        "artists_df_genres.describe()"
      ]
    },
    {
      "cell_type": "code",
      "execution_count": 338,
      "metadata": {},
      "outputs": [],
      "source": [
        "# sprawdzenie czy listy w kolumnie 'genres' są listami, a nie np.: stringami\n",
        "for i, l in enumerate(artists_df_genres[\"genres\"]):\n",
        "    if not isinstance(l, list):\n",
        "        print(\"list\",i,\"is\",type(l))"
      ]
    },
    {
      "cell_type": "code",
      "execution_count": 339,
      "metadata": {},
      "outputs": [],
      "source": [
        "def check_list(_list):\n",
        "    for element in _list:\n",
        "        if not isinstance(element, str):\n",
        "            return True\n",
        "        else:\n",
        "            return False"
      ]
    },
    {
      "cell_type": "code",
      "execution_count": 340,
      "metadata": {},
      "outputs": [
        {
          "data": {
            "text/html": [
              "<div>\n",
              "<style scoped>\n",
              "    .dataframe tbody tr th:only-of-type {\n",
              "        vertical-align: middle;\n",
              "    }\n",
              "\n",
              "    .dataframe tbody tr th {\n",
              "        vertical-align: top;\n",
              "    }\n",
              "\n",
              "    .dataframe thead th {\n",
              "        text-align: right;\n",
              "    }\n",
              "</style>\n",
              "<table border=\"1\" class=\"dataframe\">\n",
              "  <thead>\n",
              "    <tr style=\"text-align: right;\">\n",
              "      <th></th>\n",
              "      <th>index</th>\n",
              "      <th>id</th>\n",
              "      <th>name</th>\n",
              "      <th>genres</th>\n",
              "    </tr>\n",
              "  </thead>\n",
              "  <tbody>\n",
              "  </tbody>\n",
              "</table>\n",
              "</div>"
            ],
            "text/plain": [
              "Empty DataFrame\n",
              "Columns: [index, id, name, genres]\n",
              "Index: []"
            ]
          },
          "execution_count": 340,
          "metadata": {},
          "output_type": "execute_result"
        }
      ],
      "source": [
        "artists_df_genres[artists_df_genres['genres'].apply(check_list)]"
      ]
    },
    {
      "cell_type": "markdown",
      "metadata": {},
      "source": [
        "Mamy do czynienia z kolumną, w której wartości są listami, w których mamy elementy typu string. Wiemy, że usunęliśmy 328 rekordów związanych z wartością None w kolumnie 'genres'. Jest to jednak bezpośrednie sprawdzenie, że listy z gatunkami nie ma w danej komórce, stąd dodatkowo sprawdzamy, czy każdy element w liście jest typu string.\n",
        "Sprawdźmy teraz, jakie gatunki mamy w 1339 wierszach, które nam pozostały."
      ]
    },
    {
      "cell_type": "code",
      "execution_count": 341,
      "metadata": {},
      "outputs": [],
      "source": [
        "def flatten_series(series):\n",
        "    return pd.Series([x for _list in series for x in _list])"
      ]
    },
    {
      "cell_type": "code",
      "execution_count": 342,
      "metadata": {},
      "outputs": [],
      "source": [
        "flatten_genres = flatten_series(artists_df_genres['genres'])"
      ]
    },
    {
      "cell_type": "code",
      "execution_count": 343,
      "metadata": {},
      "outputs": [
        {
          "data": {
            "text/plain": [
              "5545"
            ]
          },
          "execution_count": 343,
          "metadata": {},
          "output_type": "execute_result"
        }
      ],
      "source": [
        "flatten_genres_size = flatten_genres.size\n",
        "flatten_genres_size"
      ]
    },
    {
      "cell_type": "code",
      "execution_count": 344,
      "metadata": {},
      "outputs": [
        {
          "data": {
            "text/plain": [
              "pop                 281\n",
              "dance pop           206\n",
              "pop rap             141\n",
              "rap                 132\n",
              "post-teen pop       128\n",
              "                   ... \n",
              "uk americana          1\n",
              "modern folk rock      1\n",
              "merseybeat            1\n",
              "panamanian pop        1\n",
              "deep ccm              1\n",
              "Length: 774, dtype: int64"
            ]
          },
          "execution_count": 344,
          "metadata": {},
          "output_type": "execute_result"
        }
      ],
      "source": [
        "flatten_genres.value_counts()"
      ]
    },
    {
      "cell_type": "code",
      "execution_count": 345,
      "metadata": {},
      "outputs": [
        {
          "data": {
            "text/plain": [
              "pop              281\n",
              "dance pop        206\n",
              "pop rap          141\n",
              "rap              132\n",
              "post-teen pop    128\n",
              "rock             111\n",
              "latin            105\n",
              "hip hop          103\n",
              "trap              83\n",
              "trap latino       83\n",
              "dtype: int64"
            ]
          },
          "execution_count": 345,
          "metadata": {},
          "output_type": "execute_result"
        }
      ],
      "source": [
        "flatten_genres.value_counts().head(10)"
      ]
    },
    {
      "cell_type": "code",
      "execution_count": 346,
      "metadata": {},
      "outputs": [
        {
          "data": {
            "text/plain": [
              "331"
            ]
          },
          "execution_count": 346,
          "metadata": {},
          "output_type": "execute_result"
        }
      ],
      "source": [
        "sum(flatten_genres.value_counts() == 1)"
      ]
    },
    {
      "cell_type": "code",
      "execution_count": 347,
      "metadata": {},
      "outputs": [
        {
          "data": {
            "text/plain": [
              "132"
            ]
          },
          "execution_count": 347,
          "metadata": {},
          "output_type": "execute_result"
        }
      ],
      "source": [
        "sum(flatten_genres.value_counts() == 2)"
      ]
    },
    {
      "cell_type": "code",
      "execution_count": 348,
      "metadata": {},
      "outputs": [
        {
          "data": {
            "text/plain": [
              "71"
            ]
          },
          "execution_count": 348,
          "metadata": {},
          "output_type": "execute_result"
        }
      ],
      "source": [
        "sum(flatten_genres.value_counts() == 3)"
      ]
    },
    {
      "cell_type": "code",
      "execution_count": 349,
      "metadata": {},
      "outputs": [
        {
          "data": {
            "text/plain": [
              "33"
            ]
          },
          "execution_count": 349,
          "metadata": {},
          "output_type": "execute_result"
        }
      ],
      "source": [
        "sum(flatten_genres.value_counts() == 4)"
      ]
    },
    {
      "cell_type": "code",
      "execution_count": 350,
      "metadata": {},
      "outputs": [],
      "source": [
        "temp = flatten_genres.value_counts() == 1"
      ]
    },
    {
      "cell_type": "code",
      "execution_count": 351,
      "metadata": {},
      "outputs": [
        {
          "data": {
            "text/plain": [
              "Index(['chicano rap', 'destroy techno', 'australian psych', 'future garage',\n",
              "       'deep underground hip hop', 'japanese soul', 'moombahton',\n",
              "       'celtic rock', 'south african house', 'bow pop',\n",
              "       ...\n",
              "       'new age piano', 'reading', 'future house', 'german romanticism',\n",
              "       'kansas city hip hop', 'uk americana', 'modern folk rock', 'merseybeat',\n",
              "       'panamanian pop', 'deep ccm'],\n",
              "      dtype='object', length=331)"
            ]
          },
          "execution_count": 351,
          "metadata": {},
          "output_type": "execute_result"
        }
      ],
      "source": [
        "temp[temp].index"
      ]
    },
    {
      "cell_type": "code",
      "execution_count": 352,
      "metadata": {},
      "outputs": [
        {
          "data": {
            "text/plain": [
              "False    5472\n",
              "True       73\n",
              "dtype: int64"
            ]
          },
          "execution_count": 352,
          "metadata": {},
          "output_type": "execute_result"
        }
      ],
      "source": [
        "flatten_genres.isin(['pop dance']).value_counts()"
      ]
    },
    {
      "cell_type": "code",
      "execution_count": 353,
      "metadata": {},
      "outputs": [
        {
          "data": {
            "text/plain": [
              "False    5339\n",
              "True      206\n",
              "dtype: int64"
            ]
          },
          "execution_count": 353,
          "metadata": {},
          "output_type": "execute_result"
        }
      ],
      "source": [
        "flatten_genres.isin(['dance pop']).value_counts()"
      ]
    },
    {
      "cell_type": "markdown",
      "metadata": {},
      "source": [
        "Możemy zauważyć, że w gatunkach mamy bardzo mało gatunków, które są jednoznacznie określone. Oznacza to, że istnieje wiele podgatunków, które zaliczają się do jednego gatunku. Na podstawie obecnych danych, trzeba pogrupować je w jednolite gatunki, tj. przykładowo pop, dance pop, pop rap powinny tworzyć jeden gatunek pop - bez takiego przypisywania podgatunków do gatunków mamy bardzo mało informacji o podgatunkach występujących w liczbie np.: 1, 2, 3, 4 (jest ich łącznie 567 w porównaniu do 5545 wszystkich gatunków).\n",
        "\n",
        "Widzimy jednak, że mamy przeważającą liczbę podgatunków związanych z gatunkiem pop, 4 na 5 najczęściej występujących. Jest to w tym przypadku klasa większościowa, która może negatywnie wpłynąć na modelowanie.\n",
        "\n",
        " Problemem są podgatunki takie jak np.: pop rap, ponieważ przy użyciu heurystyk: przykładowo sprawdzania czy w gatunku istnieje string \"pop\" lub \"rap\" i na tej podstawie dodawania podgatunku do gatunku, mielibyśmy sytuację, w której podgatunek pop rap należy zarówno do gatunku pop jak i rap. Mamy także problem w przypadku bezpośrednich heurystyk z podgatunkami, które w rzeczywistości oznaczają jeden podgatunek, jak np.: \"dance pop\" jest takim samym podgatunkiem jak \"pop dance\".\n",
        "\n",
        " Jedną z możliwości jest zastosowanie pierwszego modelu związanego z metodami asocjacyjnymi. Dzięki nim, będziemy w stanie zredukować liczbę występujących podgatunków i wprowadzić kilkanaście głównych gatunków do kolejnego modelu.\n",
        "\n",
        " Nie zauważono błędów związanych z kodowaniem nazw w utf-8. Mamy ich 99 w kolumnie \"name\", ale są poprawnie wyświetlane.\n",
        "\n"
      ]
    },
    {
      "cell_type": "markdown",
      "metadata": {},
      "source": [
        "#### Zbiór utworów"
      ]
    },
    {
      "cell_type": "markdown",
      "metadata": {},
      "source": [
        "Pierwszą rzeczą w analizie zbiorze piosenek jest sprawdzenie rozmiaru posiadanych danych, informacji o kolumnach za pomocą funkcji shape i info."
      ]
    },
    {
      "cell_type": "code",
      "execution_count": 354,
      "metadata": {},
      "outputs": [
        {
          "data": {
            "text/plain": [
              "(22412, 17)"
            ]
          },
          "execution_count": 354,
          "metadata": {},
          "output_type": "execute_result"
        }
      ],
      "source": [
        "tracks_df.shape"
      ]
    },
    {
      "cell_type": "code",
      "execution_count": 355,
      "metadata": {},
      "outputs": [
        {
          "name": "stdout",
          "output_type": "stream",
          "text": [
            "<class 'pandas.core.frame.DataFrame'>\n",
            "RangeIndex: 22412 entries, 0 to 22411\n",
            "Data columns (total 17 columns):\n",
            " #   Column            Non-Null Count  Dtype  \n",
            "---  ------            --------------  -----  \n",
            " 0   id                17932 non-null  object \n",
            " 1   name              17869 non-null  object \n",
            " 2   popularity        17976 non-null  float64\n",
            " 3   duration_ms       22412 non-null  int64  \n",
            " 4   explicit          22412 non-null  int64  \n",
            " 5   id_artist         17945 non-null  object \n",
            " 6   release_date      22412 non-null  object \n",
            " 7   danceability      22412 non-null  float64\n",
            " 8   energy            22412 non-null  float64\n",
            " 9   key               22412 non-null  int64  \n",
            " 10  loudness          22412 non-null  float64\n",
            " 11  speechiness       22412 non-null  float64\n",
            " 12  acousticness      22412 non-null  float64\n",
            " 13  instrumentalness  22412 non-null  float64\n",
            " 14  liveness          22412 non-null  float64\n",
            " 15  valence           22412 non-null  float64\n",
            " 16  tempo             22412 non-null  float64\n",
            "dtypes: float64(10), int64(3), object(4)\n",
            "memory usage: 2.9+ MB\n"
          ]
        }
      ],
      "source": [
        "tracks_df.info()"
      ]
    },
    {
      "cell_type": "code",
      "execution_count": 356,
      "metadata": {},
      "outputs": [
        {
          "data": {
            "text/html": [
              "<div>\n",
              "<style scoped>\n",
              "    .dataframe tbody tr th:only-of-type {\n",
              "        vertical-align: middle;\n",
              "    }\n",
              "\n",
              "    .dataframe tbody tr th {\n",
              "        vertical-align: top;\n",
              "    }\n",
              "\n",
              "    .dataframe thead th {\n",
              "        text-align: right;\n",
              "    }\n",
              "</style>\n",
              "<table border=\"1\" class=\"dataframe\">\n",
              "  <thead>\n",
              "    <tr style=\"text-align: right;\">\n",
              "      <th></th>\n",
              "      <th>popularity</th>\n",
              "      <th>duration_ms</th>\n",
              "      <th>explicit</th>\n",
              "      <th>danceability</th>\n",
              "      <th>energy</th>\n",
              "      <th>key</th>\n",
              "      <th>loudness</th>\n",
              "      <th>speechiness</th>\n",
              "      <th>acousticness</th>\n",
              "      <th>instrumentalness</th>\n",
              "      <th>liveness</th>\n",
              "      <th>valence</th>\n",
              "      <th>tempo</th>\n",
              "    </tr>\n",
              "  </thead>\n",
              "  <tbody>\n",
              "    <tr>\n",
              "      <th>count</th>\n",
              "      <td>17976.000000</td>\n",
              "      <td>2.241200e+04</td>\n",
              "      <td>22412.000000</td>\n",
              "      <td>22412.000000</td>\n",
              "      <td>22412.000000</td>\n",
              "      <td>22412.000000</td>\n",
              "      <td>22412.000000</td>\n",
              "      <td>22412.000000</td>\n",
              "      <td>22412.000000</td>\n",
              "      <td>22412.000000</td>\n",
              "      <td>22412.000000</td>\n",
              "      <td>22412.000000</td>\n",
              "      <td>22412.000000</td>\n",
              "    </tr>\n",
              "    <tr>\n",
              "      <th>mean</th>\n",
              "      <td>61.403204</td>\n",
              "      <td>2.301383e+05</td>\n",
              "      <td>0.166607</td>\n",
              "      <td>0.599096</td>\n",
              "      <td>0.648017</td>\n",
              "      <td>5.278824</td>\n",
              "      <td>-7.196227</td>\n",
              "      <td>0.082914</td>\n",
              "      <td>0.267758</td>\n",
              "      <td>0.040220</td>\n",
              "      <td>0.193141</td>\n",
              "      <td>0.518000</td>\n",
              "      <td>121.911945</td>\n",
              "    </tr>\n",
              "    <tr>\n",
              "      <th>std</th>\n",
              "      <td>8.063571</td>\n",
              "      <td>7.209562e+04</td>\n",
              "      <td>0.372633</td>\n",
              "      <td>0.158259</td>\n",
              "      <td>0.209577</td>\n",
              "      <td>3.558813</td>\n",
              "      <td>3.738098</td>\n",
              "      <td>0.089317</td>\n",
              "      <td>0.276111</td>\n",
              "      <td>0.152828</td>\n",
              "      <td>0.167943</td>\n",
              "      <td>0.244477</td>\n",
              "      <td>29.615254</td>\n",
              "    </tr>\n",
              "    <tr>\n",
              "      <th>min</th>\n",
              "      <td>51.000000</td>\n",
              "      <td>3.062200e+04</td>\n",
              "      <td>0.000000</td>\n",
              "      <td>0.000000</td>\n",
              "      <td>0.000103</td>\n",
              "      <td>0.000000</td>\n",
              "      <td>-44.410000</td>\n",
              "      <td>0.000000</td>\n",
              "      <td>0.000001</td>\n",
              "      <td>0.000000</td>\n",
              "      <td>0.012000</td>\n",
              "      <td>0.000000</td>\n",
              "      <td>0.000000</td>\n",
              "    </tr>\n",
              "    <tr>\n",
              "      <th>25%</th>\n",
              "      <td>55.000000</td>\n",
              "      <td>1.914930e+05</td>\n",
              "      <td>0.000000</td>\n",
              "      <td>0.495000</td>\n",
              "      <td>0.508000</td>\n",
              "      <td>2.000000</td>\n",
              "      <td>-8.614500</td>\n",
              "      <td>0.033900</td>\n",
              "      <td>0.029800</td>\n",
              "      <td>0.000000</td>\n",
              "      <td>0.094400</td>\n",
              "      <td>0.325000</td>\n",
              "      <td>97.988000</td>\n",
              "    </tr>\n",
              "    <tr>\n",
              "      <th>50%</th>\n",
              "      <td>60.000000</td>\n",
              "      <td>2.206670e+05</td>\n",
              "      <td>0.000000</td>\n",
              "      <td>0.608000</td>\n",
              "      <td>0.672000</td>\n",
              "      <td>5.000000</td>\n",
              "      <td>-6.393000</td>\n",
              "      <td>0.046300</td>\n",
              "      <td>0.165000</td>\n",
              "      <td>0.000003</td>\n",
              "      <td>0.125000</td>\n",
              "      <td>0.512000</td>\n",
              "      <td>120.041000</td>\n",
              "    </tr>\n",
              "    <tr>\n",
              "      <th>75%</th>\n",
              "      <td>67.000000</td>\n",
              "      <td>2.562400e+05</td>\n",
              "      <td>0.000000</td>\n",
              "      <td>0.715000</td>\n",
              "      <td>0.816000</td>\n",
              "      <td>8.000000</td>\n",
              "      <td>-4.850000</td>\n",
              "      <td>0.086000</td>\n",
              "      <td>0.455000</td>\n",
              "      <td>0.000523</td>\n",
              "      <td>0.240000</td>\n",
              "      <td>0.713000</td>\n",
              "      <td>140.078000</td>\n",
              "    </tr>\n",
              "    <tr>\n",
              "      <th>max</th>\n",
              "      <td>99.000000</td>\n",
              "      <td>4.120258e+06</td>\n",
              "      <td>1.000000</td>\n",
              "      <td>0.980000</td>\n",
              "      <td>0.999000</td>\n",
              "      <td>11.000000</td>\n",
              "      <td>0.642000</td>\n",
              "      <td>0.944000</td>\n",
              "      <td>0.996000</td>\n",
              "      <td>0.998000</td>\n",
              "      <td>0.997000</td>\n",
              "      <td>0.991000</td>\n",
              "      <td>220.099000</td>\n",
              "    </tr>\n",
              "  </tbody>\n",
              "</table>\n",
              "</div>"
            ],
            "text/plain": [
              "         popularity   duration_ms      explicit  danceability        energy  \\\n",
              "count  17976.000000  2.241200e+04  22412.000000  22412.000000  22412.000000   \n",
              "mean      61.403204  2.301383e+05      0.166607      0.599096      0.648017   \n",
              "std        8.063571  7.209562e+04      0.372633      0.158259      0.209577   \n",
              "min       51.000000  3.062200e+04      0.000000      0.000000      0.000103   \n",
              "25%       55.000000  1.914930e+05      0.000000      0.495000      0.508000   \n",
              "50%       60.000000  2.206670e+05      0.000000      0.608000      0.672000   \n",
              "75%       67.000000  2.562400e+05      0.000000      0.715000      0.816000   \n",
              "max       99.000000  4.120258e+06      1.000000      0.980000      0.999000   \n",
              "\n",
              "                key      loudness   speechiness  acousticness  \\\n",
              "count  22412.000000  22412.000000  22412.000000  22412.000000   \n",
              "mean       5.278824     -7.196227      0.082914      0.267758   \n",
              "std        3.558813      3.738098      0.089317      0.276111   \n",
              "min        0.000000    -44.410000      0.000000      0.000001   \n",
              "25%        2.000000     -8.614500      0.033900      0.029800   \n",
              "50%        5.000000     -6.393000      0.046300      0.165000   \n",
              "75%        8.000000     -4.850000      0.086000      0.455000   \n",
              "max       11.000000      0.642000      0.944000      0.996000   \n",
              "\n",
              "       instrumentalness      liveness       valence         tempo  \n",
              "count      22412.000000  22412.000000  22412.000000  22412.000000  \n",
              "mean           0.040220      0.193141      0.518000    121.911945  \n",
              "std            0.152828      0.167943      0.244477     29.615254  \n",
              "min            0.000000      0.012000      0.000000      0.000000  \n",
              "25%            0.000000      0.094400      0.325000     97.988000  \n",
              "50%            0.000003      0.125000      0.512000    120.041000  \n",
              "75%            0.000523      0.240000      0.713000    140.078000  \n",
              "max            0.998000      0.997000      0.991000    220.099000  "
            ]
          },
          "execution_count": 356,
          "metadata": {},
          "output_type": "execute_result"
        }
      ],
      "source": [
        "tracks_df.describe()"
      ]
    },
    {
      "cell_type": "code",
      "execution_count": 357,
      "metadata": {},
      "outputs": [
        {
          "data": {
            "text/html": [
              "<div>\n",
              "<style scoped>\n",
              "    .dataframe tbody tr th:only-of-type {\n",
              "        vertical-align: middle;\n",
              "    }\n",
              "\n",
              "    .dataframe tbody tr th {\n",
              "        vertical-align: top;\n",
              "    }\n",
              "\n",
              "    .dataframe thead th {\n",
              "        text-align: right;\n",
              "    }\n",
              "</style>\n",
              "<table border=\"1\" class=\"dataframe\">\n",
              "  <thead>\n",
              "    <tr style=\"text-align: right;\">\n",
              "      <th></th>\n",
              "      <th>id</th>\n",
              "      <th>name</th>\n",
              "      <th>id_artist</th>\n",
              "      <th>release_date</th>\n",
              "    </tr>\n",
              "  </thead>\n",
              "  <tbody>\n",
              "    <tr>\n",
              "      <th>count</th>\n",
              "      <td>17932</td>\n",
              "      <td>17869</td>\n",
              "      <td>17945</td>\n",
              "      <td>22412</td>\n",
              "    </tr>\n",
              "    <tr>\n",
              "      <th>unique</th>\n",
              "      <td>17932</td>\n",
              "      <td>14689</td>\n",
              "      <td>1392</td>\n",
              "      <td>3907</td>\n",
              "    </tr>\n",
              "    <tr>\n",
              "      <th>top</th>\n",
              "      <td>0RNxWy0PC3AyH4ThH3aGK6</td>\n",
              "      <td>Animals</td>\n",
              "      <td>06HL4z0CvFAxyc27GXpf02</td>\n",
              "      <td>2013-01-01</td>\n",
              "    </tr>\n",
              "    <tr>\n",
              "      <th>freq</th>\n",
              "      <td>1</td>\n",
              "      <td>10</td>\n",
              "      <td>255</td>\n",
              "      <td>268</td>\n",
              "    </tr>\n",
              "  </tbody>\n",
              "</table>\n",
              "</div>"
            ],
            "text/plain": [
              "                            id     name               id_artist release_date\n",
              "count                    17932    17869                   17945        22412\n",
              "unique                   17932    14689                    1392         3907\n",
              "top     0RNxWy0PC3AyH4ThH3aGK6  Animals  06HL4z0CvFAxyc27GXpf02   2013-01-01\n",
              "freq                         1       10                     255          268"
            ]
          },
          "execution_count": 357,
          "metadata": {},
          "output_type": "execute_result"
        }
      ],
      "source": [
        "tracks_df.describe(include=object)"
      ]
    },
    {
      "cell_type": "code",
      "execution_count": 358,
      "metadata": {},
      "outputs": [
        {
          "data": {
            "text/plain": [
              "id                  4480\n",
              "name                4543\n",
              "popularity          4436\n",
              "duration_ms            0\n",
              "explicit               0\n",
              "id_artist           4467\n",
              "release_date           0\n",
              "danceability           0\n",
              "energy                 0\n",
              "key                    0\n",
              "loudness               0\n",
              "speechiness            0\n",
              "acousticness           0\n",
              "instrumentalness       0\n",
              "liveness               0\n",
              "valence                0\n",
              "tempo                  0\n",
              "dtype: int64"
            ]
          },
          "execution_count": 358,
          "metadata": {},
          "output_type": "execute_result"
        }
      ],
      "source": [
        "tracks_df.isnull().sum()"
      ]
    },
    {
      "cell_type": "markdown",
      "metadata": {},
      "source": [
        "Możemy zauważyć, że występują wartości typu None w czterech kolumnach: \"id\", \"name\", \"popularity\", \"id_artist\". Błędy typu id jesteśmy w stanie uzupełnić generując inne id np.: przypisując brakującym piosenkom kolejne cyfry, samo id piosenki nie jest nam szczególnie potrzebne w przypadku modelowania. Istotnymi błędami są wartości None w pozostałych trzech kolumnach. \n",
        "\n",
        "1. Kolumna \"name\": brak nazw dla piosenek nie jest możliwy do uzupełnienia, ponieważ możemy mieć rekordy o podobnych cechach takich jak energy, danceability, key, loudness itd. dla takich samych piosenek - brak możliwości wykrycia duplikatów piosenek.\n",
        "2. Kolumna \"id_artist\": brak id artysty uniemożliwia nam mapowanie artystów i gatunków należących do nich do ich piosenek. Jest to istotny błąd, który uniemożliwia użycie tych danych do modelowania.\n",
        "3. Kolumna \"popularity\": brak popularności dla danej piosenki może nie być kluczową cechą w przypadku modelowania związanego z przypisywaniem gatunków do autorów, jest to jednak brak, który ciężko wypełnić bez ponownego przesłania nowych danych.\n",
        "\n",
        "Celem dalszej analizy cech, spróbujmy usunąć braki związane z trzema wymienionymi kolumnami. Czwartą kolumnę, \"id\" sprawdzimy po usunięciu braków w trzech kolumnach."
      ]
    },
    {
      "cell_type": "code",
      "execution_count": 359,
      "metadata": {},
      "outputs": [],
      "source": [
        "tracks_df_clean = tracks_df[~tracks_df['name'].isna()]\n",
        "tracks_df_clean = tracks_df_clean[~tracks_df_clean['id_artist'].isna()]\n",
        "tracks_df_clean = tracks_df_clean[~tracks_df_clean['popularity'].isna()]"
      ]
    },
    {
      "cell_type": "code",
      "execution_count": 360,
      "metadata": {},
      "outputs": [
        {
          "data": {
            "text/plain": [
              "id                  2303\n",
              "name                   0\n",
              "popularity             0\n",
              "duration_ms            0\n",
              "explicit               0\n",
              "id_artist              0\n",
              "release_date           0\n",
              "danceability           0\n",
              "energy                 0\n",
              "key                    0\n",
              "loudness               0\n",
              "speechiness            0\n",
              "acousticness           0\n",
              "instrumentalness       0\n",
              "liveness               0\n",
              "valence                0\n",
              "tempo                  0\n",
              "dtype: int64"
            ]
          },
          "execution_count": 360,
          "metadata": {},
          "output_type": "execute_result"
        }
      ],
      "source": [
        "tracks_df_clean.isnull().sum()"
      ]
    },
    {
      "cell_type": "code",
      "execution_count": 361,
      "metadata": {},
      "outputs": [
        {
          "data": {
            "text/plain": [
              "0            1\n",
              "1            6\n",
              "2            8\n",
              "3            9\n",
              "4           10\n",
              "         ...  \n",
              "11446    22402\n",
              "11447    22405\n",
              "11448    22407\n",
              "11449    22408\n",
              "11450    22409\n",
              "Name: index, Length: 11451, dtype: int64"
            ]
          },
          "execution_count": 361,
          "metadata": {},
          "output_type": "execute_result"
        }
      ],
      "source": [
        "tracks_df_clean.reset_index(inplace=True) # reset indexu celem poprawnego zliczania danych\n",
        "tracks_df_clean.pop('index')"
      ]
    },
    {
      "cell_type": "code",
      "execution_count": 362,
      "metadata": {},
      "outputs": [
        {
          "data": {
            "text/html": [
              "<div>\n",
              "<style scoped>\n",
              "    .dataframe tbody tr th:only-of-type {\n",
              "        vertical-align: middle;\n",
              "    }\n",
              "\n",
              "    .dataframe tbody tr th {\n",
              "        vertical-align: top;\n",
              "    }\n",
              "\n",
              "    .dataframe thead th {\n",
              "        text-align: right;\n",
              "    }\n",
              "</style>\n",
              "<table border=\"1\" class=\"dataframe\">\n",
              "  <thead>\n",
              "    <tr style=\"text-align: right;\">\n",
              "      <th></th>\n",
              "      <th>id</th>\n",
              "      <th>name</th>\n",
              "      <th>popularity</th>\n",
              "      <th>duration_ms</th>\n",
              "      <th>explicit</th>\n",
              "      <th>id_artist</th>\n",
              "      <th>release_date</th>\n",
              "      <th>danceability</th>\n",
              "      <th>energy</th>\n",
              "      <th>key</th>\n",
              "      <th>loudness</th>\n",
              "      <th>speechiness</th>\n",
              "      <th>acousticness</th>\n",
              "      <th>instrumentalness</th>\n",
              "      <th>liveness</th>\n",
              "      <th>valence</th>\n",
              "      <th>tempo</th>\n",
              "    </tr>\n",
              "  </thead>\n",
              "  <tbody>\n",
              "    <tr>\n",
              "      <th>0</th>\n",
              "      <td>2W889aLIKxULEefrleFBFI</td>\n",
              "      <td>Someone to Watch Over Me</td>\n",
              "      <td>54.0</td>\n",
              "      <td>198000</td>\n",
              "      <td>0</td>\n",
              "      <td>1Mxqyy3pSjf8kZZL4QVxS0</td>\n",
              "      <td>1943</td>\n",
              "      <td>0.204</td>\n",
              "      <td>0.1510</td>\n",
              "      <td>2</td>\n",
              "      <td>-17.842</td>\n",
              "      <td>0.0418</td>\n",
              "      <td>0.9470</td>\n",
              "      <td>0.000009</td>\n",
              "      <td>0.3210</td>\n",
              "      <td>0.1340</td>\n",
              "      <td>91.783</td>\n",
              "    </tr>\n",
              "    <tr>\n",
              "      <th>1</th>\n",
              "      <td>5DIVWgTeJ2fPIxaY9e7ZKn</td>\n",
              "      <td>I've Got A Crush On You</td>\n",
              "      <td>56.0</td>\n",
              "      <td>196440</td>\n",
              "      <td>0</td>\n",
              "      <td>5V0MlUE1Bft0mbLlND7FJz</td>\n",
              "      <td>1950-09-11</td>\n",
              "      <td>0.455</td>\n",
              "      <td>0.1060</td>\n",
              "      <td>2</td>\n",
              "      <td>-14.086</td>\n",
              "      <td>0.0422</td>\n",
              "      <td>0.9860</td>\n",
              "      <td>0.000000</td>\n",
              "      <td>0.1220</td>\n",
              "      <td>0.2580</td>\n",
              "      <td>66.807</td>\n",
              "    </tr>\n",
              "    <tr>\n",
              "      <th>2</th>\n",
              "      <td>0Hsc0sIaxOxXBZbT3ms2oj</td>\n",
              "      <td>In The Wee Small Hours Of The Morning - Remast...</td>\n",
              "      <td>60.0</td>\n",
              "      <td>180933</td>\n",
              "      <td>0</td>\n",
              "      <td>1Mxqyy3pSjf8kZZL4QVxS0</td>\n",
              "      <td>1955</td>\n",
              "      <td>0.290</td>\n",
              "      <td>0.0874</td>\n",
              "      <td>0</td>\n",
              "      <td>-16.119</td>\n",
              "      <td>0.0346</td>\n",
              "      <td>0.8560</td>\n",
              "      <td>0.000957</td>\n",
              "      <td>0.1090</td>\n",
              "      <td>0.0734</td>\n",
              "      <td>114.997</td>\n",
              "    </tr>\n",
              "    <tr>\n",
              "      <th>3</th>\n",
              "      <td>3aEJMh1cXKEjgh52claxQp</td>\n",
              "      <td>I've Got You Under My Skin - Remastered 1998</td>\n",
              "      <td>68.0</td>\n",
              "      <td>223760</td>\n",
              "      <td>0</td>\n",
              "      <td>1Mxqyy3pSjf8kZZL4QVxS0</td>\n",
              "      <td>1956-03</td>\n",
              "      <td>0.585</td>\n",
              "      <td>0.2470</td>\n",
              "      <td>1</td>\n",
              "      <td>-12.612</td>\n",
              "      <td>0.0400</td>\n",
              "      <td>0.4520</td>\n",
              "      <td>0.000009</td>\n",
              "      <td>0.1070</td>\n",
              "      <td>0.5910</td>\n",
              "      <td>127.150</td>\n",
              "    </tr>\n",
              "    <tr>\n",
              "      <th>4</th>\n",
              "      <td>None</td>\n",
              "      <td>You Make Me Feel So Young - Remastered 1998</td>\n",
              "      <td>66.0</td>\n",
              "      <td>177400</td>\n",
              "      <td>0</td>\n",
              "      <td>1Mxqyy3pSjf8kZZL4QVxS0</td>\n",
              "      <td>1956-03</td>\n",
              "      <td>0.577</td>\n",
              "      <td>0.3060</td>\n",
              "      <td>9</td>\n",
              "      <td>-11.559</td>\n",
              "      <td>0.0427</td>\n",
              "      <td>0.3830</td>\n",
              "      <td>0.000000</td>\n",
              "      <td>0.1800</td>\n",
              "      <td>0.5680</td>\n",
              "      <td>125.166</td>\n",
              "    </tr>\n",
              "    <tr>\n",
              "      <th>...</th>\n",
              "      <td>...</td>\n",
              "      <td>...</td>\n",
              "      <td>...</td>\n",
              "      <td>...</td>\n",
              "      <td>...</td>\n",
              "      <td>...</td>\n",
              "      <td>...</td>\n",
              "      <td>...</td>\n",
              "      <td>...</td>\n",
              "      <td>...</td>\n",
              "      <td>...</td>\n",
              "      <td>...</td>\n",
              "      <td>...</td>\n",
              "      <td>...</td>\n",
              "      <td>...</td>\n",
              "      <td>...</td>\n",
              "      <td>...</td>\n",
              "    </tr>\n",
              "    <tr>\n",
              "      <th>11446</th>\n",
              "      <td>6rsm9NTgl9kKPatf7S1yCS</td>\n",
              "      <td>Talk</td>\n",
              "      <td>61.0</td>\n",
              "      <td>190347</td>\n",
              "      <td>0</td>\n",
              "      <td>2jnIB6XdLvnJUeNTy5A0J2</td>\n",
              "      <td>2018-08-31</td>\n",
              "      <td>0.795</td>\n",
              "      <td>0.7000</td>\n",
              "      <td>6</td>\n",
              "      <td>-5.221</td>\n",
              "      <td>0.1070</td>\n",
              "      <td>0.0588</td>\n",
              "      <td>0.000000</td>\n",
              "      <td>0.0977</td>\n",
              "      <td>0.7980</td>\n",
              "      <td>120.002</td>\n",
              "    </tr>\n",
              "    <tr>\n",
              "      <th>11447</th>\n",
              "      <td>None</td>\n",
              "      <td>Soothing Dog Music</td>\n",
              "      <td>56.0</td>\n",
              "      <td>45733</td>\n",
              "      <td>0</td>\n",
              "      <td>1Cj9j44XMhQeNHAwWJRCKd</td>\n",
              "      <td>2018-12-24</td>\n",
              "      <td>0.278</td>\n",
              "      <td>0.0614</td>\n",
              "      <td>5</td>\n",
              "      <td>-20.268</td>\n",
              "      <td>0.0474</td>\n",
              "      <td>0.9930</td>\n",
              "      <td>0.961000</td>\n",
              "      <td>0.1240</td>\n",
              "      <td>0.1320</td>\n",
              "      <td>75.139</td>\n",
              "    </tr>\n",
              "    <tr>\n",
              "      <th>11448</th>\n",
              "      <td>0LcNMuOiULmxJK3bdHTfDF</td>\n",
              "      <td>Missing You</td>\n",
              "      <td>65.0</td>\n",
              "      <td>214987</td>\n",
              "      <td>0</td>\n",
              "      <td>7gAppWoH7pcYmphCVTXkzs</td>\n",
              "      <td>2019-04-19</td>\n",
              "      <td>0.537</td>\n",
              "      <td>0.6470</td>\n",
              "      <td>2</td>\n",
              "      <td>-7.370</td>\n",
              "      <td>0.0519</td>\n",
              "      <td>0.1680</td>\n",
              "      <td>0.000000</td>\n",
              "      <td>0.1080</td>\n",
              "      <td>0.5310</td>\n",
              "      <td>79.770</td>\n",
              "    </tr>\n",
              "    <tr>\n",
              "      <th>11449</th>\n",
              "      <td>1uviKYHZuM4uINK33F7sCt</td>\n",
              "      <td>Fix It to Break It</td>\n",
              "      <td>70.0</td>\n",
              "      <td>198799</td>\n",
              "      <td>0</td>\n",
              "      <td>7okSU80WTrn4LXlyXYbX3P</td>\n",
              "      <td>2020-03-27</td>\n",
              "      <td>0.493</td>\n",
              "      <td>0.4610</td>\n",
              "      <td>2</td>\n",
              "      <td>-8.524</td>\n",
              "      <td>0.0456</td>\n",
              "      <td>0.8450</td>\n",
              "      <td>0.000000</td>\n",
              "      <td>0.1150</td>\n",
              "      <td>0.3500</td>\n",
              "      <td>51.414</td>\n",
              "    </tr>\n",
              "    <tr>\n",
              "      <th>11450</th>\n",
              "      <td>None</td>\n",
              "      <td>Lotus Inn</td>\n",
              "      <td>63.0</td>\n",
              "      <td>195868</td>\n",
              "      <td>0</td>\n",
              "      <td>2jnIB6XdLvnJUeNTy5A0J2</td>\n",
              "      <td>2020-12-04</td>\n",
              "      <td>0.578</td>\n",
              "      <td>0.7400</td>\n",
              "      <td>2</td>\n",
              "      <td>-5.080</td>\n",
              "      <td>0.0721</td>\n",
              "      <td>0.0119</td>\n",
              "      <td>0.000000</td>\n",
              "      <td>0.1800</td>\n",
              "      <td>0.4950</td>\n",
              "      <td>155.984</td>\n",
              "    </tr>\n",
              "  </tbody>\n",
              "</table>\n",
              "<p>11451 rows × 17 columns</p>\n",
              "</div>"
            ],
            "text/plain": [
              "                           id  \\\n",
              "0      2W889aLIKxULEefrleFBFI   \n",
              "1      5DIVWgTeJ2fPIxaY9e7ZKn   \n",
              "2      0Hsc0sIaxOxXBZbT3ms2oj   \n",
              "3      3aEJMh1cXKEjgh52claxQp   \n",
              "4                        None   \n",
              "...                       ...   \n",
              "11446  6rsm9NTgl9kKPatf7S1yCS   \n",
              "11447                    None   \n",
              "11448  0LcNMuOiULmxJK3bdHTfDF   \n",
              "11449  1uviKYHZuM4uINK33F7sCt   \n",
              "11450                    None   \n",
              "\n",
              "                                                    name  popularity  \\\n",
              "0                               Someone to Watch Over Me        54.0   \n",
              "1                                I've Got A Crush On You        56.0   \n",
              "2      In The Wee Small Hours Of The Morning - Remast...        60.0   \n",
              "3           I've Got You Under My Skin - Remastered 1998        68.0   \n",
              "4            You Make Me Feel So Young - Remastered 1998        66.0   \n",
              "...                                                  ...         ...   \n",
              "11446                                               Talk        61.0   \n",
              "11447                                 Soothing Dog Music        56.0   \n",
              "11448                                        Missing You        65.0   \n",
              "11449                                 Fix It to Break It        70.0   \n",
              "11450                                          Lotus Inn        63.0   \n",
              "\n",
              "       duration_ms  explicit               id_artist release_date  \\\n",
              "0           198000         0  1Mxqyy3pSjf8kZZL4QVxS0         1943   \n",
              "1           196440         0  5V0MlUE1Bft0mbLlND7FJz   1950-09-11   \n",
              "2           180933         0  1Mxqyy3pSjf8kZZL4QVxS0         1955   \n",
              "3           223760         0  1Mxqyy3pSjf8kZZL4QVxS0      1956-03   \n",
              "4           177400         0  1Mxqyy3pSjf8kZZL4QVxS0      1956-03   \n",
              "...            ...       ...                     ...          ...   \n",
              "11446       190347         0  2jnIB6XdLvnJUeNTy5A0J2   2018-08-31   \n",
              "11447        45733         0  1Cj9j44XMhQeNHAwWJRCKd   2018-12-24   \n",
              "11448       214987         0  7gAppWoH7pcYmphCVTXkzs   2019-04-19   \n",
              "11449       198799         0  7okSU80WTrn4LXlyXYbX3P   2020-03-27   \n",
              "11450       195868         0  2jnIB6XdLvnJUeNTy5A0J2   2020-12-04   \n",
              "\n",
              "       danceability  energy  key  loudness  speechiness  acousticness  \\\n",
              "0             0.204  0.1510    2   -17.842       0.0418        0.9470   \n",
              "1             0.455  0.1060    2   -14.086       0.0422        0.9860   \n",
              "2             0.290  0.0874    0   -16.119       0.0346        0.8560   \n",
              "3             0.585  0.2470    1   -12.612       0.0400        0.4520   \n",
              "4             0.577  0.3060    9   -11.559       0.0427        0.3830   \n",
              "...             ...     ...  ...       ...          ...           ...   \n",
              "11446         0.795  0.7000    6    -5.221       0.1070        0.0588   \n",
              "11447         0.278  0.0614    5   -20.268       0.0474        0.9930   \n",
              "11448         0.537  0.6470    2    -7.370       0.0519        0.1680   \n",
              "11449         0.493  0.4610    2    -8.524       0.0456        0.8450   \n",
              "11450         0.578  0.7400    2    -5.080       0.0721        0.0119   \n",
              "\n",
              "       instrumentalness  liveness  valence    tempo  \n",
              "0              0.000009    0.3210   0.1340   91.783  \n",
              "1              0.000000    0.1220   0.2580   66.807  \n",
              "2              0.000957    0.1090   0.0734  114.997  \n",
              "3              0.000009    0.1070   0.5910  127.150  \n",
              "4              0.000000    0.1800   0.5680  125.166  \n",
              "...                 ...       ...      ...      ...  \n",
              "11446          0.000000    0.0977   0.7980  120.002  \n",
              "11447          0.961000    0.1240   0.1320   75.139  \n",
              "11448          0.000000    0.1080   0.5310   79.770  \n",
              "11449          0.000000    0.1150   0.3500   51.414  \n",
              "11450          0.000000    0.1800   0.4950  155.984  \n",
              "\n",
              "[11451 rows x 17 columns]"
            ]
          },
          "execution_count": 362,
          "metadata": {},
          "output_type": "execute_result"
        }
      ],
      "source": [
        "tracks_df_clean"
      ]
    },
    {
      "cell_type": "code",
      "execution_count": 363,
      "metadata": {},
      "outputs": [
        {
          "data": {
            "text/plain": [
              "11451"
            ]
          },
          "execution_count": 363,
          "metadata": {},
          "output_type": "execute_result"
        }
      ],
      "source": [
        "tracks_df_clean_rows_size = tracks_df_clean.shape[0]\n",
        "tracks_df_clean_rows_size"
      ]
    },
    {
      "cell_type": "code",
      "execution_count": 364,
      "metadata": {},
      "outputs": [],
      "source": [
        "tracks_df_clean_rows = np.arange(tracks_df_clean_rows_size)\n",
        "tracks_df_clean_rows = pd.Series(tracks_df_clean_rows)"
      ]
    },
    {
      "cell_type": "code",
      "execution_count": 365,
      "metadata": {},
      "outputs": [],
      "source": [
        "tracks_df_clean['id'].fillna(tracks_df_clean_rows, inplace=True)"
      ]
    },
    {
      "cell_type": "code",
      "execution_count": 366,
      "metadata": {},
      "outputs": [
        {
          "data": {
            "text/plain": [
              "id                  0\n",
              "name                0\n",
              "popularity          0\n",
              "duration_ms         0\n",
              "explicit            0\n",
              "id_artist           0\n",
              "release_date        0\n",
              "danceability        0\n",
              "energy              0\n",
              "key                 0\n",
              "loudness            0\n",
              "speechiness         0\n",
              "acousticness        0\n",
              "instrumentalness    0\n",
              "liveness            0\n",
              "valence             0\n",
              "tempo               0\n",
              "dtype: int64"
            ]
          },
          "execution_count": 366,
          "metadata": {},
          "output_type": "execute_result"
        }
      ],
      "source": [
        "tracks_df_clean.isnull().sum()"
      ]
    },
    {
      "cell_type": "markdown",
      "metadata": {},
      "source": [
        "Uzupełniono brakujące 2303 id kolejnymi cyframi od 0 do 11450. Nastąpiła znaczna redukcja danych, z 22412 do 11451. Sprawdźmy także, ile artystów ze zbioru artystów matchuje się w piosenkach (po polu id_artist)."
      ]
    },
    {
      "cell_type": "code",
      "execution_count": 367,
      "metadata": {},
      "outputs": [
        {
          "data": {
            "text/plain": [
              "False    1346\n",
              "True      321\n",
              "Name: id, dtype: int64"
            ]
          },
          "execution_count": 367,
          "metadata": {},
          "output_type": "execute_result"
        }
      ],
      "source": [
        "(artists_df['id'] == -1).value_counts()"
      ]
    },
    {
      "cell_type": "markdown",
      "metadata": {},
      "source": [
        "Mamy jednak 321 artystów bez id, które celem dalszej analizy musimy usunąć, ponieważ nie znajdziemy dla nich matchy w zbiorze piosenek."
      ]
    },
    {
      "cell_type": "code",
      "execution_count": 368,
      "metadata": {},
      "outputs": [],
      "source": [
        "artists_df = artists_df[~(artists_df['id'] == -1)]\n",
        "artists_df.reset_index(inplace=True)\n"
      ]
    },
    {
      "cell_type": "code",
      "execution_count": 369,
      "metadata": {},
      "outputs": [
        {
          "name": "stderr",
          "output_type": "stream",
          "text": [
            "C:\\Users\\rwole\\AppData\\Local\\Temp\\ipykernel_14016\\683162473.py:1: SettingWithCopyWarning: \n",
            "A value is trying to be set on a copy of a slice from a DataFrame\n",
            "\n",
            "See the caveats in the documentation: https://pandas.pydata.org/pandas-docs/stable/user_guide/indexing.html#returning-a-view-versus-a-copy\n",
            "  artists_df.drop('index', inplace=True, axis=1)\n"
          ]
        }
      ],
      "source": [
        "artists_df.drop('index', inplace=True, axis=1)"
      ]
    },
    {
      "cell_type": "code",
      "execution_count": 370,
      "metadata": {},
      "outputs": [
        {
          "data": {
            "text/html": [
              "<div>\n",
              "<style scoped>\n",
              "    .dataframe tbody tr th:only-of-type {\n",
              "        vertical-align: middle;\n",
              "    }\n",
              "\n",
              "    .dataframe tbody tr th {\n",
              "        vertical-align: top;\n",
              "    }\n",
              "\n",
              "    .dataframe thead th {\n",
              "        text-align: right;\n",
              "    }\n",
              "</style>\n",
              "<table border=\"1\" class=\"dataframe\">\n",
              "  <thead>\n",
              "    <tr style=\"text-align: right;\">\n",
              "      <th></th>\n",
              "      <th>id</th>\n",
              "      <th>name</th>\n",
              "      <th>genres</th>\n",
              "    </tr>\n",
              "  </thead>\n",
              "  <tbody>\n",
              "    <tr>\n",
              "      <th>0</th>\n",
              "      <td>7jVv8c5Fj3E9VhNjxT4snq</td>\n",
              "      <td>Lil Nas X</td>\n",
              "      <td>[country rap, lgbtq+ hip hop, pop rap, queer c...</td>\n",
              "    </tr>\n",
              "    <tr>\n",
              "      <th>1</th>\n",
              "      <td>0xRXCcSX89eobfrshSVdyu</td>\n",
              "      <td>MEDUZA</td>\n",
              "      <td>[dance pop, edm, pop dance, pop house, tropica...</td>\n",
              "    </tr>\n",
              "    <tr>\n",
              "      <th>2</th>\n",
              "      <td>4f7KfxeHq9BiylGmyXepGt</td>\n",
              "      <td>Tanishk Bagchi</td>\n",
              "      <td>[desi pop, filmi, modern bollywood]</td>\n",
              "    </tr>\n",
              "    <tr>\n",
              "      <th>3</th>\n",
              "      <td>523y9KSneKh6APd1hKxLuF</td>\n",
              "      <td>Master KG</td>\n",
              "      <td>[south african house]</td>\n",
              "    </tr>\n",
              "    <tr>\n",
              "      <th>4</th>\n",
              "      <td>25UNJbwGZSQKvz5cPLWlv3</td>\n",
              "      <td>Los Dos Carnales</td>\n",
              "      <td>None</td>\n",
              "    </tr>\n",
              "    <tr>\n",
              "      <th>...</th>\n",
              "      <td>...</td>\n",
              "      <td>...</td>\n",
              "      <td>...</td>\n",
              "    </tr>\n",
              "    <tr>\n",
              "      <th>1341</th>\n",
              "      <td>3b8QkneNDz4JHKKKlLgYZg</td>\n",
              "      <td>Florida Georgia Line</td>\n",
              "      <td>[contemporary country, country, country pop, c...</td>\n",
              "    </tr>\n",
              "    <tr>\n",
              "      <th>1342</th>\n",
              "      <td>6AMd49uBDJfhf30Ak2QR5s</td>\n",
              "      <td>Coi Leray</td>\n",
              "      <td>[pop r&amp;b, r&amp;b, trap queen, viral rap]</td>\n",
              "    </tr>\n",
              "    <tr>\n",
              "      <th>1343</th>\n",
              "      <td>6qgnBH6iDM91ipVXv28OMu</td>\n",
              "      <td>KAYTRANADA</td>\n",
              "      <td>[escape room, indie soul, lgbtq+ hip hop]</td>\n",
              "    </tr>\n",
              "    <tr>\n",
              "      <th>1344</th>\n",
              "      <td>5q8HGNo0BjLWaTAhRtbwxa</td>\n",
              "      <td>Brantley Gilbert</td>\n",
              "      <td>[contemporary country, country, country road, ...</td>\n",
              "    </tr>\n",
              "    <tr>\n",
              "      <th>1345</th>\n",
              "      <td>46MWeeHNVMYRIIofQBEX98</td>\n",
              "      <td>BEAM</td>\n",
              "      <td>[trap soul, underground hip hop]</td>\n",
              "    </tr>\n",
              "  </tbody>\n",
              "</table>\n",
              "<p>1346 rows × 3 columns</p>\n",
              "</div>"
            ],
            "text/plain": [
              "                          id                  name  \\\n",
              "0     7jVv8c5Fj3E9VhNjxT4snq             Lil Nas X   \n",
              "1     0xRXCcSX89eobfrshSVdyu                MEDUZA   \n",
              "2     4f7KfxeHq9BiylGmyXepGt        Tanishk Bagchi   \n",
              "3     523y9KSneKh6APd1hKxLuF             Master KG   \n",
              "4     25UNJbwGZSQKvz5cPLWlv3      Los Dos Carnales   \n",
              "...                      ...                   ...   \n",
              "1341  3b8QkneNDz4JHKKKlLgYZg  Florida Georgia Line   \n",
              "1342  6AMd49uBDJfhf30Ak2QR5s             Coi Leray   \n",
              "1343  6qgnBH6iDM91ipVXv28OMu            KAYTRANADA   \n",
              "1344  5q8HGNo0BjLWaTAhRtbwxa      Brantley Gilbert   \n",
              "1345  46MWeeHNVMYRIIofQBEX98                  BEAM   \n",
              "\n",
              "                                                 genres  \n",
              "0     [country rap, lgbtq+ hip hop, pop rap, queer c...  \n",
              "1     [dance pop, edm, pop dance, pop house, tropica...  \n",
              "2                   [desi pop, filmi, modern bollywood]  \n",
              "3                                 [south african house]  \n",
              "4                                                  None  \n",
              "...                                                 ...  \n",
              "1341  [contemporary country, country, country pop, c...  \n",
              "1342              [pop r&b, r&b, trap queen, viral rap]  \n",
              "1343          [escape room, indie soul, lgbtq+ hip hop]  \n",
              "1344  [contemporary country, country, country road, ...  \n",
              "1345                   [trap soul, underground hip hop]  \n",
              "\n",
              "[1346 rows x 3 columns]"
            ]
          },
          "execution_count": 370,
          "metadata": {},
          "output_type": "execute_result"
        }
      ],
      "source": [
        "artists_df"
      ]
    },
    {
      "cell_type": "code",
      "execution_count": 371,
      "metadata": {},
      "outputs": [
        {
          "data": {
            "text/plain": [
              "['7jVv8c5Fj3E9VhNjxT4snq',\n",
              " '0xRXCcSX89eobfrshSVdyu',\n",
              " '4f7KfxeHq9BiylGmyXepGt',\n",
              " '523y9KSneKh6APd1hKxLuF',\n",
              " '25UNJbwGZSQKvz5cPLWlv3',\n",
              " '6vTqEFbTtTRJsuIpzZgjxi',\n",
              " '44mEtidu0VdRkIqO4IbkNa',\n",
              " '0n6sKrG0xKAf8xmdqeNGke',\n",
              " '0IxgA9wO4Op3CSnPlhfwV1',\n",
              " '4rTv3Ejc7hKMtmoBOK1B4T']"
            ]
          },
          "execution_count": 371,
          "metadata": {},
          "output_type": "execute_result"
        }
      ],
      "source": [
        "artists_ids = artists_df['id'].to_list()\n",
        "artists_ids[:10]"
      ]
    },
    {
      "cell_type": "code",
      "execution_count": 372,
      "metadata": {},
      "outputs": [
        {
          "data": {
            "text/plain": [
              "True     9092\n",
              "False    2359\n",
              "Name: id_artist, dtype: int64"
            ]
          },
          "execution_count": 372,
          "metadata": {},
          "output_type": "execute_result"
        }
      ],
      "source": [
        "(tracks_df_clean['id_artist'].isin(artists_ids)).value_counts()"
      ]
    },
    {
      "cell_type": "markdown",
      "metadata": {},
      "source": [
        "Możemy zauważyć, że mamy 9092 piosenek, u których jesteśmy w stanie stwierdzić, w jakim mniej więcej gatunku tworzy artysta i na tej podstawie wnioskować o gatunku piosenki. Jeśli w ramach naszego pierwszego modelowania mielibyśmy określone gatunki z wliczonymi podgatunkami, to możemy użyć 9092 z tych danych, aby określić gatunek artysty na podstawie jego piosenki. 2359 danych nie jest użyteczne w kontekście naszego założonego modelowania, ponieważ będziemy mieć sytuację, w której piosenka nie ma przypisanego autora z naszego zbioru autorów, a co za tym idzie, nie będziemy mieli informacji o gatunkach przypisanych do autora."
      ]
    }
  ],
  "metadata": {
    "colab": {
      "provenance": []
    },
    "kernelspec": {
      "display_name": "Python 3.10.5 64-bit",
      "language": "python",
      "name": "python3"
    },
    "language_info": {
      "codemirror_mode": {
        "name": "ipython",
        "version": 3
      },
      "file_extension": ".py",
      "mimetype": "text/x-python",
      "name": "python",
      "nbconvert_exporter": "python",
      "pygments_lexer": "ipython3",
      "version": "3.10.5"
    },
    "orig_nbformat": 4,
    "vscode": {
      "interpreter": {
        "hash": "4c1bce8e414f9bc48912dcc4416cdb1ae524d0fbd3b04a7c9d6465f890f9d9c6"
      }
    }
  },
  "nbformat": 4,
  "nbformat_minor": 0
}
