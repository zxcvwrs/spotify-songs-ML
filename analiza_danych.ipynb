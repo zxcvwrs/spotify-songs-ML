{
  "cells": [
    {
      "cell_type": "markdown",
      "metadata": {},
      "source": [
        "### Projekt IUM (zestaw 09, wariant 02)"
      ]
    },
    {
      "cell_type": "markdown",
      "metadata": {},
      "source": [
        "Poniższy notatnik składa się z sekcji:\n",
        "1. Załadowanie danych do df\n",
        "2. Wstępny preprocessing danych\n",
        "3. xxx"
      ]
    },
    {
      "cell_type": "markdown",
      "metadata": {},
      "source": [
        "### 1. Załadowanie danych do df"
      ]
    },
    {
      "cell_type": "code",
      "execution_count": null,
      "metadata": {},
      "outputs": [],
      "source": [
        "import pandas as pd\n",
        "import json\n"
      ]
    },
    {
      "cell_type": "code",
      "execution_count": null,
      "metadata": {},
      "outputs": [],
      "source": [
        "def load_lines(filename):\n",
        "    with open(filename) as f:\n",
        "        lines = f.read().splitlines()\n",
        "    return lines"
      ]
    },
    {
      "cell_type": "code",
      "execution_count": null,
      "metadata": {},
      "outputs": [],
      "source": [
        "artists_lines = load_lines(\"artists.jsonl\")\n",
        "tracks_lines = load_lines(\"tracks.jsonl\")"
      ]
    },
    {
      "cell_type": "code",
      "execution_count": null,
      "metadata": {},
      "outputs": [
        {
          "data": {
            "text/plain": [
              "['{\"id\": \"7jVv8c5Fj3E9VhNjxT4snq\", \"name\": \"Lil Nas X\", \"genres\": [\"country rap\", \"lgbtq+ hip hop\", \"pop rap\", \"queer country\"]}',\n",
              " '{\"id\": \"0xRXCcSX89eobfrshSVdyu\", \"name\": \"MEDUZA\", \"genres\": [\"dance pop\", \"edm\", \"pop dance\", \"pop house\", \"tropical house\"]}',\n",
              " '{\"id\": -1, \"name\": \"TheFatRat\", \"genres\": [\"speedrun\"]}',\n",
              " '{\"id\": \"4f7KfxeHq9BiylGmyXepGt\", \"name\": \"Tanishk Bagchi\", \"genres\": [\"desi pop\", \"filmi\", \"modern bollywood\"]}',\n",
              " '{\"id\": -1, \"name\": \"Jawsh 685\", \"genres\": [\"nz pop\"]}',\n",
              " '{\"id\": \"523y9KSneKh6APd1hKxLuF\", \"name\": \"Master KG\", \"genres\": [\"south african house\"]}',\n",
              " '{\"id\": \"25UNJbwGZSQKvz5cPLWlv3\", \"name\": \"Los Dos Carnales\", \"genres\": null}',\n",
              " '{\"id\": \"6vTqEFbTtTRJsuIpzZgjxi\", \"name\": \"Grupo Menos \\\\u00c9 Mais\", \"genres\": [\"pagode\", \"pagode novo\"]}',\n",
              " '{\"id\": \"44mEtidu0VdRkIqO4IbkNa\", \"name\": \"Marca MP\", \"genres\": [\"corrido\", \"corridos tumbados\", \"nuevo regional mexicano\", \"regional mexican\", \"sierreno\"]}',\n",
              " '{\"id\": -1, \"name\": \"Guilherme & Benuto\", \"genres\": [\"sertanejo pop\"]}']"
            ]
          },
          "metadata": {},
          "output_type": "display_data"
        }
      ],
      "source": [
        "artists_lines[:10]"
      ]
    },
    {
      "cell_type": "code",
      "execution_count": null,
      "metadata": {},
      "outputs": [
        {
          "data": {
            "text/plain": [
              "['{\"id\": \"0RNxWy0PC3AyH4ThH3aGK6\", \"name\": null, \"popularity\": null, \"duration_ms\": 201467, \"explicit\": 0, \"id_artist\": \"19eLuQmk9aCobbVDHc6eek\", \"release_date\": \"1929\", \"danceability\": 0.673, \"energy\": 0.377, \"key\": 0, \"loudness\": -14.141, \"speechiness\": 0.0697, \"acousticness\": 0.586, \"instrumentalness\": 0.0, \"liveness\": 0.332, \"valence\": 0.713, \"tempo\": 88.973}',\n",
              " '{\"id\": \"2W889aLIKxULEefrleFBFI\", \"name\": \"Someone to Watch Over Me\", \"popularity\": 54, \"duration_ms\": 198000, \"explicit\": 0, \"id_artist\": \"1Mxqyy3pSjf8kZZL4QVxS0\", \"release_date\": \"1943\", \"danceability\": 0.204, \"energy\": 0.151, \"key\": 2, \"loudness\": -17.842, \"speechiness\": 0.0418, \"acousticness\": 0.947, \"instrumentalness\": 9.15e-06, \"liveness\": 0.321, \"valence\": 0.134, \"tempo\": 91.783}',\n",
              " '{\"id\": \"4Pnzw1nLOpDNV6MKI5ueIR\", \"name\": null, \"popularity\": 55, \"duration_ms\": 199000, \"explicit\": 0, \"id_artist\": \"1Mxqyy3pSjf8kZZL4QVxS0\", \"release_date\": \"1944\", \"danceability\": 0.295, \"energy\": 0.0826, \"key\": 1, \"loudness\": -19.569, \"speechiness\": 0.0367, \"acousticness\": 0.984, \"instrumentalness\": 0.000358, \"liveness\": 0.156, \"valence\": 0.169, \"tempo\": 128.6}',\n",
              " '{\"id\": \"7GLmfKOe5BfOXk7334DoKt\", \"name\": \"Saturday Night (Is The Loneliest Night In The Week)\", \"popularity\": null, \"duration_ms\": 163000, \"explicit\": 0, \"id_artist\": \"1Mxqyy3pSjf8kZZL4QVxS0\", \"release_date\": \"1944\", \"danceability\": 0.561, \"energy\": 0.335, \"key\": 9, \"loudness\": -11.093, \"speechiness\": 0.0499, \"acousticness\": 0.84, \"instrumentalness\": 1.52e-06, \"liveness\": 0.788, \"valence\": 0.59, \"tempo\": 126.974}',\n",
              " '{\"id\": \"6kD1SNGPkfX9LwaGd1FG92\", \"name\": \"Put Your Dreams Away (For Another Day)\", \"popularity\": null, \"duration_ms\": 186173, \"explicit\": 0, \"id_artist\": \"1Mxqyy3pSjf8kZZL4QVxS0\", \"release_date\": \"1944\", \"danceability\": 0.197, \"energy\": 0.0546, \"key\": 1, \"loudness\": -22.411, \"speechiness\": 0.0346, \"acousticness\": 0.95, \"instrumentalness\": 0.276, \"liveness\": 0.152, \"valence\": 0.1, \"tempo\": 90.15}',\n",
              " '{\"id\": \"5RcvlmVx2xtFcp2Ta5pw7X\", \"name\": \"Someone To Watch Over Me\", \"popularity\": 57, \"duration_ms\": 196667, \"explicit\": 0, \"id_artist\": null, \"release_date\": \"1950-09-11\", \"danceability\": 0.354, \"energy\": 0.0851, \"key\": 7, \"loudness\": -13.738, \"speechiness\": 0.0345, \"acousticness\": 0.99, \"instrumentalness\": 4.49e-06, \"liveness\": 0.123, \"valence\": 0.197, \"tempo\": 97.684}',\n",
              " '{\"id\": \"5DIVWgTeJ2fPIxaY9e7ZKn\", \"name\": \"I\\'ve Got A Crush On You\", \"popularity\": 56, \"duration_ms\": 196440, \"explicit\": 0, \"id_artist\": \"5V0MlUE1Bft0mbLlND7FJz\", \"release_date\": \"1950-09-11\", \"danceability\": 0.455, \"energy\": 0.106, \"key\": 2, \"loudness\": -14.086, \"speechiness\": 0.0422, \"acousticness\": 0.986, \"instrumentalness\": 0.0, \"liveness\": 0.122, \"valence\": 0.258, \"tempo\": 66.807}',\n",
              " '{\"id\": \"0x0ffSAP6PkdoDgHOfroof\", \"name\": \"My Funny Valentine - Remastered\", \"popularity\": null, \"duration_ms\": 150667, \"explicit\": 0, \"id_artist\": \"1Mxqyy3pSjf8kZZL4QVxS0\", \"release_date\": \"1954-01-01\", \"danceability\": 0.257, \"energy\": 0.125, \"key\": 11, \"loudness\": -14.267, \"speechiness\": 0.0332, \"acousticness\": 0.891, \"instrumentalness\": 0.0, \"liveness\": 0.108, \"valence\": 0.245, \"tempo\": 84.93}',\n",
              " '{\"id\": \"0Hsc0sIaxOxXBZbT3ms2oj\", \"name\": \"In The Wee Small Hours Of The Morning - Remastered 1998\", \"popularity\": 60, \"duration_ms\": 180933, \"explicit\": 0, \"id_artist\": \"1Mxqyy3pSjf8kZZL4QVxS0\", \"release_date\": \"1955\", \"danceability\": 0.29, \"energy\": 0.0874, \"key\": 0, \"loudness\": -16.119, \"speechiness\": 0.0346, \"acousticness\": 0.856, \"instrumentalness\": 0.000957, \"liveness\": 0.109, \"valence\": 0.0734, \"tempo\": 114.997}',\n",
              " '{\"id\": \"3aEJMh1cXKEjgh52claxQp\", \"name\": \"I\\'ve Got You Under My Skin - Remastered 1998\", \"popularity\": 68, \"duration_ms\": 223760, \"explicit\": 0, \"id_artist\": \"1Mxqyy3pSjf8kZZL4QVxS0\", \"release_date\": \"1956-03\", \"danceability\": 0.585, \"energy\": 0.247, \"key\": 1, \"loudness\": -12.612, \"speechiness\": 0.04, \"acousticness\": 0.452, \"instrumentalness\": 8.85e-06, \"liveness\": 0.107, \"valence\": 0.591, \"tempo\": 127.15}']"
            ]
          },
          "metadata": {},
          "output_type": "display_data"
        }
      ],
      "source": [
        "tracks_lines[:10]"
      ]
    },
    {
      "cell_type": "code",
      "execution_count": null,
      "metadata": {},
      "outputs": [],
      "source": [
        "artists_df = pd.DataFrame(artists_lines)\n",
        "tracks_df = pd.DataFrame(tracks_lines)"
      ]
    },
    {
      "cell_type": "code",
      "execution_count": null,
      "metadata": {},
      "outputs": [
        {
          "data": {
            "text/html": [
              "<div>\n",
              "<style scoped>\n",
              "    .dataframe tbody tr th:only-of-type {\n",
              "        vertical-align: middle;\n",
              "    }\n",
              "\n",
              "    .dataframe tbody tr th {\n",
              "        vertical-align: top;\n",
              "    }\n",
              "\n",
              "    .dataframe thead th {\n",
              "        text-align: right;\n",
              "    }\n",
              "</style>\n",
              "<table border=\"1\" class=\"dataframe\">\n",
              "  <thead>\n",
              "    <tr style=\"text-align: right;\">\n",
              "      <th></th>\n",
              "      <th>0</th>\n",
              "    </tr>\n",
              "  </thead>\n",
              "  <tbody>\n",
              "    <tr>\n",
              "      <th>0</th>\n",
              "      <td>{\"id\": \"7jVv8c5Fj3E9VhNjxT4snq\", \"name\": \"Lil ...</td>\n",
              "    </tr>\n",
              "    <tr>\n",
              "      <th>1</th>\n",
              "      <td>{\"id\": \"0xRXCcSX89eobfrshSVdyu\", \"name\": \"MEDU...</td>\n",
              "    </tr>\n",
              "    <tr>\n",
              "      <th>2</th>\n",
              "      <td>{\"id\": -1, \"name\": \"TheFatRat\", \"genres\": [\"sp...</td>\n",
              "    </tr>\n",
              "    <tr>\n",
              "      <th>3</th>\n",
              "      <td>{\"id\": \"4f7KfxeHq9BiylGmyXepGt\", \"name\": \"Tani...</td>\n",
              "    </tr>\n",
              "    <tr>\n",
              "      <th>4</th>\n",
              "      <td>{\"id\": -1, \"name\": \"Jawsh 685\", \"genres\": [\"nz...</td>\n",
              "    </tr>\n",
              "    <tr>\n",
              "      <th>...</th>\n",
              "      <td>...</td>\n",
              "    </tr>\n",
              "    <tr>\n",
              "      <th>1662</th>\n",
              "      <td>{\"id\": \"6AMd49uBDJfhf30Ak2QR5s\", \"name\": \"Coi ...</td>\n",
              "    </tr>\n",
              "    <tr>\n",
              "      <th>1663</th>\n",
              "      <td>{\"id\": \"6qgnBH6iDM91ipVXv28OMu\", \"name\": \"KAYT...</td>\n",
              "    </tr>\n",
              "    <tr>\n",
              "      <th>1664</th>\n",
              "      <td>{\"id\": \"5q8HGNo0BjLWaTAhRtbwxa\", \"name\": \"Bran...</td>\n",
              "    </tr>\n",
              "    <tr>\n",
              "      <th>1665</th>\n",
              "      <td>{\"id\": -1, \"name\": \"Bethel Music\", \"genres\": [...</td>\n",
              "    </tr>\n",
              "    <tr>\n",
              "      <th>1666</th>\n",
              "      <td>{\"id\": \"46MWeeHNVMYRIIofQBEX98\", \"name\": \"BEAM...</td>\n",
              "    </tr>\n",
              "  </tbody>\n",
              "</table>\n",
              "<p>1667 rows × 1 columns</p>\n",
              "</div>"
            ],
            "text/plain": [
              "                                                      0\n",
              "0     {\"id\": \"7jVv8c5Fj3E9VhNjxT4snq\", \"name\": \"Lil ...\n",
              "1     {\"id\": \"0xRXCcSX89eobfrshSVdyu\", \"name\": \"MEDU...\n",
              "2     {\"id\": -1, \"name\": \"TheFatRat\", \"genres\": [\"sp...\n",
              "3     {\"id\": \"4f7KfxeHq9BiylGmyXepGt\", \"name\": \"Tani...\n",
              "4     {\"id\": -1, \"name\": \"Jawsh 685\", \"genres\": [\"nz...\n",
              "...                                                 ...\n",
              "1662  {\"id\": \"6AMd49uBDJfhf30Ak2QR5s\", \"name\": \"Coi ...\n",
              "1663  {\"id\": \"6qgnBH6iDM91ipVXv28OMu\", \"name\": \"KAYT...\n",
              "1664  {\"id\": \"5q8HGNo0BjLWaTAhRtbwxa\", \"name\": \"Bran...\n",
              "1665  {\"id\": -1, \"name\": \"Bethel Music\", \"genres\": [...\n",
              "1666  {\"id\": \"46MWeeHNVMYRIIofQBEX98\", \"name\": \"BEAM...\n",
              "\n",
              "[1667 rows x 1 columns]"
            ]
          },
          "metadata": {},
          "output_type": "display_data"
        }
      ],
      "source": [
        "artists_df"
      ]
    },
    {
      "cell_type": "code",
      "execution_count": null,
      "metadata": {},
      "outputs": [
        {
          "data": {
            "text/html": [
              "<div>\n",
              "<style scoped>\n",
              "    .dataframe tbody tr th:only-of-type {\n",
              "        vertical-align: middle;\n",
              "    }\n",
              "\n",
              "    .dataframe tbody tr th {\n",
              "        vertical-align: top;\n",
              "    }\n",
              "\n",
              "    .dataframe thead th {\n",
              "        text-align: right;\n",
              "    }\n",
              "</style>\n",
              "<table border=\"1\" class=\"dataframe\">\n",
              "  <thead>\n",
              "    <tr style=\"text-align: right;\">\n",
              "      <th></th>\n",
              "      <th>0</th>\n",
              "    </tr>\n",
              "  </thead>\n",
              "  <tbody>\n",
              "    <tr>\n",
              "      <th>0</th>\n",
              "      <td>{\"id\": \"0RNxWy0PC3AyH4ThH3aGK6\", \"name\": null,...</td>\n",
              "    </tr>\n",
              "    <tr>\n",
              "      <th>1</th>\n",
              "      <td>{\"id\": \"2W889aLIKxULEefrleFBFI\", \"name\": \"Some...</td>\n",
              "    </tr>\n",
              "    <tr>\n",
              "      <th>2</th>\n",
              "      <td>{\"id\": \"4Pnzw1nLOpDNV6MKI5ueIR\", \"name\": null,...</td>\n",
              "    </tr>\n",
              "    <tr>\n",
              "      <th>3</th>\n",
              "      <td>{\"id\": \"7GLmfKOe5BfOXk7334DoKt\", \"name\": \"Satu...</td>\n",
              "    </tr>\n",
              "    <tr>\n",
              "      <th>4</th>\n",
              "      <td>{\"id\": \"6kD1SNGPkfX9LwaGd1FG92\", \"name\": \"Put ...</td>\n",
              "    </tr>\n",
              "    <tr>\n",
              "      <th>...</th>\n",
              "      <td>...</td>\n",
              "    </tr>\n",
              "    <tr>\n",
              "      <th>22407</th>\n",
              "      <td>{\"id\": \"0LcNMuOiULmxJK3bdHTfDF\", \"name\": \"Miss...</td>\n",
              "    </tr>\n",
              "    <tr>\n",
              "      <th>22408</th>\n",
              "      <td>{\"id\": \"1uviKYHZuM4uINK33F7sCt\", \"name\": \"Fix ...</td>\n",
              "    </tr>\n",
              "    <tr>\n",
              "      <th>22409</th>\n",
              "      <td>{\"id\": null, \"name\": \"Lotus Inn\", \"popularity\"...</td>\n",
              "    </tr>\n",
              "    <tr>\n",
              "      <th>22410</th>\n",
              "      <td>{\"id\": \"27kcZEJvhkb1rzZS9gCpdA\", \"name\": null,...</td>\n",
              "    </tr>\n",
              "    <tr>\n",
              "      <th>22411</th>\n",
              "      <td>{\"id\": \"27Y1N4Q4U3EfDU5Ubw8ws2\", \"name\": \"What...</td>\n",
              "    </tr>\n",
              "  </tbody>\n",
              "</table>\n",
              "<p>22412 rows × 1 columns</p>\n",
              "</div>"
            ],
            "text/plain": [
              "                                                       0\n",
              "0      {\"id\": \"0RNxWy0PC3AyH4ThH3aGK6\", \"name\": null,...\n",
              "1      {\"id\": \"2W889aLIKxULEefrleFBFI\", \"name\": \"Some...\n",
              "2      {\"id\": \"4Pnzw1nLOpDNV6MKI5ueIR\", \"name\": null,...\n",
              "3      {\"id\": \"7GLmfKOe5BfOXk7334DoKt\", \"name\": \"Satu...\n",
              "4      {\"id\": \"6kD1SNGPkfX9LwaGd1FG92\", \"name\": \"Put ...\n",
              "...                                                  ...\n",
              "22407  {\"id\": \"0LcNMuOiULmxJK3bdHTfDF\", \"name\": \"Miss...\n",
              "22408  {\"id\": \"1uviKYHZuM4uINK33F7sCt\", \"name\": \"Fix ...\n",
              "22409  {\"id\": null, \"name\": \"Lotus Inn\", \"popularity\"...\n",
              "22410  {\"id\": \"27kcZEJvhkb1rzZS9gCpdA\", \"name\": null,...\n",
              "22411  {\"id\": \"27Y1N4Q4U3EfDU5Ubw8ws2\", \"name\": \"What...\n",
              "\n",
              "[22412 rows x 1 columns]"
            ]
          },
          "metadata": {},
          "output_type": "display_data"
        }
      ],
      "source": [
        "tracks_df"
      ]
    },
    {
      "cell_type": "code",
      "execution_count": null,
      "metadata": {},
      "outputs": [],
      "source": [
        "artists_df.columns = ['json line']\n",
        "tracks_df.columns = ['json line']\n",
        "\n",
        "# utworzenie słownika na każdym elemencie kolumny json line\n",
        "loaded_json_artists = artists_df['json line'].apply(json.loads)\n",
        "loaded_json_tracks = tracks_df['json line'].apply(json.loads)\n"
      ]
    },
    {
      "cell_type": "code",
      "execution_count": null,
      "metadata": {},
      "outputs": [],
      "source": [
        "artists_df = pd.json_normalize(loaded_json_artists)\n",
        "tracks_df = pd.json_normalize(loaded_json_tracks)"
      ]
    },
    {
      "cell_type": "code",
      "execution_count": null,
      "metadata": {},
      "outputs": [
        {
          "data": {
            "text/html": [
              "<div>\n",
              "<style scoped>\n",
              "    .dataframe tbody tr th:only-of-type {\n",
              "        vertical-align: middle;\n",
              "    }\n",
              "\n",
              "    .dataframe tbody tr th {\n",
              "        vertical-align: top;\n",
              "    }\n",
              "\n",
              "    .dataframe thead th {\n",
              "        text-align: right;\n",
              "    }\n",
              "</style>\n",
              "<table border=\"1\" class=\"dataframe\">\n",
              "  <thead>\n",
              "    <tr style=\"text-align: right;\">\n",
              "      <th></th>\n",
              "      <th>id</th>\n",
              "      <th>name</th>\n",
              "      <th>genres</th>\n",
              "    </tr>\n",
              "  </thead>\n",
              "  <tbody>\n",
              "    <tr>\n",
              "      <th>0</th>\n",
              "      <td>7jVv8c5Fj3E9VhNjxT4snq</td>\n",
              "      <td>Lil Nas X</td>\n",
              "      <td>[country rap, lgbtq+ hip hop, pop rap, queer c...</td>\n",
              "    </tr>\n",
              "    <tr>\n",
              "      <th>1</th>\n",
              "      <td>0xRXCcSX89eobfrshSVdyu</td>\n",
              "      <td>MEDUZA</td>\n",
              "      <td>[dance pop, edm, pop dance, pop house, tropica...</td>\n",
              "    </tr>\n",
              "    <tr>\n",
              "      <th>2</th>\n",
              "      <td>-1</td>\n",
              "      <td>TheFatRat</td>\n",
              "      <td>[speedrun]</td>\n",
              "    </tr>\n",
              "    <tr>\n",
              "      <th>3</th>\n",
              "      <td>4f7KfxeHq9BiylGmyXepGt</td>\n",
              "      <td>Tanishk Bagchi</td>\n",
              "      <td>[desi pop, filmi, modern bollywood]</td>\n",
              "    </tr>\n",
              "    <tr>\n",
              "      <th>4</th>\n",
              "      <td>-1</td>\n",
              "      <td>Jawsh 685</td>\n",
              "      <td>[nz pop]</td>\n",
              "    </tr>\n",
              "    <tr>\n",
              "      <th>...</th>\n",
              "      <td>...</td>\n",
              "      <td>...</td>\n",
              "      <td>...</td>\n",
              "    </tr>\n",
              "    <tr>\n",
              "      <th>1662</th>\n",
              "      <td>6AMd49uBDJfhf30Ak2QR5s</td>\n",
              "      <td>Coi Leray</td>\n",
              "      <td>[pop r&amp;b, r&amp;b, trap queen, viral rap]</td>\n",
              "    </tr>\n",
              "    <tr>\n",
              "      <th>1663</th>\n",
              "      <td>6qgnBH6iDM91ipVXv28OMu</td>\n",
              "      <td>KAYTRANADA</td>\n",
              "      <td>[escape room, indie soul, lgbtq+ hip hop]</td>\n",
              "    </tr>\n",
              "    <tr>\n",
              "      <th>1664</th>\n",
              "      <td>5q8HGNo0BjLWaTAhRtbwxa</td>\n",
              "      <td>Brantley Gilbert</td>\n",
              "      <td>[contemporary country, country, country road, ...</td>\n",
              "    </tr>\n",
              "    <tr>\n",
              "      <th>1665</th>\n",
              "      <td>-1</td>\n",
              "      <td>Bethel Music</td>\n",
              "      <td>[ambient worship, ccm, christian music, deep c...</td>\n",
              "    </tr>\n",
              "    <tr>\n",
              "      <th>1666</th>\n",
              "      <td>46MWeeHNVMYRIIofQBEX98</td>\n",
              "      <td>BEAM</td>\n",
              "      <td>[trap soul, underground hip hop]</td>\n",
              "    </tr>\n",
              "  </tbody>\n",
              "</table>\n",
              "<p>1667 rows × 3 columns</p>\n",
              "</div>"
            ],
            "text/plain": [
              "                          id              name  \\\n",
              "0     7jVv8c5Fj3E9VhNjxT4snq         Lil Nas X   \n",
              "1     0xRXCcSX89eobfrshSVdyu            MEDUZA   \n",
              "2                         -1         TheFatRat   \n",
              "3     4f7KfxeHq9BiylGmyXepGt    Tanishk Bagchi   \n",
              "4                         -1         Jawsh 685   \n",
              "...                      ...               ...   \n",
              "1662  6AMd49uBDJfhf30Ak2QR5s         Coi Leray   \n",
              "1663  6qgnBH6iDM91ipVXv28OMu        KAYTRANADA   \n",
              "1664  5q8HGNo0BjLWaTAhRtbwxa  Brantley Gilbert   \n",
              "1665                      -1      Bethel Music   \n",
              "1666  46MWeeHNVMYRIIofQBEX98              BEAM   \n",
              "\n",
              "                                                 genres  \n",
              "0     [country rap, lgbtq+ hip hop, pop rap, queer c...  \n",
              "1     [dance pop, edm, pop dance, pop house, tropica...  \n",
              "2                                            [speedrun]  \n",
              "3                   [desi pop, filmi, modern bollywood]  \n",
              "4                                              [nz pop]  \n",
              "...                                                 ...  \n",
              "1662              [pop r&b, r&b, trap queen, viral rap]  \n",
              "1663          [escape room, indie soul, lgbtq+ hip hop]  \n",
              "1664  [contemporary country, country, country road, ...  \n",
              "1665  [ambient worship, ccm, christian music, deep c...  \n",
              "1666                   [trap soul, underground hip hop]  \n",
              "\n",
              "[1667 rows x 3 columns]"
            ]
          },
          "metadata": {},
          "output_type": "display_data"
        }
      ],
      "source": [
        "artists_df"
      ]
    },
    {
      "cell_type": "code",
      "execution_count": null,
      "metadata": {},
      "outputs": [
        {
          "data": {
            "text/html": [
              "<div>\n",
              "<style scoped>\n",
              "    .dataframe tbody tr th:only-of-type {\n",
              "        vertical-align: middle;\n",
              "    }\n",
              "\n",
              "    .dataframe tbody tr th {\n",
              "        vertical-align: top;\n",
              "    }\n",
              "\n",
              "    .dataframe thead th {\n",
              "        text-align: right;\n",
              "    }\n",
              "</style>\n",
              "<table border=\"1\" class=\"dataframe\">\n",
              "  <thead>\n",
              "    <tr style=\"text-align: right;\">\n",
              "      <th></th>\n",
              "      <th>id</th>\n",
              "      <th>name</th>\n",
              "      <th>popularity</th>\n",
              "      <th>duration_ms</th>\n",
              "      <th>explicit</th>\n",
              "      <th>id_artist</th>\n",
              "      <th>release_date</th>\n",
              "      <th>danceability</th>\n",
              "      <th>energy</th>\n",
              "      <th>key</th>\n",
              "      <th>loudness</th>\n",
              "      <th>speechiness</th>\n",
              "      <th>acousticness</th>\n",
              "      <th>instrumentalness</th>\n",
              "      <th>liveness</th>\n",
              "      <th>valence</th>\n",
              "      <th>tempo</th>\n",
              "    </tr>\n",
              "  </thead>\n",
              "  <tbody>\n",
              "    <tr>\n",
              "      <th>0</th>\n",
              "      <td>0RNxWy0PC3AyH4ThH3aGK6</td>\n",
              "      <td>None</td>\n",
              "      <td>NaN</td>\n",
              "      <td>201467</td>\n",
              "      <td>0</td>\n",
              "      <td>19eLuQmk9aCobbVDHc6eek</td>\n",
              "      <td>1929</td>\n",
              "      <td>0.673</td>\n",
              "      <td>0.3770</td>\n",
              "      <td>0</td>\n",
              "      <td>-14.141</td>\n",
              "      <td>0.0697</td>\n",
              "      <td>0.5860</td>\n",
              "      <td>0.000000</td>\n",
              "      <td>0.3320</td>\n",
              "      <td>0.7130</td>\n",
              "      <td>88.973</td>\n",
              "    </tr>\n",
              "    <tr>\n",
              "      <th>1</th>\n",
              "      <td>2W889aLIKxULEefrleFBFI</td>\n",
              "      <td>Someone to Watch Over Me</td>\n",
              "      <td>54.0</td>\n",
              "      <td>198000</td>\n",
              "      <td>0</td>\n",
              "      <td>1Mxqyy3pSjf8kZZL4QVxS0</td>\n",
              "      <td>1943</td>\n",
              "      <td>0.204</td>\n",
              "      <td>0.1510</td>\n",
              "      <td>2</td>\n",
              "      <td>-17.842</td>\n",
              "      <td>0.0418</td>\n",
              "      <td>0.9470</td>\n",
              "      <td>0.000009</td>\n",
              "      <td>0.3210</td>\n",
              "      <td>0.1340</td>\n",
              "      <td>91.783</td>\n",
              "    </tr>\n",
              "    <tr>\n",
              "      <th>2</th>\n",
              "      <td>4Pnzw1nLOpDNV6MKI5ueIR</td>\n",
              "      <td>None</td>\n",
              "      <td>55.0</td>\n",
              "      <td>199000</td>\n",
              "      <td>0</td>\n",
              "      <td>1Mxqyy3pSjf8kZZL4QVxS0</td>\n",
              "      <td>1944</td>\n",
              "      <td>0.295</td>\n",
              "      <td>0.0826</td>\n",
              "      <td>1</td>\n",
              "      <td>-19.569</td>\n",
              "      <td>0.0367</td>\n",
              "      <td>0.9840</td>\n",
              "      <td>0.000358</td>\n",
              "      <td>0.1560</td>\n",
              "      <td>0.1690</td>\n",
              "      <td>128.600</td>\n",
              "    </tr>\n",
              "    <tr>\n",
              "      <th>3</th>\n",
              "      <td>7GLmfKOe5BfOXk7334DoKt</td>\n",
              "      <td>Saturday Night (Is The Loneliest Night In The ...</td>\n",
              "      <td>NaN</td>\n",
              "      <td>163000</td>\n",
              "      <td>0</td>\n",
              "      <td>1Mxqyy3pSjf8kZZL4QVxS0</td>\n",
              "      <td>1944</td>\n",
              "      <td>0.561</td>\n",
              "      <td>0.3350</td>\n",
              "      <td>9</td>\n",
              "      <td>-11.093</td>\n",
              "      <td>0.0499</td>\n",
              "      <td>0.8400</td>\n",
              "      <td>0.000002</td>\n",
              "      <td>0.7880</td>\n",
              "      <td>0.5900</td>\n",
              "      <td>126.974</td>\n",
              "    </tr>\n",
              "    <tr>\n",
              "      <th>4</th>\n",
              "      <td>6kD1SNGPkfX9LwaGd1FG92</td>\n",
              "      <td>Put Your Dreams Away (For Another Day)</td>\n",
              "      <td>NaN</td>\n",
              "      <td>186173</td>\n",
              "      <td>0</td>\n",
              "      <td>1Mxqyy3pSjf8kZZL4QVxS0</td>\n",
              "      <td>1944</td>\n",
              "      <td>0.197</td>\n",
              "      <td>0.0546</td>\n",
              "      <td>1</td>\n",
              "      <td>-22.411</td>\n",
              "      <td>0.0346</td>\n",
              "      <td>0.9500</td>\n",
              "      <td>0.276000</td>\n",
              "      <td>0.1520</td>\n",
              "      <td>0.1000</td>\n",
              "      <td>90.150</td>\n",
              "    </tr>\n",
              "    <tr>\n",
              "      <th>...</th>\n",
              "      <td>...</td>\n",
              "      <td>...</td>\n",
              "      <td>...</td>\n",
              "      <td>...</td>\n",
              "      <td>...</td>\n",
              "      <td>...</td>\n",
              "      <td>...</td>\n",
              "      <td>...</td>\n",
              "      <td>...</td>\n",
              "      <td>...</td>\n",
              "      <td>...</td>\n",
              "      <td>...</td>\n",
              "      <td>...</td>\n",
              "      <td>...</td>\n",
              "      <td>...</td>\n",
              "      <td>...</td>\n",
              "      <td>...</td>\n",
              "    </tr>\n",
              "    <tr>\n",
              "      <th>22407</th>\n",
              "      <td>0LcNMuOiULmxJK3bdHTfDF</td>\n",
              "      <td>Missing You</td>\n",
              "      <td>65.0</td>\n",
              "      <td>214987</td>\n",
              "      <td>0</td>\n",
              "      <td>7gAppWoH7pcYmphCVTXkzs</td>\n",
              "      <td>2019-04-19</td>\n",
              "      <td>0.537</td>\n",
              "      <td>0.6470</td>\n",
              "      <td>2</td>\n",
              "      <td>-7.370</td>\n",
              "      <td>0.0519</td>\n",
              "      <td>0.1680</td>\n",
              "      <td>0.000000</td>\n",
              "      <td>0.1080</td>\n",
              "      <td>0.5310</td>\n",
              "      <td>79.770</td>\n",
              "    </tr>\n",
              "    <tr>\n",
              "      <th>22408</th>\n",
              "      <td>1uviKYHZuM4uINK33F7sCt</td>\n",
              "      <td>Fix It to Break It</td>\n",
              "      <td>70.0</td>\n",
              "      <td>198799</td>\n",
              "      <td>0</td>\n",
              "      <td>7okSU80WTrn4LXlyXYbX3P</td>\n",
              "      <td>2020-03-27</td>\n",
              "      <td>0.493</td>\n",
              "      <td>0.4610</td>\n",
              "      <td>2</td>\n",
              "      <td>-8.524</td>\n",
              "      <td>0.0456</td>\n",
              "      <td>0.8450</td>\n",
              "      <td>0.000000</td>\n",
              "      <td>0.1150</td>\n",
              "      <td>0.3500</td>\n",
              "      <td>51.414</td>\n",
              "    </tr>\n",
              "    <tr>\n",
              "      <th>22409</th>\n",
              "      <td>None</td>\n",
              "      <td>Lotus Inn</td>\n",
              "      <td>63.0</td>\n",
              "      <td>195868</td>\n",
              "      <td>0</td>\n",
              "      <td>2jnIB6XdLvnJUeNTy5A0J2</td>\n",
              "      <td>2020-12-04</td>\n",
              "      <td>0.578</td>\n",
              "      <td>0.7400</td>\n",
              "      <td>2</td>\n",
              "      <td>-5.080</td>\n",
              "      <td>0.0721</td>\n",
              "      <td>0.0119</td>\n",
              "      <td>0.000000</td>\n",
              "      <td>0.1800</td>\n",
              "      <td>0.4950</td>\n",
              "      <td>155.984</td>\n",
              "    </tr>\n",
              "    <tr>\n",
              "      <th>22410</th>\n",
              "      <td>27kcZEJvhkb1rzZS9gCpdA</td>\n",
              "      <td>None</td>\n",
              "      <td>67.0</td>\n",
              "      <td>202355</td>\n",
              "      <td>0</td>\n",
              "      <td>7okSU80WTrn4LXlyXYbX3P</td>\n",
              "      <td>2020-11-27</td>\n",
              "      <td>0.590</td>\n",
              "      <td>0.4430</td>\n",
              "      <td>0</td>\n",
              "      <td>-5.662</td>\n",
              "      <td>0.0722</td>\n",
              "      <td>0.6180</td>\n",
              "      <td>0.000000</td>\n",
              "      <td>0.1100</td>\n",
              "      <td>0.3420</td>\n",
              "      <td>149.447</td>\n",
              "    </tr>\n",
              "    <tr>\n",
              "      <th>22411</th>\n",
              "      <td>27Y1N4Q4U3EfDU5Ubw8ws2</td>\n",
              "      <td>What They'll Say About Us</td>\n",
              "      <td>70.0</td>\n",
              "      <td>187601</td>\n",
              "      <td>0</td>\n",
              "      <td>None</td>\n",
              "      <td>2020-09-02</td>\n",
              "      <td>0.535</td>\n",
              "      <td>0.3140</td>\n",
              "      <td>7</td>\n",
              "      <td>-12.823</td>\n",
              "      <td>0.0408</td>\n",
              "      <td>0.8950</td>\n",
              "      <td>0.000150</td>\n",
              "      <td>0.0874</td>\n",
              "      <td>0.0663</td>\n",
              "      <td>145.095</td>\n",
              "    </tr>\n",
              "  </tbody>\n",
              "</table>\n",
              "<p>22412 rows × 17 columns</p>\n",
              "</div>"
            ],
            "text/plain": [
              "                           id  \\\n",
              "0      0RNxWy0PC3AyH4ThH3aGK6   \n",
              "1      2W889aLIKxULEefrleFBFI   \n",
              "2      4Pnzw1nLOpDNV6MKI5ueIR   \n",
              "3      7GLmfKOe5BfOXk7334DoKt   \n",
              "4      6kD1SNGPkfX9LwaGd1FG92   \n",
              "...                       ...   \n",
              "22407  0LcNMuOiULmxJK3bdHTfDF   \n",
              "22408  1uviKYHZuM4uINK33F7sCt   \n",
              "22409                    None   \n",
              "22410  27kcZEJvhkb1rzZS9gCpdA   \n",
              "22411  27Y1N4Q4U3EfDU5Ubw8ws2   \n",
              "\n",
              "                                                    name  popularity  \\\n",
              "0                                                   None         NaN   \n",
              "1                               Someone to Watch Over Me        54.0   \n",
              "2                                                   None        55.0   \n",
              "3      Saturday Night (Is The Loneliest Night In The ...         NaN   \n",
              "4                 Put Your Dreams Away (For Another Day)         NaN   \n",
              "...                                                  ...         ...   \n",
              "22407                                        Missing You        65.0   \n",
              "22408                                 Fix It to Break It        70.0   \n",
              "22409                                          Lotus Inn        63.0   \n",
              "22410                                               None        67.0   \n",
              "22411                          What They'll Say About Us        70.0   \n",
              "\n",
              "       duration_ms  explicit               id_artist release_date  \\\n",
              "0           201467         0  19eLuQmk9aCobbVDHc6eek         1929   \n",
              "1           198000         0  1Mxqyy3pSjf8kZZL4QVxS0         1943   \n",
              "2           199000         0  1Mxqyy3pSjf8kZZL4QVxS0         1944   \n",
              "3           163000         0  1Mxqyy3pSjf8kZZL4QVxS0         1944   \n",
              "4           186173         0  1Mxqyy3pSjf8kZZL4QVxS0         1944   \n",
              "...            ...       ...                     ...          ...   \n",
              "22407       214987         0  7gAppWoH7pcYmphCVTXkzs   2019-04-19   \n",
              "22408       198799         0  7okSU80WTrn4LXlyXYbX3P   2020-03-27   \n",
              "22409       195868         0  2jnIB6XdLvnJUeNTy5A0J2   2020-12-04   \n",
              "22410       202355         0  7okSU80WTrn4LXlyXYbX3P   2020-11-27   \n",
              "22411       187601         0                    None   2020-09-02   \n",
              "\n",
              "       danceability  energy  key  loudness  speechiness  acousticness  \\\n",
              "0             0.673  0.3770    0   -14.141       0.0697        0.5860   \n",
              "1             0.204  0.1510    2   -17.842       0.0418        0.9470   \n",
              "2             0.295  0.0826    1   -19.569       0.0367        0.9840   \n",
              "3             0.561  0.3350    9   -11.093       0.0499        0.8400   \n",
              "4             0.197  0.0546    1   -22.411       0.0346        0.9500   \n",
              "...             ...     ...  ...       ...          ...           ...   \n",
              "22407         0.537  0.6470    2    -7.370       0.0519        0.1680   \n",
              "22408         0.493  0.4610    2    -8.524       0.0456        0.8450   \n",
              "22409         0.578  0.7400    2    -5.080       0.0721        0.0119   \n",
              "22410         0.590  0.4430    0    -5.662       0.0722        0.6180   \n",
              "22411         0.535  0.3140    7   -12.823       0.0408        0.8950   \n",
              "\n",
              "       instrumentalness  liveness  valence    tempo  \n",
              "0              0.000000    0.3320   0.7130   88.973  \n",
              "1              0.000009    0.3210   0.1340   91.783  \n",
              "2              0.000358    0.1560   0.1690  128.600  \n",
              "3              0.000002    0.7880   0.5900  126.974  \n",
              "4              0.276000    0.1520   0.1000   90.150  \n",
              "...                 ...       ...      ...      ...  \n",
              "22407          0.000000    0.1080   0.5310   79.770  \n",
              "22408          0.000000    0.1150   0.3500   51.414  \n",
              "22409          0.000000    0.1800   0.4950  155.984  \n",
              "22410          0.000000    0.1100   0.3420  149.447  \n",
              "22411          0.000150    0.0874   0.0663  145.095  \n",
              "\n",
              "[22412 rows x 17 columns]"
            ]
          },
          "metadata": {},
          "output_type": "display_data"
        }
      ],
      "source": [
        "tracks_df"
      ]
    },
    {
      "cell_type": "markdown",
      "metadata": {},
      "source": [
        "### 2. Preprocessing danych"
      ]
    },
    {
      "cell_type": "markdown",
      "metadata": {},
      "source": [
        "#### Dane z df artystów"
      ]
    },
    {
      "cell_type": "code",
      "execution_count": null,
      "metadata": {},
      "outputs": [
        {
          "data": {
            "text/plain": [
              "(1667, 3)"
            ]
          },
          "metadata": {},
          "output_type": "display_data"
        }
      ],
      "source": [
        "artists_df.shape"
      ]
    },
    {
      "cell_type": "code",
      "execution_count": null,
      "metadata": {},
      "outputs": [
        {
          "name": "stdout",
          "output_type": "stream",
          "text": [
            "<class 'pandas.core.frame.DataFrame'>\n",
            "RangeIndex: 1667 entries, 0 to 1666\n",
            "Data columns (total 3 columns):\n",
            " #   Column  Non-Null Count  Dtype \n",
            "---  ------  --------------  ----- \n",
            " 0   id      1667 non-null   object\n",
            " 1   name    1667 non-null   object\n",
            " 2   genres  1339 non-null   object\n",
            "dtypes: object(3)\n",
            "memory usage: 39.2+ KB\n"
          ]
        }
      ],
      "source": [
        "artists_df.info()"
      ]
    },
    {
      "cell_type": "code",
      "execution_count": null,
      "metadata": {},
      "outputs": [
        {
          "data": {
            "text/html": [
              "<div>\n",
              "<style scoped>\n",
              "    .dataframe tbody tr th:only-of-type {\n",
              "        vertical-align: middle;\n",
              "    }\n",
              "\n",
              "    .dataframe tbody tr th {\n",
              "        vertical-align: top;\n",
              "    }\n",
              "\n",
              "    .dataframe thead th {\n",
              "        text-align: right;\n",
              "    }\n",
              "</style>\n",
              "<table border=\"1\" class=\"dataframe\">\n",
              "  <thead>\n",
              "    <tr style=\"text-align: right;\">\n",
              "      <th></th>\n",
              "      <th>id</th>\n",
              "      <th>name</th>\n",
              "      <th>genres</th>\n",
              "    </tr>\n",
              "  </thead>\n",
              "  <tbody>\n",
              "    <tr>\n",
              "      <th>count</th>\n",
              "      <td>1667</td>\n",
              "      <td>1667</td>\n",
              "      <td>1339</td>\n",
              "    </tr>\n",
              "    <tr>\n",
              "      <th>unique</th>\n",
              "      <td>1347</td>\n",
              "      <td>1667</td>\n",
              "      <td>1118</td>\n",
              "    </tr>\n",
              "    <tr>\n",
              "      <th>top</th>\n",
              "      <td>-1</td>\n",
              "      <td>Lil Nas X</td>\n",
              "      <td>[k-pop, k-pop boy group]</td>\n",
              "    </tr>\n",
              "    <tr>\n",
              "      <th>freq</th>\n",
              "      <td>321</td>\n",
              "      <td>1</td>\n",
              "      <td>11</td>\n",
              "    </tr>\n",
              "  </tbody>\n",
              "</table>\n",
              "</div>"
            ],
            "text/plain": [
              "          id       name                    genres\n",
              "count   1667       1667                      1339\n",
              "unique  1347       1667                      1118\n",
              "top       -1  Lil Nas X  [k-pop, k-pop boy group]\n",
              "freq     321          1                        11"
            ]
          },
          "metadata": {},
          "output_type": "display_data"
        }
      ],
      "source": [
        "artists_df.describe(include=object)"
      ]
    },
    {
      "cell_type": "code",
      "execution_count": null,
      "metadata": {},
      "outputs": [
        {
          "data": {
            "text/plain": [
              "id          0\n",
              "name        0\n",
              "genres    328\n",
              "dtype: int64"
            ]
          },
          "metadata": {},
          "output_type": "display_data"
        }
      ],
      "source": [
        "artists_df.isnull().sum()"
      ]
    },
    {
      "cell_type": "code",
      "execution_count": null,
      "metadata": {},
      "outputs": [
        {
          "data": {
            "text/html": [
              "<div>\n",
              "<style scoped>\n",
              "    .dataframe tbody tr th:only-of-type {\n",
              "        vertical-align: middle;\n",
              "    }\n",
              "\n",
              "    .dataframe tbody tr th {\n",
              "        vertical-align: top;\n",
              "    }\n",
              "\n",
              "    .dataframe thead th {\n",
              "        text-align: right;\n",
              "    }\n",
              "</style>\n",
              "<table border=\"1\" class=\"dataframe\">\n",
              "  <thead>\n",
              "    <tr style=\"text-align: right;\">\n",
              "      <th></th>\n",
              "      <th>id</th>\n",
              "      <th>name</th>\n",
              "      <th>genres</th>\n",
              "    </tr>\n",
              "  </thead>\n",
              "  <tbody>\n",
              "    <tr>\n",
              "      <th>6</th>\n",
              "      <td>25UNJbwGZSQKvz5cPLWlv3</td>\n",
              "      <td>Los Dos Carnales</td>\n",
              "      <td>None</td>\n",
              "    </tr>\n",
              "    <tr>\n",
              "      <th>10</th>\n",
              "      <td>0n6sKrG0xKAf8xmdqeNGke</td>\n",
              "      <td>Los Legendarios</td>\n",
              "      <td>None</td>\n",
              "    </tr>\n",
              "    <tr>\n",
              "      <th>11</th>\n",
              "      <td>0IxgA9wO4Op3CSnPlhfwV1</td>\n",
              "      <td>Kevin</td>\n",
              "      <td>None</td>\n",
              "    </tr>\n",
              "    <tr>\n",
              "      <th>18</th>\n",
              "      <td>0vLsqW05dyLvjuKKftAEGA</td>\n",
              "      <td>Die drei ??? Kids</td>\n",
              "      <td>None</td>\n",
              "    </tr>\n",
              "    <tr>\n",
              "      <th>29</th>\n",
              "      <td>-1</td>\n",
              "      <td>CORPSE</td>\n",
              "      <td>None</td>\n",
              "    </tr>\n",
              "    <tr>\n",
              "      <th>...</th>\n",
              "      <td>...</td>\n",
              "      <td>...</td>\n",
              "      <td>...</td>\n",
              "    </tr>\n",
              "    <tr>\n",
              "      <th>1627</th>\n",
              "      <td>3YQKmKGau1PzlVlkL1iodx</td>\n",
              "      <td>Twenty One Pilots</td>\n",
              "      <td>None</td>\n",
              "    </tr>\n",
              "    <tr>\n",
              "      <th>1631</th>\n",
              "      <td>4oUHIQIBe0LHzYfvXNW4QM</td>\n",
              "      <td>Morgan Wallen</td>\n",
              "      <td>None</td>\n",
              "    </tr>\n",
              "    <tr>\n",
              "      <th>1636</th>\n",
              "      <td>3Y2MLcrD3ZQXRXmtn4fZQx</td>\n",
              "      <td>SpotemGottem</td>\n",
              "      <td>None</td>\n",
              "    </tr>\n",
              "    <tr>\n",
              "      <th>1643</th>\n",
              "      <td>55fhWPvDiMpLnE4ZzNXZyW</td>\n",
              "      <td>Noah Cyrus</td>\n",
              "      <td>None</td>\n",
              "    </tr>\n",
              "    <tr>\n",
              "      <th>1645</th>\n",
              "      <td>7rkW85dBwwrJtlHRDkJDAC</td>\n",
              "      <td>NAV</td>\n",
              "      <td>None</td>\n",
              "    </tr>\n",
              "  </tbody>\n",
              "</table>\n",
              "<p>328 rows × 3 columns</p>\n",
              "</div>"
            ],
            "text/plain": [
              "                          id               name genres\n",
              "6     25UNJbwGZSQKvz5cPLWlv3   Los Dos Carnales   None\n",
              "10    0n6sKrG0xKAf8xmdqeNGke    Los Legendarios   None\n",
              "11    0IxgA9wO4Op3CSnPlhfwV1              Kevin   None\n",
              "18    0vLsqW05dyLvjuKKftAEGA  Die drei ??? Kids   None\n",
              "29                        -1             CORPSE   None\n",
              "...                      ...                ...    ...\n",
              "1627  3YQKmKGau1PzlVlkL1iodx  Twenty One Pilots   None\n",
              "1631  4oUHIQIBe0LHzYfvXNW4QM      Morgan Wallen   None\n",
              "1636  3Y2MLcrD3ZQXRXmtn4fZQx       SpotemGottem   None\n",
              "1643  55fhWPvDiMpLnE4ZzNXZyW         Noah Cyrus   None\n",
              "1645  7rkW85dBwwrJtlHRDkJDAC                NAV   None\n",
              "\n",
              "[328 rows x 3 columns]"
            ]
          },
          "metadata": {},
          "output_type": "display_data"
        }
      ],
      "source": [
        "artists_df[artists_df['genres'].isna()] # może da się odzyskać dane na podstawie piosenek z zespołów?"
      ]
    },
    {
      "cell_type": "code",
      "execution_count": null,
      "metadata": {},
      "outputs": [
        {
          "data": {
            "text/plain": [
              "-1                        321\n",
              "7jVv8c5Fj3E9VhNjxT4snq      1\n",
              "1moxjboGR7GNWYIMWsRjgG      1\n",
              "49tQo2QULno7gxHutgccqF      1\n",
              "37M5pPGs6V1fchFJSgCguX      1\n",
              "Name: id, dtype: int64"
            ]
          },
          "metadata": {},
          "output_type": "display_data"
        }
      ],
      "source": [
        "artists_df[\"id\"].value_counts().head()"
      ]
    },
    {
      "cell_type": "code",
      "execution_count": null,
      "metadata": {},
      "outputs": [
        {
          "data": {
            "text/plain": [
              "2              TheFatRat\n",
              "4              Jawsh 685\n",
              "9     Guilherme & Benuto\n",
              "14                Dardan\n",
              "23                  Mata\n",
              "Name: name, dtype: object"
            ]
          },
          "metadata": {},
          "output_type": "display_data"
        }
      ],
      "source": [
        "artists_df[artists_df[\"id\"] == -1]['name'].head()"
      ]
    },
    {
      "cell_type": "markdown",
      "metadata": {},
      "source": [
        "#### Dane z df piosenek"
      ]
    },
    {
      "cell_type": "code",
      "execution_count": null,
      "metadata": {},
      "outputs": [
        {
          "data": {
            "text/plain": [
              "(22412, 17)"
            ]
          },
          "metadata": {},
          "output_type": "display_data"
        }
      ],
      "source": [
        "tracks_df.shape"
      ]
    },
    {
      "cell_type": "code",
      "execution_count": null,
      "metadata": {},
      "outputs": [
        {
          "name": "stdout",
          "output_type": "stream",
          "text": [
            "<class 'pandas.core.frame.DataFrame'>\n",
            "RangeIndex: 22412 entries, 0 to 22411\n",
            "Data columns (total 17 columns):\n",
            " #   Column            Non-Null Count  Dtype  \n",
            "---  ------            --------------  -----  \n",
            " 0   id                17932 non-null  object \n",
            " 1   name              17869 non-null  object \n",
            " 2   popularity        17976 non-null  float64\n",
            " 3   duration_ms       22412 non-null  int64  \n",
            " 4   explicit          22412 non-null  int64  \n",
            " 5   id_artist         17945 non-null  object \n",
            " 6   release_date      22412 non-null  object \n",
            " 7   danceability      22412 non-null  float64\n",
            " 8   energy            22412 non-null  float64\n",
            " 9   key               22412 non-null  int64  \n",
            " 10  loudness          22412 non-null  float64\n",
            " 11  speechiness       22412 non-null  float64\n",
            " 12  acousticness      22412 non-null  float64\n",
            " 13  instrumentalness  22412 non-null  float64\n",
            " 14  liveness          22412 non-null  float64\n",
            " 15  valence           22412 non-null  float64\n",
            " 16  tempo             22412 non-null  float64\n",
            "dtypes: float64(10), int64(3), object(4)\n",
            "memory usage: 2.9+ MB\n"
          ]
        }
      ],
      "source": [
        "tracks_df.info()"
      ]
    },
    {
      "cell_type": "code",
      "execution_count": null,
      "metadata": {},
      "outputs": [
        {
          "data": {
            "text/plain": [
              "id                  4480\n",
              "name                4543\n",
              "popularity          4436\n",
              "duration_ms            0\n",
              "explicit               0\n",
              "id_artist           4467\n",
              "release_date           0\n",
              "danceability           0\n",
              "energy                 0\n",
              "key                    0\n",
              "loudness               0\n",
              "speechiness            0\n",
              "acousticness           0\n",
              "instrumentalness       0\n",
              "liveness               0\n",
              "valence                0\n",
              "tempo                  0\n",
              "dtype: int64"
            ]
          },
          "metadata": {},
          "output_type": "display_data"
        }
      ],
      "source": [
        "tracks_df.isnull().sum()"
      ]
    },
    {
      "cell_type": "code",
      "execution_count": null,
      "metadata": {},
      "outputs": [
        {
          "data": {
            "text/html": [
              "<div>\n",
              "<style scoped>\n",
              "    .dataframe tbody tr th:only-of-type {\n",
              "        vertical-align: middle;\n",
              "    }\n",
              "\n",
              "    .dataframe tbody tr th {\n",
              "        vertical-align: top;\n",
              "    }\n",
              "\n",
              "    .dataframe thead th {\n",
              "        text-align: right;\n",
              "    }\n",
              "</style>\n",
              "<table border=\"1\" class=\"dataframe\">\n",
              "  <thead>\n",
              "    <tr style=\"text-align: right;\">\n",
              "      <th></th>\n",
              "      <th>id</th>\n",
              "      <th>name</th>\n",
              "      <th>id_artist</th>\n",
              "      <th>release_date</th>\n",
              "    </tr>\n",
              "  </thead>\n",
              "  <tbody>\n",
              "    <tr>\n",
              "      <th>count</th>\n",
              "      <td>17932</td>\n",
              "      <td>17869</td>\n",
              "      <td>17945</td>\n",
              "      <td>22412</td>\n",
              "    </tr>\n",
              "    <tr>\n",
              "      <th>unique</th>\n",
              "      <td>17932</td>\n",
              "      <td>14689</td>\n",
              "      <td>1392</td>\n",
              "      <td>3907</td>\n",
              "    </tr>\n",
              "    <tr>\n",
              "      <th>top</th>\n",
              "      <td>0RNxWy0PC3AyH4ThH3aGK6</td>\n",
              "      <td>Animals</td>\n",
              "      <td>06HL4z0CvFAxyc27GXpf02</td>\n",
              "      <td>2013-01-01</td>\n",
              "    </tr>\n",
              "    <tr>\n",
              "      <th>freq</th>\n",
              "      <td>1</td>\n",
              "      <td>10</td>\n",
              "      <td>255</td>\n",
              "      <td>268</td>\n",
              "    </tr>\n",
              "  </tbody>\n",
              "</table>\n",
              "</div>"
            ],
            "text/plain": [
              "                            id     name               id_artist release_date\n",
              "count                    17932    17869                   17945        22412\n",
              "unique                   17932    14689                    1392         3907\n",
              "top     0RNxWy0PC3AyH4ThH3aGK6  Animals  06HL4z0CvFAxyc27GXpf02   2013-01-01\n",
              "freq                         1       10                     255          268"
            ]
          },
          "metadata": {},
          "output_type": "display_data"
        }
      ],
      "source": [
        "tracks_df.describe(include=object)"
      ]
    }
  ],
  "metadata": {
    "colab": {
      "provenance": []
    },
    "kernelspec": {
      "display_name": "Python 3.10.5 64-bit",
      "language": "python",
      "name": "python3"
    },
    "language_info": {
      "codemirror_mode": {
        "name": "ipython",
        "version": 3
      },
      "file_extension": ".py",
      "mimetype": "text/x-python",
      "name": "python",
      "nbconvert_exporter": "python",
      "pygments_lexer": "ipython3",
      "version": "3.10.5"
    },
    "orig_nbformat": 4,
    "vscode": {
      "interpreter": {
        "hash": "4c1bce8e414f9bc48912dcc4416cdb1ae524d0fbd3b04a7c9d6465f890f9d9c6"
      }
    }
  },
  "nbformat": 4,
  "nbformat_minor": 0
}
