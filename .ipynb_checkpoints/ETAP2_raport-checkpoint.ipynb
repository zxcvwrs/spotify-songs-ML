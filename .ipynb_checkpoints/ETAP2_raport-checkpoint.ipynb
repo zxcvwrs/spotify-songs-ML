{
 "cells": [
  {
   "cell_type": "markdown",
   "metadata": {},
   "source": [
    "## Projekt IUM (zestaw 09, wariant 02)"
   ]
  },
  {
   "cell_type": "markdown",
   "metadata": {},
   "source": [
    "Autorzy:\n",
    "- Shpakovich Valeryia 317114\n",
    "- Wolert Rafał 306020"
   ]
  },
  {
   "cell_type": "markdown",
   "metadata": {},
   "source": [
    "### Spis treści:\n",
    "1. Wybór modelu: bazowego i bardziej zaawansowanego modelu docelowego.\n",
    "    - 1.1 Rozwiązanie problemu grupowania (pierwsze zadanie modelowania)\n",
    "    - 1.2 Rozwiązanie problemu klasyfikacji wieloklasowej (drugie zadanie modelowania)\n",
    "2. Implementacja aplikacji w formie mikroserwisu:\n",
    "    - 2.1 Serwowanie predykcji przy pomocy danego modelu\n",
    "    - 2.2 Realizacja eksperymentu A/B\n",
    "3. Działanie implementacji\n",
    "4. Spełnienie kryteriów biznesu/suckesu"
   ]
  },
  {
   "cell_type": "markdown",
   "metadata": {},
   "source": [
    "### 1. Wybór modelu: bazowego i bardziej zaawansowanego modelu docelowego."
   ]
  },
  {
   "cell_type": "markdown",
   "metadata": {},
   "source": [
    "Nasz projekt zakładał dwa modele: jeden model związany z zadaniem clusteringu, a drugi związany z zadaniem klasyfikacji. Model clusteringu został zastosowany celem otrzymania danych wzbogaconych o gatunek dla danego utworu. Następnie na danych wzbogaconych o gatunek dla danego utworu (każdy utwór ma jeden gatunek utworu), została przeprowadzona klasyfikacja wieloklasowa.\n",
    "\n",
    "Model klasyfikacji wieloklasowej jest modelem, który w naszym projekcie używany jest w środowisku produkcyjnym. Stąd model bazowy i bardziej zaawansowany dotyczy jedynie modelu klasyfikacji wieloklasowej."
   ]
  },
  {
   "cell_type": "markdown",
   "metadata": {},
   "source": [
    "#### 1.1 Rozwiązanie problemu grupowania"
   ]
  },
  {
   "cell_type": "markdown",
   "metadata": {},
   "source": [
    "Proces budowy modelu dla problemu grupowania został przedstawiony w pliku: [nazwa_pliku].\n",
    "\n",
    "Pierwsze zadanie modelowania było związane z odpowiednim przypisaniem gatunku dla danego utworu:\n",
    "  - na zbiorze wszystkich piosenek stosujemy **clustering**, celem uzyskania grup, które posiadają cechy charakterystyczne dla każdego gatunku i są związane z rytmicznością, tanecznością, głośnością itd. danego utworu\n",
    "  - wynikiem clusteringu są grupy, z których w każdej znajdują się piosenki z przypisanymi autorami. Artyści mają przypisane gatunki w których tworzą.\n",
    "  - na podstawie gatunków, w których artyści tworzą, z pomocą heurystyk, jaki gatunek występuje w grupie najczęściej, określany będzie gatunek całej grupy.\n",
    "\n",
    "Poniżej przedstawiono opisany proces:\n",
    "\n",
    "  ![pierwszy_model](pierwszy_model.png)\n",
    "\n",
    "Dzięki metodzie clusteringu otrzymujemy dane wzbogacone o gatunek dla danego utworu. \n",
    "\n",
    "[tu_napisac_o_procesie_budowania_modelu_i_o_wynikach]"
   ]
  },
  {
   "cell_type": "markdown",
   "metadata": {},
   "source": [
    "#### 1.3 Rozwiązanie problemu klasyfikacji wieloklasowej (drugie zadanie modelowania)"
   ]
  },
  {
   "cell_type": "markdown",
   "metadata": {},
   "source": [
    "Dane wzbogacone o gatunek dla danego utworu zostały użyte w procesie klasyfikacji wieloklasowej. Zmienna celu prezentowała się następująco:\n",
    "\n",
    "- pop                     66271\n",
    "- rock                    11758\n",
    "- latin                    3343\n",
    "- easy_listening            784\n",
    "- jazz                      110\n",
    "- traditional_folk           75\n",
    "- r&b                        28\n",
    "- acoustic                   15\n",
    "\n",
    "Łącznie: 82384 rekordów.\n",
    "\n",
    "Zastosowane cechy w klasyfikacji wieloklasowej to: ['danceability','key','energy','loudness','speechiness','acousticness','instrumentalness','liveness','valence','tempo'], gdzie zmienna celu to kolumna ['genre']. \n",
    "\n",
    "Wszystkie kolumny użyte w procesie klasyfikacji wieloklasowej, były kolumnami z wartościami numerycznymi, ale o innej skali - zastosowano skalowanie z użyciem StandardScaler() z biblioteki sklearn. Użyty algorytm w klasyfikacji to RandomForestClassifier. Zbiór testowy i treningowy został uzyskany w podziale zbioru danych według stosunku odpowiednio 20:80 (%).\n",
    "\n",
    "Łącznie utworzono 4 modele klasyfikacji wieloklasowej, z której wybrano 2 jako modele A i B. W dwóch przypadkach modeli, użyto techniki SMOTE celem utworzenia syntetycznych danych i oversamplingu klas mniejszościowych, a co za tym idzie, uzyskania bardziej zbalansowanego zbioru danych.\n",
    "\n",
    "Do strojenia modelu nr 2 i nr 4 użyto HalvingRandomSearchCV do poszukiwania optymalnego zbioru hiperparametrów: n_estimators, max_depth, min_samples_split oraz min_samples_leaf. \n",
    "Utworzono także scorer, na podstawie f1_score. Dla modelu 2 brano pod uwagę etykiety: [\"easy_listening\", \"acoustic\", \"jazz\", \"latin\", \"r&b\", \"rock\", \"traditional_folk\"], które były klasami mniejszościowymi, a dla modelu 4 (wszystkie dane były równe pod względem ilościowym), etykiety: [\"latin\", \"pop\", \"rock\"], które miały najmniejszy f1_score.\n",
    "\n",
    "1. Model bez SMOTE i bez strojenia wyniki\n",
    "   \n",
    " ![etap2_pierwszy_model](etap2_raport_grafika/bez_smote_niestrojony.png)\n",
    "\n",
    "\n",
    "\n",
    "2. Model bez SMOTE i ze strojeniem wyniki\n",
    "   \n",
    " ![etap2_drugi_model](etap2_raport_grafika/bez_smote_strojony.png)\n",
    "\n",
    "W pierwszym przypadku zastosowano algorytm RandomForestClassifier z domyślnymi hiperparametrami. W drugim przypadku, zastosowano opisane wyżej strojenie hiperparametrów (trwało około 1.5h, ze zmniejszoną ilością przedziałów wartości parametrów do szukania, optymalny wyszukany zbiór to: RandomForestClassifier(max_depth=70, n_estimators=822)), które polepszyło kategorię: easy_listening z 0.26 na 0.27 pod względem f1-score, pogorszyło zaś w kategorii: latin z 0.33 na 0.31 oraz w kategorii traditional_folk z 0.44 na 0.25. \n",
    "W obu przypadkach bierzemy pod uwagę f1-score ze względu na niezbalansowany zbiór. Wyniki w obu modelach również wskazują na silne niezbalansowanie klasyfikacji gatunków, model generuje dużo błędnych predykcji i nie jest w stanie dobrze przyporządkowywać gatunków do klas, mamy wysoki f1-score tylko dla gatunku 'pop'.\n",
    "\n",
    "3. Model z SMOTE i bez strojenia wyniki\n",
    "   \n",
    " ![etap2_trzeci_model](etap2_raport_grafika/smote_niestrojony.png)\n",
    "\n",
    "4. Model z SMOTE i ze strojeniem wyniki\n",
    "   \n",
    " ![etap2_czwarty_model](etap2_raport_grafika/smote_strojony.png)\n"
   ]
  },
  {
   "cell_type": "markdown",
   "metadata": {},
   "source": [
    "Celem większego zbalansowania klas, użyto techniki SMOTE do oversamplingu klas mniejszościowych. Widzimy, że w modelu nr 3, gdzie zastosowano technikę SMOTE, f1-score dla każdego gatunku jest bardzo wysoki, w niektórych przypadkach równy 1. Oznacza to, że możemy mieć do czynienia z nadmiernym dopasowaniem modelu. Strojenie hiperparametrów (około 3 godzinne), nie dało satysfakcjonujących wyników, bardzo pogorszyło jakość modelu. Strojenie hiperparametrów wskazało na dobór zbioru parametrów: (max_depth=80, n_estimators=2000), gdzie maksymalna liczba w parametrze n_estimators w zadanym strojeniu to 2000. Oznacza to, że gdybyśmy poszerzyli zakres parametru n_estimators, prawdopodobnie otrzymalibyśmy lepsze zbiór parametrów, natomiast było to zbyt czasochłonne.\n",
    "\n",
    "Warto nadmienić, że optymalną techniką byłoby użycie techniki SMOTE zarówno pod względem oversamplingu klas mniejszościowych i undersamplingu klasy większościowej, bądź zastosowanie innej techniki undersamplingu w połączeniu z oversamplingiem SMOTE i odwrotnie. Prawdopodobnie wtedy, otrzymalibyśmy bardziej wiarygodne wyniki dla modelu.\n",
    "\n",
    "Z tego powodu, jako modele A oraz B wybrano: model bez strojenia i bez SMOTE, model ze strojeniem i bez SMOTE (z powyższego opisu, model nr 1 i nr 2, oba znajdują się w folderze /modele"
   ]
  },
  {
   "cell_type": "markdown",
   "metadata": {},
   "source": [
    "### 2. Implementacja aplikacji w formie mikroserwisu"
   ]
  },
  {
   "cell_type": "markdown",
   "metadata": {},
   "source": [
    "Aplikacja składa się z cztereh elementów: folder database,folder models oraz pliki db.py oraz predictor.py.\n",
    "- W folderze database będzie przechowywana baza danych SQLite, do której są zapisywane wygenerowane przez mikroserwis predykcje.\n",
    "- W folderze models są umieszczone modele klasyfikacji.\n",
    "- Db.py odpowiada za komunikacją z bazą danych oraz tworzenie bazy danych podczas pierwszego uruchomienia.\n",
    "- Predictor.py odpowiada za generowanie predykcji w zależności od otrzymywanych zapytań\n",
    "\n",
    "Wymagania:\n",
    "- sqlite3\n",
    "- joblib v1.2.0\n",
    "- fastapi\n",
    "- uvicorn\n",
    "\n",
    "Uruchomienie:\n",
    ">python db.py # w przypadku gdy plik z bazą danych nie został jeszcze utworzony\n",
    "\n",
    ">uvicorn predictor:app --reload # uruchomienie serwera"
   ]
  },
  {
   "cell_type": "markdown",
   "metadata": {},
   "source": [
    "#### 2.1 Serwowanie predykcji przy pomocy danego modelu"
   ]
  },
  {
   "cell_type": "markdown",
   "metadata": {},
   "source": [
    "Do mikroserwisu istneje możliwość wysyłania zapytań POST/predict_A oraz POST/predict_B.\n",
    "W zależności od zapytania, do predykcji zostaje wykorzystany pewien model: A - bez SMOTE niestrojony, B - bez SMOTE strojony.\n",
    "\n",
    "Jako request body w postaci JSON podają się utwor: w odpowiednie pola są wpisywane odpowiednie atrybuty utworu.\n",
    "\n",
    "Uzytkownik jako odpowiedź dostaje określony dla tego utworu gatunek, natomiast do bazy danych na serwerze zapisywane są utwor, wygenerowaną predykcją(gatunek), grupą użytkownika oraz datą predykcji."
   ]
  },
  {
   "cell_type": "markdown",
   "metadata": {},
   "source": [
    "#### 2.2 Realizacja eksperymentu A/B"
   ]
  },
  {
   "cell_type": "markdown",
   "metadata": {},
   "source": [
    "W zależności ot tego, do której grupy zostanie przypisany użytkownik, do mikroserwisu będą wysyłane odpowiednie zapytania.\n",
    "Przechowywanie historii predykcji umożliwia analizę jakości modeli w przyszłości."
   ]
  },
  {
   "cell_type": "markdown",
   "metadata": {},
   "source": [
    "### 3. Działanie implementacji"
   ]
  },
  {
   "cell_type": "markdown",
   "metadata": {},
   "source": [
    "W celach demonstracyjnych ze zbioru danych do klasyfikacji zostały wybrane trzy utwory:"
   ]
  },
  {
   "cell_type": "code",
   "execution_count": 1,
   "metadata": {},
   "outputs": [],
   "source": [
    "from joblib import load, dump"
   ]
  },
  {
   "cell_type": "code",
   "execution_count": 2,
   "metadata": {},
   "outputs": [],
   "source": [
    "tracks_genres_df = load('dane_do_klasyfikacji/tracks_genres_df')\n"
   ]
  },
  {
   "cell_type": "code",
   "execution_count": 3,
   "metadata": {},
   "outputs": [
    {
     "data": {
      "text/html": [
       "<div>\n",
       "<style scoped>\n",
       "    .dataframe tbody tr th:only-of-type {\n",
       "        vertical-align: middle;\n",
       "    }\n",
       "\n",
       "    .dataframe tbody tr th {\n",
       "        vertical-align: top;\n",
       "    }\n",
       "\n",
       "    .dataframe thead th {\n",
       "        text-align: right;\n",
       "    }\n",
       "</style>\n",
       "<table border=\"1\" class=\"dataframe\">\n",
       "  <thead>\n",
       "    <tr style=\"text-align: right;\">\n",
       "      <th></th>\n",
       "      <th>id</th>\n",
       "      <th>name</th>\n",
       "      <th>popularity</th>\n",
       "      <th>duration_ms</th>\n",
       "      <th>explicit</th>\n",
       "      <th>id_artist</th>\n",
       "      <th>release_date</th>\n",
       "      <th>danceability</th>\n",
       "      <th>energy</th>\n",
       "      <th>key</th>\n",
       "      <th>loudness</th>\n",
       "      <th>speechiness</th>\n",
       "      <th>acousticness</th>\n",
       "      <th>instrumentalness</th>\n",
       "      <th>liveness</th>\n",
       "      <th>valence</th>\n",
       "      <th>tempo</th>\n",
       "      <th>artists_genre</th>\n",
       "      <th>genre</th>\n",
       "    </tr>\n",
       "  </thead>\n",
       "  <tbody>\n",
       "    <tr>\n",
       "      <th>5</th>\n",
       "      <td>27NJMyHkTZONiWloxVBHxG</td>\n",
       "      <td>Domingo De Agua</td>\n",
       "      <td>13</td>\n",
       "      <td>248693</td>\n",
       "      <td>0</td>\n",
       "      <td>7va6FT607YxAj4HtoXVEIh</td>\n",
       "      <td>1982-09-01</td>\n",
       "      <td>0.725</td>\n",
       "      <td>0.132</td>\n",
       "      <td>11</td>\n",
       "      <td>-17.372</td>\n",
       "      <td>0.0463</td>\n",
       "      <td>0.9800</td>\n",
       "      <td>0.119</td>\n",
       "      <td>0.106</td>\n",
       "      <td>0.517</td>\n",
       "      <td>117.473</td>\n",
       "      <td>[rock, classic uk pop, pop]</td>\n",
       "      <td>easy_listening</td>\n",
       "    </tr>\n",
       "    <tr>\n",
       "      <th>28</th>\n",
       "      <td>0d6xAOaR4r55fKknqaFwEA</td>\n",
       "      <td>Ați Uitat</td>\n",
       "      <td>17</td>\n",
       "      <td>253653</td>\n",
       "      <td>0</td>\n",
       "      <td>0MBEd6qd0GmDdDW8Pyftuv</td>\n",
       "      <td>2003-07-19</td>\n",
       "      <td>0.820</td>\n",
       "      <td>0.792</td>\n",
       "      <td>7</td>\n",
       "      <td>-4.504</td>\n",
       "      <td>0.2540</td>\n",
       "      <td>0.0543</td>\n",
       "      <td>0.000</td>\n",
       "      <td>0.122</td>\n",
       "      <td>0.780</td>\n",
       "      <td>99.890</td>\n",
       "      <td>[rock, classic uk pop, pop]</td>\n",
       "      <td>rock</td>\n",
       "    </tr>\n",
       "    <tr>\n",
       "      <th>25</th>\n",
       "      <td>6rmXhRIemCTPyMYZRDN7Qg</td>\n",
       "      <td>Black Magic</td>\n",
       "      <td>78</td>\n",
       "      <td>211786</td>\n",
       "      <td>0</td>\n",
       "      <td>3e7awlrlDSwF3iM0WBjGMp</td>\n",
       "      <td>2015-11-06</td>\n",
       "      <td>0.776</td>\n",
       "      <td>0.875</td>\n",
       "      <td>4</td>\n",
       "      <td>-5.535</td>\n",
       "      <td>0.0575</td>\n",
       "      <td>0.0343</td>\n",
       "      <td>0.000</td>\n",
       "      <td>0.314</td>\n",
       "      <td>0.849</td>\n",
       "      <td>111.988</td>\n",
       "      <td>[rock, classic uk pop, pop]</td>\n",
       "      <td>pop</td>\n",
       "    </tr>\n",
       "  </tbody>\n",
       "</table>\n",
       "</div>"
      ],
      "text/plain": [
       "                        id             name  popularity  duration_ms  \\\n",
       "5   27NJMyHkTZONiWloxVBHxG  Domingo De Agua          13       248693   \n",
       "28  0d6xAOaR4r55fKknqaFwEA        Ați Uitat          17       253653   \n",
       "25  6rmXhRIemCTPyMYZRDN7Qg      Black Magic          78       211786   \n",
       "\n",
       "    explicit               id_artist release_date  danceability  energy  key  \\\n",
       "5          0  7va6FT607YxAj4HtoXVEIh   1982-09-01         0.725   0.132   11   \n",
       "28         0  0MBEd6qd0GmDdDW8Pyftuv   2003-07-19         0.820   0.792    7   \n",
       "25         0  3e7awlrlDSwF3iM0WBjGMp   2015-11-06         0.776   0.875    4   \n",
       "\n",
       "    loudness  speechiness  acousticness  instrumentalness  liveness  valence  \\\n",
       "5    -17.372       0.0463        0.9800             0.119     0.106    0.517   \n",
       "28    -4.504       0.2540        0.0543             0.000     0.122    0.780   \n",
       "25    -5.535       0.0575        0.0343             0.000     0.314    0.849   \n",
       "\n",
       "      tempo                artists_genre           genre  \n",
       "5   117.473  [rock, classic uk pop, pop]  easy_listening  \n",
       "28   99.890  [rock, classic uk pop, pop]            rock  \n",
       "25  111.988  [rock, classic uk pop, pop]             pop  "
      ]
     },
     "execution_count": 3,
     "metadata": {},
     "output_type": "execute_result"
    }
   ],
   "source": [
    "tracks_genres_selected = tracks_genres_df.iloc[[5,28,25],:]\n",
    "tracks_genres_selected"
   ]
  },
  {
   "attachments": {},
   "cell_type": "markdown",
   "metadata": {},
   "source": [
    "Dla utworu \"Domingo De Agua\" zapytania do serweru wyglądały w nastepujący sposób:\n",
    "![etap2_drugi_model](etap2_raport_grafika/track_5_A_request.png)\n",
    "![etap2_drugi_model](etap2_raport_grafika/track_5_B_request.png)\n",
    "W obydwu przypadkach jako odpowiedź był otrzymany gatunek \"pop\", response body wygląda w następujący sposób\n",
    "![etap2_drugi_model](etap2_raport_grafika/track_5_response.png)"
   ]
  },
  {
   "cell_type": "markdown",
   "metadata": {},
   "source": [
    "W taki sam sposób zostały wykonane zapytania A i B dla pozostałych utworów.\n",
    "Ze strony serwera to wyglądało w następujący sposób:\n",
    "\n",
    "![etap2_drugi_model](etap2_raport_grafika/uruchomienie_servera.png)"
   ]
  },
  {
   "cell_type": "markdown",
   "metadata": {},
   "source": [
    "Otworzony za pomocą SQLiteStudio plik z bazą danych(predykcje są przecowywane w tabeli predictions_history):\n",
    "\n",
    "![etap2_drugi_model](etap2_raport_grafika/predictions_history.png)\n",
    "\n",
    "Można zauważyć, że w każdym z tych przypadków, jak również i do zapytań \"przykładowych\" został przypisany gatunek \"pop\". By móc ocenić jakość modeli trzeba byłoby wykonać predykcję do większej ilości utworów."
   ]
  },
  {
   "cell_type": "markdown",
   "metadata": {},
   "source": [
    "### 4. Spełnienie kryteriów biznesu/sukcesu"
   ]
  },
  {
   "cell_type": "markdown",
   "metadata": {},
   "source": [
    "Określone kryteria sukcesów w ramach pierwszego etapu to:\n",
    "\n",
    "Biznesowe:\n",
    "\n",
    "Nowododanym wykonawcom skutecznie przypisywane są gatunki muzyczne.\n",
    "\n",
    "Analityczne:\n",
    "\n",
    "Po wstępnej analizie oraz zaproponowaniu modelu bazowego, będziemy starali się otrzymać przypisania gatunków mniej licznych do utworów. Obecnie, możemy zauważyć, że ze względu na niezbalansowany zbiór danych, mamy główne gatunki typu 'pop' czy 'rock'. Naszym kryterium sukcesu, opartym o model bazowym, będzie przypisanie gatunków mniej licznych, określonych jako gatunki główne, w większości utworów."
   ]
  },
  {
   "cell_type": "markdown",
   "metadata": {},
   "source": [
    "Zakładaliśmy także, że przypisanie gatunku do piosenki, bezpośrednio świadczy o gatunku, w jakim tworzy autor piosenki. \n",
    "\n",
    "Finalnie, możemy mówić o średniej skuteczności w przypisywaniu gatunków muzycznych nowododanym wykonawcom. Wybrany model z niską skutecznością przewiduje gatunek dla piosenki innej niż 'pop'. Głównym problemem w procesie naszych zadań modelowania okazał się niezbalansowany zbiór danych użyty do clusteringu. Zbiór ten, ze względu na użyte metody, nie został poprawiony i klasy nie zostały zbalansowane - wymagałoby to bardzo szczegółowego zbadania zbioru i określenia danych podgatunków do gatunków głównych (liczba podgatunków w niektórych przypadkach była równa nawet liczbie 200, a pomimo tego, klasa i tak nie była liczna. Średnio około 70 podgatunków należało do jednego gatunku) lub określenia innych gatunków głównych bardziej wpasowujących się w zbiór danych.\n",
    "Zastosowanie niezbalansowanego zbioru wymagałoby także użycia bardziej złożonych technik niż technika SMOTE jedynie w celu oversamplingu klas mniejszościowych. Połączenie innych technik celem jednoczesnego oversamplingu klas mniejszościowych i undersamplingu klas większościowych, mogłoby doprowadzić do uzyskania lepszych określonych gatunków dla piosenek w procesie clusteringu, a potem w procesie klasyfikacji.\n",
    "\n",
    "\n"
   ]
  },
  {
   "cell_type": "markdown",
   "metadata": {},
   "source": []
  }
 ],
 "metadata": {
  "kernelspec": {
   "display_name": "Python 3 (ipykernel)",
   "language": "python",
   "name": "python3"
  },
  "language_info": {
   "codemirror_mode": {
    "name": "ipython",
    "version": 3
   },
   "file_extension": ".py",
   "mimetype": "text/x-python",
   "name": "python",
   "nbconvert_exporter": "python",
   "pygments_lexer": "ipython3",
   "version": "3.10.9"
  },
  "vscode": {
   "interpreter": {
    "hash": "4c1bce8e414f9bc48912dcc4416cdb1ae524d0fbd3b04a7c9d6465f890f9d9c6"
   }
  }
 },
 "nbformat": 4,
 "nbformat_minor": 2
}
