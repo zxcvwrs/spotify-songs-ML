{
 "cells": [
  {
   "cell_type": "markdown",
   "metadata": {},
   "source": [
    "W tym notatniku przedstawiamy finalny model, który klasyfikuje gatunek piosenki. Mając sklasyfikowany gatunek piosenki, przyjmujemy, że autor tworzy w \n",
    "tym gatunku."
   ]
  },
  {
   "cell_type": "code",
   "execution_count": 1,
   "metadata": {},
   "outputs": [],
   "source": [
    "from joblib import load, dump"
   ]
  },
  {
   "cell_type": "code",
   "execution_count": 2,
   "metadata": {},
   "outputs": [],
   "source": [
    "tracks_genres_df = load('dane_do_klasyfikacji/tracks_genres_df')"
   ]
  },
  {
   "cell_type": "code",
   "execution_count": 3,
   "metadata": {},
   "outputs": [
    {
     "data": {
      "text/html": [
       "<div>\n",
       "<style scoped>\n",
       "    .dataframe tbody tr th:only-of-type {\n",
       "        vertical-align: middle;\n",
       "    }\n",
       "\n",
       "    .dataframe tbody tr th {\n",
       "        vertical-align: top;\n",
       "    }\n",
       "\n",
       "    .dataframe thead th {\n",
       "        text-align: right;\n",
       "    }\n",
       "</style>\n",
       "<table border=\"1\" class=\"dataframe\">\n",
       "  <thead>\n",
       "    <tr style=\"text-align: right;\">\n",
       "      <th></th>\n",
       "      <th>id</th>\n",
       "      <th>name</th>\n",
       "      <th>popularity</th>\n",
       "      <th>duration_ms</th>\n",
       "      <th>explicit</th>\n",
       "      <th>id_artist</th>\n",
       "      <th>release_date</th>\n",
       "      <th>danceability</th>\n",
       "      <th>energy</th>\n",
       "      <th>key</th>\n",
       "      <th>loudness</th>\n",
       "      <th>speechiness</th>\n",
       "      <th>acousticness</th>\n",
       "      <th>instrumentalness</th>\n",
       "      <th>liveness</th>\n",
       "      <th>valence</th>\n",
       "      <th>tempo</th>\n",
       "      <th>artists_genre</th>\n",
       "      <th>genre</th>\n",
       "    </tr>\n",
       "  </thead>\n",
       "  <tbody>\n",
       "    <tr>\n",
       "      <th>0</th>\n",
       "      <td>48SFtLr5URCI97X2Ynfdnc</td>\n",
       "      <td>Par Avion (Live) ( 2014 - Remaster) - Live; 20...</td>\n",
       "      <td>0</td>\n",
       "      <td>291227</td>\n",
       "      <td>0</td>\n",
       "      <td>2yTUYhIf8fxptTIy3KLuJD</td>\n",
       "      <td>2014</td>\n",
       "      <td>0.603</td>\n",
       "      <td>0.517</td>\n",
       "      <td>6</td>\n",
       "      <td>-8.504</td>\n",
       "      <td>0.0235</td>\n",
       "      <td>0.6950</td>\n",
       "      <td>0.000003</td>\n",
       "      <td>0.7440</td>\n",
       "      <td>0.327</td>\n",
       "      <td>96.181</td>\n",
       "      <td>[rock, classic uk pop, pop]</td>\n",
       "      <td>pop</td>\n",
       "    </tr>\n",
       "    <tr>\n",
       "      <th>1</th>\n",
       "      <td>1y0U0HAe5QfTRzOsz74bOt</td>\n",
       "      <td>My Foolish Heart</td>\n",
       "      <td>25</td>\n",
       "      <td>166080</td>\n",
       "      <td>0</td>\n",
       "      <td>338mC0yGyX0C9of8QMJ5hK</td>\n",
       "      <td>1950-01-01</td>\n",
       "      <td>0.313</td>\n",
       "      <td>0.116</td>\n",
       "      <td>0</td>\n",
       "      <td>-12.645</td>\n",
       "      <td>0.0319</td>\n",
       "      <td>0.9530</td>\n",
       "      <td>0.331000</td>\n",
       "      <td>0.1610</td>\n",
       "      <td>0.255</td>\n",
       "      <td>74.071</td>\n",
       "      <td>[rock, classic uk pop, pop]</td>\n",
       "      <td>pop</td>\n",
       "    </tr>\n",
       "    <tr>\n",
       "      <th>2</th>\n",
       "      <td>7ij5kN8jwXr8fZD54M0xb6</td>\n",
       "      <td>Aleni Aleni</td>\n",
       "      <td>51</td>\n",
       "      <td>235974</td>\n",
       "      <td>0</td>\n",
       "      <td>48CUA59SDed3IdCctKndud</td>\n",
       "      <td>2015</td>\n",
       "      <td>0.684</td>\n",
       "      <td>0.839</td>\n",
       "      <td>4</td>\n",
       "      <td>-6.457</td>\n",
       "      <td>0.0658</td>\n",
       "      <td>0.1200</td>\n",
       "      <td>0.000000</td>\n",
       "      <td>0.3540</td>\n",
       "      <td>0.580</td>\n",
       "      <td>128.051</td>\n",
       "      <td>[rock, classic uk pop, pop]</td>\n",
       "      <td>pop</td>\n",
       "    </tr>\n",
       "    <tr>\n",
       "      <th>3</th>\n",
       "      <td>6tM2QQSXvoOAEfH0cARToU</td>\n",
       "      <td>A Contraluz</td>\n",
       "      <td>28</td>\n",
       "      <td>230560</td>\n",
       "      <td>0</td>\n",
       "      <td>2TkVZG5xW47ZC0227ftg3q</td>\n",
       "      <td>2009-10-28</td>\n",
       "      <td>0.439</td>\n",
       "      <td>0.709</td>\n",
       "      <td>2</td>\n",
       "      <td>-6.803</td>\n",
       "      <td>0.0339</td>\n",
       "      <td>0.0584</td>\n",
       "      <td>0.000000</td>\n",
       "      <td>0.0803</td>\n",
       "      <td>0.495</td>\n",
       "      <td>155.018</td>\n",
       "      <td>[rock, classic uk pop, pop]</td>\n",
       "      <td>pop</td>\n",
       "    </tr>\n",
       "    <tr>\n",
       "      <th>4</th>\n",
       "      <td>6UIcN1tiiGdd7oMMzNvyaP</td>\n",
       "      <td>Time</td>\n",
       "      <td>53</td>\n",
       "      <td>297502</td>\n",
       "      <td>0</td>\n",
       "      <td>7lbSsjYACZHn1MSDXPxNF2</td>\n",
       "      <td>2020-05-08</td>\n",
       "      <td>0.479</td>\n",
       "      <td>0.478</td>\n",
       "      <td>5</td>\n",
       "      <td>-8.884</td>\n",
       "      <td>0.1100</td>\n",
       "      <td>0.0601</td>\n",
       "      <td>0.000007</td>\n",
       "      <td>0.0813</td>\n",
       "      <td>0.117</td>\n",
       "      <td>100.040</td>\n",
       "      <td>[rock, classic uk pop, pop]</td>\n",
       "      <td>pop</td>\n",
       "    </tr>\n",
       "    <tr>\n",
       "      <th>...</th>\n",
       "      <td>...</td>\n",
       "      <td>...</td>\n",
       "      <td>...</td>\n",
       "      <td>...</td>\n",
       "      <td>...</td>\n",
       "      <td>...</td>\n",
       "      <td>...</td>\n",
       "      <td>...</td>\n",
       "      <td>...</td>\n",
       "      <td>...</td>\n",
       "      <td>...</td>\n",
       "      <td>...</td>\n",
       "      <td>...</td>\n",
       "      <td>...</td>\n",
       "      <td>...</td>\n",
       "      <td>...</td>\n",
       "      <td>...</td>\n",
       "      <td>...</td>\n",
       "      <td>...</td>\n",
       "    </tr>\n",
       "    <tr>\n",
       "      <th>82388</th>\n",
       "      <td>59nszNIEDpnOS0prsKudPb</td>\n",
       "      <td>最真的夢</td>\n",
       "      <td>16</td>\n",
       "      <td>214773</td>\n",
       "      <td>0</td>\n",
       "      <td>6wcIBaOvA9XNGgPujYZZ7L</td>\n",
       "      <td>1990-02-05</td>\n",
       "      <td>0.633</td>\n",
       "      <td>0.345</td>\n",
       "      <td>4</td>\n",
       "      <td>-15.231</td>\n",
       "      <td>0.0291</td>\n",
       "      <td>0.4110</td>\n",
       "      <td>0.000028</td>\n",
       "      <td>0.3610</td>\n",
       "      <td>0.368</td>\n",
       "      <td>132.691</td>\n",
       "      <td>[acoustic]</td>\n",
       "      <td>pop</td>\n",
       "    </tr>\n",
       "    <tr>\n",
       "      <th>82389</th>\n",
       "      <td>0xiHNGGiSfrFfOJZGpxpJY</td>\n",
       "      <td>By My Side</td>\n",
       "      <td>61</td>\n",
       "      <td>213667</td>\n",
       "      <td>0</td>\n",
       "      <td>04u3fc37nHFKN7GJTSIwI8</td>\n",
       "      <td>2017-08-11</td>\n",
       "      <td>0.295</td>\n",
       "      <td>0.417</td>\n",
       "      <td>6</td>\n",
       "      <td>-8.002</td>\n",
       "      <td>0.0307</td>\n",
       "      <td>0.2220</td>\n",
       "      <td>0.000006</td>\n",
       "      <td>0.1480</td>\n",
       "      <td>0.135</td>\n",
       "      <td>64.687</td>\n",
       "      <td>[new_age, classic bulgarian pop]</td>\n",
       "      <td>pop</td>\n",
       "    </tr>\n",
       "    <tr>\n",
       "      <th>82390</th>\n",
       "      <td>4peXvhLT61oP9leXdPQ36B</td>\n",
       "      <td>Cu Cu Rru Cu Cu Paloma</td>\n",
       "      <td>49</td>\n",
       "      <td>208467</td>\n",
       "      <td>0</td>\n",
       "      <td>4etuCZVdP8yiNPn4xf0ie5</td>\n",
       "      <td>1978</td>\n",
       "      <td>0.347</td>\n",
       "      <td>0.216</td>\n",
       "      <td>8</td>\n",
       "      <td>-15.215</td>\n",
       "      <td>0.0315</td>\n",
       "      <td>0.6720</td>\n",
       "      <td>0.000118</td>\n",
       "      <td>0.0738</td>\n",
       "      <td>0.478</td>\n",
       "      <td>108.566</td>\n",
       "      <td>[latin]</td>\n",
       "      <td>pop</td>\n",
       "    </tr>\n",
       "    <tr>\n",
       "      <th>82391</th>\n",
       "      <td>2pS2IdtMXpvaEONreUlSAo</td>\n",
       "      <td>No Quiero Saber - 2000 Mix</td>\n",
       "      <td>26</td>\n",
       "      <td>214827</td>\n",
       "      <td>0</td>\n",
       "      <td>6IE6z7DcZIT4Ml3Fh5Ivch</td>\n",
       "      <td>1990</td>\n",
       "      <td>0.784</td>\n",
       "      <td>0.821</td>\n",
       "      <td>0</td>\n",
       "      <td>-7.621</td>\n",
       "      <td>0.0423</td>\n",
       "      <td>0.0229</td>\n",
       "      <td>0.000007</td>\n",
       "      <td>0.1760</td>\n",
       "      <td>0.885</td>\n",
       "      <td>119.609</td>\n",
       "      <td>[rap]</td>\n",
       "      <td>pop</td>\n",
       "    </tr>\n",
       "    <tr>\n",
       "      <th>82392</th>\n",
       "      <td>5m5g55OSy0kQnaxKU4lZ11</td>\n",
       "      <td>Ojitos De Golondrina</td>\n",
       "      <td>52</td>\n",
       "      <td>139691</td>\n",
       "      <td>0</td>\n",
       "      <td>7FsRH5bw8iWpSbMX1G7xf1</td>\n",
       "      <td>1991-12-19</td>\n",
       "      <td>0.701</td>\n",
       "      <td>0.715</td>\n",
       "      <td>9</td>\n",
       "      <td>-5.876</td>\n",
       "      <td>0.0305</td>\n",
       "      <td>0.7200</td>\n",
       "      <td>0.000000</td>\n",
       "      <td>0.2970</td>\n",
       "      <td>0.970</td>\n",
       "      <td>104.061</td>\n",
       "      <td>[indonesian indie, traditional_folk]</td>\n",
       "      <td>pop</td>\n",
       "    </tr>\n",
       "  </tbody>\n",
       "</table>\n",
       "<p>82393 rows × 19 columns</p>\n",
       "</div>"
      ],
      "text/plain": [
       "                           id  \\\n",
       "0      48SFtLr5URCI97X2Ynfdnc   \n",
       "1      1y0U0HAe5QfTRzOsz74bOt   \n",
       "2      7ij5kN8jwXr8fZD54M0xb6   \n",
       "3      6tM2QQSXvoOAEfH0cARToU   \n",
       "4      6UIcN1tiiGdd7oMMzNvyaP   \n",
       "...                       ...   \n",
       "82388  59nszNIEDpnOS0prsKudPb   \n",
       "82389  0xiHNGGiSfrFfOJZGpxpJY   \n",
       "82390  4peXvhLT61oP9leXdPQ36B   \n",
       "82391  2pS2IdtMXpvaEONreUlSAo   \n",
       "82392  5m5g55OSy0kQnaxKU4lZ11   \n",
       "\n",
       "                                                    name  popularity  \\\n",
       "0      Par Avion (Live) ( 2014 - Remaster) - Live; 20...           0   \n",
       "1                                       My Foolish Heart          25   \n",
       "2                                            Aleni Aleni          51   \n",
       "3                                            A Contraluz          28   \n",
       "4                                                   Time          53   \n",
       "...                                                  ...         ...   \n",
       "82388                                               最真的夢          16   \n",
       "82389                                         By My Side          61   \n",
       "82390                             Cu Cu Rru Cu Cu Paloma          49   \n",
       "82391                         No Quiero Saber - 2000 Mix          26   \n",
       "82392                               Ojitos De Golondrina          52   \n",
       "\n",
       "       duration_ms  explicit               id_artist release_date  \\\n",
       "0           291227         0  2yTUYhIf8fxptTIy3KLuJD         2014   \n",
       "1           166080         0  338mC0yGyX0C9of8QMJ5hK   1950-01-01   \n",
       "2           235974         0  48CUA59SDed3IdCctKndud         2015   \n",
       "3           230560         0  2TkVZG5xW47ZC0227ftg3q   2009-10-28   \n",
       "4           297502         0  7lbSsjYACZHn1MSDXPxNF2   2020-05-08   \n",
       "...            ...       ...                     ...          ...   \n",
       "82388       214773         0  6wcIBaOvA9XNGgPujYZZ7L   1990-02-05   \n",
       "82389       213667         0  04u3fc37nHFKN7GJTSIwI8   2017-08-11   \n",
       "82390       208467         0  4etuCZVdP8yiNPn4xf0ie5         1978   \n",
       "82391       214827         0  6IE6z7DcZIT4Ml3Fh5Ivch         1990   \n",
       "82392       139691         0  7FsRH5bw8iWpSbMX1G7xf1   1991-12-19   \n",
       "\n",
       "       danceability  energy  key  loudness  speechiness  acousticness  \\\n",
       "0             0.603   0.517    6    -8.504       0.0235        0.6950   \n",
       "1             0.313   0.116    0   -12.645       0.0319        0.9530   \n",
       "2             0.684   0.839    4    -6.457       0.0658        0.1200   \n",
       "3             0.439   0.709    2    -6.803       0.0339        0.0584   \n",
       "4             0.479   0.478    5    -8.884       0.1100        0.0601   \n",
       "...             ...     ...  ...       ...          ...           ...   \n",
       "82388         0.633   0.345    4   -15.231       0.0291        0.4110   \n",
       "82389         0.295   0.417    6    -8.002       0.0307        0.2220   \n",
       "82390         0.347   0.216    8   -15.215       0.0315        0.6720   \n",
       "82391         0.784   0.821    0    -7.621       0.0423        0.0229   \n",
       "82392         0.701   0.715    9    -5.876       0.0305        0.7200   \n",
       "\n",
       "       instrumentalness  liveness  valence    tempo  \\\n",
       "0              0.000003    0.7440    0.327   96.181   \n",
       "1              0.331000    0.1610    0.255   74.071   \n",
       "2              0.000000    0.3540    0.580  128.051   \n",
       "3              0.000000    0.0803    0.495  155.018   \n",
       "4              0.000007    0.0813    0.117  100.040   \n",
       "...                 ...       ...      ...      ...   \n",
       "82388          0.000028    0.3610    0.368  132.691   \n",
       "82389          0.000006    0.1480    0.135   64.687   \n",
       "82390          0.000118    0.0738    0.478  108.566   \n",
       "82391          0.000007    0.1760    0.885  119.609   \n",
       "82392          0.000000    0.2970    0.970  104.061   \n",
       "\n",
       "                              artists_genre genre  \n",
       "0               [rock, classic uk pop, pop]   pop  \n",
       "1               [rock, classic uk pop, pop]   pop  \n",
       "2               [rock, classic uk pop, pop]   pop  \n",
       "3               [rock, classic uk pop, pop]   pop  \n",
       "4               [rock, classic uk pop, pop]   pop  \n",
       "...                                     ...   ...  \n",
       "82388                            [acoustic]   pop  \n",
       "82389      [new_age, classic bulgarian pop]   pop  \n",
       "82390                               [latin]   pop  \n",
       "82391                                 [rap]   pop  \n",
       "82392  [indonesian indie, traditional_folk]   pop  \n",
       "\n",
       "[82393 rows x 19 columns]"
      ]
     },
     "execution_count": 3,
     "metadata": {},
     "output_type": "execute_result"
    }
   ],
   "source": [
    "tracks_genres_df"
   ]
  },
  {
   "cell_type": "code",
   "execution_count": 4,
   "metadata": {},
   "outputs": [
    {
     "data": {
      "text/plain": [
       "(82393, 19)"
      ]
     },
     "execution_count": 4,
     "metadata": {},
     "output_type": "execute_result"
    }
   ],
   "source": [
    "tracks_genres_df.shape"
   ]
  },
  {
   "cell_type": "code",
   "execution_count": 5,
   "metadata": {},
   "outputs": [
    {
     "data": {
      "text/plain": [
       "pop                     66271\n",
       "rock                    11758\n",
       "latin                    3343\n",
       "easy_listening            784\n",
       "jazz                      110\n",
       "traditional_folk           75\n",
       "r&b                        28\n",
       "acoustic                   15\n",
       "ugandan pop                 5\n",
       "salsa puertorriquena        4\n",
       "Name: genre, dtype: int64"
      ]
     },
     "execution_count": 5,
     "metadata": {},
     "output_type": "execute_result"
    }
   ],
   "source": [
    "tracks_genres_df['genre'].value_counts()"
   ]
  },
  {
   "cell_type": "code",
   "execution_count": 6,
   "metadata": {},
   "outputs": [
    {
     "data": {
      "text/plain": [
       "pop                     66271\n",
       "rock                    11758\n",
       "latin                    3343\n",
       "easy_listening            784\n",
       "jazz                      110\n",
       "traditional_folk           75\n",
       "r&b                        28\n",
       "acoustic                   15\n",
       "ugandan pop                 5\n",
       "salsa puertorriquena        4\n",
       "Name: genre, dtype: int64"
      ]
     },
     "execution_count": 6,
     "metadata": {},
     "output_type": "execute_result"
    }
   ],
   "source": [
    "tracks_genres_df['genre'].value_counts()"
   ]
  },
  {
   "cell_type": "markdown",
   "metadata": {},
   "source": [
    "Usunięcie gatunków, które nie występowały w określonych gatunkach głównych."
   ]
  },
  {
   "cell_type": "code",
   "execution_count": 7,
   "metadata": {},
   "outputs": [
    {
     "data": {
      "text/html": [
       "<div>\n",
       "<style scoped>\n",
       "    .dataframe tbody tr th:only-of-type {\n",
       "        vertical-align: middle;\n",
       "    }\n",
       "\n",
       "    .dataframe tbody tr th {\n",
       "        vertical-align: top;\n",
       "    }\n",
       "\n",
       "    .dataframe thead th {\n",
       "        text-align: right;\n",
       "    }\n",
       "</style>\n",
       "<table border=\"1\" class=\"dataframe\">\n",
       "  <thead>\n",
       "    <tr style=\"text-align: right;\">\n",
       "      <th></th>\n",
       "      <th>id</th>\n",
       "      <th>name</th>\n",
       "      <th>popularity</th>\n",
       "      <th>duration_ms</th>\n",
       "      <th>explicit</th>\n",
       "      <th>id_artist</th>\n",
       "      <th>release_date</th>\n",
       "      <th>danceability</th>\n",
       "      <th>energy</th>\n",
       "      <th>key</th>\n",
       "      <th>loudness</th>\n",
       "      <th>speechiness</th>\n",
       "      <th>acousticness</th>\n",
       "      <th>instrumentalness</th>\n",
       "      <th>liveness</th>\n",
       "      <th>valence</th>\n",
       "      <th>tempo</th>\n",
       "      <th>artists_genre</th>\n",
       "      <th>genre</th>\n",
       "    </tr>\n",
       "  </thead>\n",
       "  <tbody>\n",
       "    <tr>\n",
       "      <th>6921</th>\n",
       "      <td>1g6iNFZPFaC94BrUO8Nx7o</td>\n",
       "      <td>Chismes de la Rivera - Remasterizado</td>\n",
       "      <td>0</td>\n",
       "      <td>155120</td>\n",
       "      <td>0</td>\n",
       "      <td>2maQMqxNnlRrBrS1oAsrX9</td>\n",
       "      <td>1926-07-15</td>\n",
       "      <td>0.592</td>\n",
       "      <td>0.16400</td>\n",
       "      <td>11</td>\n",
       "      <td>-9.172</td>\n",
       "      <td>0.2990</td>\n",
       "      <td>0.996</td>\n",
       "      <td>0.040000</td>\n",
       "      <td>0.1570</td>\n",
       "      <td>0.4760</td>\n",
       "      <td>220.076</td>\n",
       "      <td>[classic indo pop, indonesian city pop, indone...</td>\n",
       "      <td>salsa puertorriquena</td>\n",
       "    </tr>\n",
       "    <tr>\n",
       "      <th>31429</th>\n",
       "      <td>0hoc3NUDbSYXkwNfoQdh6C</td>\n",
       "      <td>Prelude 12</td>\n",
       "      <td>22</td>\n",
       "      <td>80573</td>\n",
       "      <td>0</td>\n",
       "      <td>4salDzkGmfycRqNUbyBphh</td>\n",
       "      <td>1975-01-01</td>\n",
       "      <td>0.486</td>\n",
       "      <td>0.00578</td>\n",
       "      <td>7</td>\n",
       "      <td>-27.336</td>\n",
       "      <td>0.0683</td>\n",
       "      <td>0.764</td>\n",
       "      <td>0.158000</td>\n",
       "      <td>0.0747</td>\n",
       "      <td>0.1170</td>\n",
       "      <td>133.478</td>\n",
       "      <td>[arabesk, deep turkish pop, turkish folk, pop,...</td>\n",
       "      <td>ugandan pop</td>\n",
       "    </tr>\n",
       "    <tr>\n",
       "      <th>37409</th>\n",
       "      <td>0WkXqJPJBtb557ZKzQEKdE</td>\n",
       "      <td>You Send Me</td>\n",
       "      <td>22</td>\n",
       "      <td>163333</td>\n",
       "      <td>0</td>\n",
       "      <td>3fuvnZh2fE2EmyDg7rIHNL</td>\n",
       "      <td>1979-01-01</td>\n",
       "      <td>0.451</td>\n",
       "      <td>0.34300</td>\n",
       "      <td>7</td>\n",
       "      <td>-11.516</td>\n",
       "      <td>0.0364</td>\n",
       "      <td>0.919</td>\n",
       "      <td>0.000038</td>\n",
       "      <td>0.1740</td>\n",
       "      <td>0.6020</td>\n",
       "      <td>217.879</td>\n",
       "      <td>[jovem guarda, jazz]</td>\n",
       "      <td>salsa puertorriquena</td>\n",
       "    </tr>\n",
       "    <tr>\n",
       "      <th>38245</th>\n",
       "      <td>271B2U5ZBV6IMDJ4P5Frav</td>\n",
       "      <td>It´s Snowing On My Piano</td>\n",
       "      <td>19</td>\n",
       "      <td>302093</td>\n",
       "      <td>0</td>\n",
       "      <td>4p35pLn1lRgqoVVsnqNZEK</td>\n",
       "      <td>1997</td>\n",
       "      <td>0.296</td>\n",
       "      <td>0.00625</td>\n",
       "      <td>7</td>\n",
       "      <td>-30.799</td>\n",
       "      <td>0.0496</td>\n",
       "      <td>0.921</td>\n",
       "      <td>0.853000</td>\n",
       "      <td>0.0689</td>\n",
       "      <td>0.1030</td>\n",
       "      <td>134.994</td>\n",
       "      <td>[children's music, new_age]</td>\n",
       "      <td>ugandan pop</td>\n",
       "    </tr>\n",
       "    <tr>\n",
       "      <th>56953</th>\n",
       "      <td>2xYRvCEGzG1GUoORlsvLn2</td>\n",
       "      <td>Balsa</td>\n",
       "      <td>43</td>\n",
       "      <td>308307</td>\n",
       "      <td>0</td>\n",
       "      <td>1QOmebWGB6FdFtW7Bo3F0W</td>\n",
       "      <td>1999-06-01</td>\n",
       "      <td>0.213</td>\n",
       "      <td>0.33300</td>\n",
       "      <td>9</td>\n",
       "      <td>-20.452</td>\n",
       "      <td>0.3220</td>\n",
       "      <td>0.822</td>\n",
       "      <td>0.296000</td>\n",
       "      <td>0.0866</td>\n",
       "      <td>0.4480</td>\n",
       "      <td>223.291</td>\n",
       "      <td>[easy_listening, brass ensemble]</td>\n",
       "      <td>salsa puertorriquena</td>\n",
       "    </tr>\n",
       "    <tr>\n",
       "      <th>57263</th>\n",
       "      <td>5Mvy3enWZMLUZSFFXNn60Q</td>\n",
       "      <td>Three Spiritual Songs, Op. 7: II. Many Years (...</td>\n",
       "      <td>0</td>\n",
       "      <td>148227</td>\n",
       "      <td>0</td>\n",
       "      <td>0dGQQCxO2lPSsWaUjCDpxh</td>\n",
       "      <td>2013-12-20</td>\n",
       "      <td>0.167</td>\n",
       "      <td>0.06340</td>\n",
       "      <td>7</td>\n",
       "      <td>-26.962</td>\n",
       "      <td>0.0349</td>\n",
       "      <td>0.989</td>\n",
       "      <td>0.000113</td>\n",
       "      <td>0.1910</td>\n",
       "      <td>0.0367</td>\n",
       "      <td>136.588</td>\n",
       "      <td>[acoustic]</td>\n",
       "      <td>ugandan pop</td>\n",
       "    </tr>\n",
       "    <tr>\n",
       "      <th>68852</th>\n",
       "      <td>0r8Qsg94iY23UowQRqm8LY</td>\n",
       "      <td>Subtle Body</td>\n",
       "      <td>38</td>\n",
       "      <td>544080</td>\n",
       "      <td>0</td>\n",
       "      <td>2wss0kNi7zdZTrxnCFxSQW</td>\n",
       "      <td>1995</td>\n",
       "      <td>0.199</td>\n",
       "      <td>0.01510</td>\n",
       "      <td>1</td>\n",
       "      <td>-32.063</td>\n",
       "      <td>0.0410</td>\n",
       "      <td>0.802</td>\n",
       "      <td>0.765000</td>\n",
       "      <td>0.1110</td>\n",
       "      <td>0.0341</td>\n",
       "      <td>135.093</td>\n",
       "      <td>[azontobeats, gabonese pop, kizomba antigas, m...</td>\n",
       "      <td>ugandan pop</td>\n",
       "    </tr>\n",
       "    <tr>\n",
       "      <th>70858</th>\n",
       "      <td>6p4b5rB6rOtuwnykeI6ESJ</td>\n",
       "      <td>Yo Necesito Ser Feliz - Remasterizado</td>\n",
       "      <td>0</td>\n",
       "      <td>145307</td>\n",
       "      <td>0</td>\n",
       "      <td>2maQMqxNnlRrBrS1oAsrX9</td>\n",
       "      <td>1926-07-15</td>\n",
       "      <td>0.375</td>\n",
       "      <td>0.41600</td>\n",
       "      <td>11</td>\n",
       "      <td>-12.925</td>\n",
       "      <td>0.0663</td>\n",
       "      <td>0.995</td>\n",
       "      <td>0.957000</td>\n",
       "      <td>0.1580</td>\n",
       "      <td>0.8260</td>\n",
       "      <td>220.192</td>\n",
       "      <td>[latin, salsa puertorriquena]</td>\n",
       "      <td>salsa puertorriquena</td>\n",
       "    </tr>\n",
       "    <tr>\n",
       "      <th>73954</th>\n",
       "      <td>7JiXGEO9U8NZeYfuO3VAZE</td>\n",
       "      <td>Pro et Contra - Concerto for Cello and Orchest...</td>\n",
       "      <td>0</td>\n",
       "      <td>32240</td>\n",
       "      <td>0</td>\n",
       "      <td>0dfKYhE2GQaOOS5pYSXnBx</td>\n",
       "      <td>2010-07-06</td>\n",
       "      <td>0.149</td>\n",
       "      <td>0.03240</td>\n",
       "      <td>10</td>\n",
       "      <td>-29.969</td>\n",
       "      <td>0.0544</td>\n",
       "      <td>0.897</td>\n",
       "      <td>0.842000</td>\n",
       "      <td>0.1090</td>\n",
       "      <td>0.0524</td>\n",
       "      <td>136.859</td>\n",
       "      <td>[metal, rock, supergroup]</td>\n",
       "      <td>ugandan pop</td>\n",
       "    </tr>\n",
       "  </tbody>\n",
       "</table>\n",
       "</div>"
      ],
      "text/plain": [
       "                           id  \\\n",
       "6921   1g6iNFZPFaC94BrUO8Nx7o   \n",
       "31429  0hoc3NUDbSYXkwNfoQdh6C   \n",
       "37409  0WkXqJPJBtb557ZKzQEKdE   \n",
       "38245  271B2U5ZBV6IMDJ4P5Frav   \n",
       "56953  2xYRvCEGzG1GUoORlsvLn2   \n",
       "57263  5Mvy3enWZMLUZSFFXNn60Q   \n",
       "68852  0r8Qsg94iY23UowQRqm8LY   \n",
       "70858  6p4b5rB6rOtuwnykeI6ESJ   \n",
       "73954  7JiXGEO9U8NZeYfuO3VAZE   \n",
       "\n",
       "                                                    name  popularity  \\\n",
       "6921                Chismes de la Rivera - Remasterizado           0   \n",
       "31429                                         Prelude 12          22   \n",
       "37409                                        You Send Me          22   \n",
       "38245                           It´s Snowing On My Piano          19   \n",
       "56953                                              Balsa          43   \n",
       "57263  Three Spiritual Songs, Op. 7: II. Many Years (...           0   \n",
       "68852                                        Subtle Body          38   \n",
       "70858              Yo Necesito Ser Feliz - Remasterizado           0   \n",
       "73954  Pro et Contra - Concerto for Cello and Orchest...           0   \n",
       "\n",
       "       duration_ms  explicit               id_artist release_date  \\\n",
       "6921        155120         0  2maQMqxNnlRrBrS1oAsrX9   1926-07-15   \n",
       "31429        80573         0  4salDzkGmfycRqNUbyBphh   1975-01-01   \n",
       "37409       163333         0  3fuvnZh2fE2EmyDg7rIHNL   1979-01-01   \n",
       "38245       302093         0  4p35pLn1lRgqoVVsnqNZEK         1997   \n",
       "56953       308307         0  1QOmebWGB6FdFtW7Bo3F0W   1999-06-01   \n",
       "57263       148227         0  0dGQQCxO2lPSsWaUjCDpxh   2013-12-20   \n",
       "68852       544080         0  2wss0kNi7zdZTrxnCFxSQW         1995   \n",
       "70858       145307         0  2maQMqxNnlRrBrS1oAsrX9   1926-07-15   \n",
       "73954        32240         0  0dfKYhE2GQaOOS5pYSXnBx   2010-07-06   \n",
       "\n",
       "       danceability   energy  key  loudness  speechiness  acousticness  \\\n",
       "6921          0.592  0.16400   11    -9.172       0.2990         0.996   \n",
       "31429         0.486  0.00578    7   -27.336       0.0683         0.764   \n",
       "37409         0.451  0.34300    7   -11.516       0.0364         0.919   \n",
       "38245         0.296  0.00625    7   -30.799       0.0496         0.921   \n",
       "56953         0.213  0.33300    9   -20.452       0.3220         0.822   \n",
       "57263         0.167  0.06340    7   -26.962       0.0349         0.989   \n",
       "68852         0.199  0.01510    1   -32.063       0.0410         0.802   \n",
       "70858         0.375  0.41600   11   -12.925       0.0663         0.995   \n",
       "73954         0.149  0.03240   10   -29.969       0.0544         0.897   \n",
       "\n",
       "       instrumentalness  liveness  valence    tempo  \\\n",
       "6921           0.040000    0.1570   0.4760  220.076   \n",
       "31429          0.158000    0.0747   0.1170  133.478   \n",
       "37409          0.000038    0.1740   0.6020  217.879   \n",
       "38245          0.853000    0.0689   0.1030  134.994   \n",
       "56953          0.296000    0.0866   0.4480  223.291   \n",
       "57263          0.000113    0.1910   0.0367  136.588   \n",
       "68852          0.765000    0.1110   0.0341  135.093   \n",
       "70858          0.957000    0.1580   0.8260  220.192   \n",
       "73954          0.842000    0.1090   0.0524  136.859   \n",
       "\n",
       "                                           artists_genre                 genre  \n",
       "6921   [classic indo pop, indonesian city pop, indone...  salsa puertorriquena  \n",
       "31429  [arabesk, deep turkish pop, turkish folk, pop,...           ugandan pop  \n",
       "37409                               [jovem guarda, jazz]  salsa puertorriquena  \n",
       "38245                        [children's music, new_age]           ugandan pop  \n",
       "56953                   [easy_listening, brass ensemble]  salsa puertorriquena  \n",
       "57263                                         [acoustic]           ugandan pop  \n",
       "68852  [azontobeats, gabonese pop, kizomba antigas, m...           ugandan pop  \n",
       "70858                      [latin, salsa puertorriquena]  salsa puertorriquena  \n",
       "73954                          [metal, rock, supergroup]           ugandan pop  "
      ]
     },
     "execution_count": 7,
     "metadata": {},
     "output_type": "execute_result"
    }
   ],
   "source": [
    "tracks_genres_df[tracks_genres_df['genre'].isin(['ugandan pop', 'salsa puertorriquena'])]"
   ]
  },
  {
   "cell_type": "code",
   "execution_count": 8,
   "metadata": {},
   "outputs": [],
   "source": [
    "tracks_genres_df = tracks_genres_df[~tracks_genres_df['genre'].isin(['ugandan pop', 'salsa puertorriquena'])]"
   ]
  },
  {
   "cell_type": "code",
   "execution_count": 9,
   "metadata": {},
   "outputs": [],
   "source": [
    "tracks_genres_df.reset_index(inplace=True, drop=True)"
   ]
  },
  {
   "cell_type": "code",
   "execution_count": 10,
   "metadata": {},
   "outputs": [
    {
     "data": {
      "text/plain": [
       "(82384, 19)"
      ]
     },
     "execution_count": 10,
     "metadata": {},
     "output_type": "execute_result"
    }
   ],
   "source": [
    "tracks_genres_df.shape"
   ]
  },
  {
   "cell_type": "code",
   "execution_count": 11,
   "metadata": {},
   "outputs": [
    {
     "data": {
      "text/html": [
       "<div>\n",
       "<style scoped>\n",
       "    .dataframe tbody tr th:only-of-type {\n",
       "        vertical-align: middle;\n",
       "    }\n",
       "\n",
       "    .dataframe tbody tr th {\n",
       "        vertical-align: top;\n",
       "    }\n",
       "\n",
       "    .dataframe thead th {\n",
       "        text-align: right;\n",
       "    }\n",
       "</style>\n",
       "<table border=\"1\" class=\"dataframe\">\n",
       "  <thead>\n",
       "    <tr style=\"text-align: right;\">\n",
       "      <th></th>\n",
       "      <th>popularity</th>\n",
       "      <th>duration_ms</th>\n",
       "      <th>explicit</th>\n",
       "      <th>danceability</th>\n",
       "      <th>energy</th>\n",
       "      <th>key</th>\n",
       "      <th>loudness</th>\n",
       "      <th>speechiness</th>\n",
       "      <th>acousticness</th>\n",
       "      <th>instrumentalness</th>\n",
       "      <th>liveness</th>\n",
       "      <th>valence</th>\n",
       "      <th>tempo</th>\n",
       "    </tr>\n",
       "  </thead>\n",
       "  <tbody>\n",
       "    <tr>\n",
       "      <th>count</th>\n",
       "      <td>82384.000000</td>\n",
       "      <td>8.238400e+04</td>\n",
       "      <td>82384.000000</td>\n",
       "      <td>82384.000000</td>\n",
       "      <td>82384.000000</td>\n",
       "      <td>82384.00000</td>\n",
       "      <td>82384.000000</td>\n",
       "      <td>82384.000000</td>\n",
       "      <td>82384.000000</td>\n",
       "      <td>82384.000000</td>\n",
       "      <td>82384.000000</td>\n",
       "      <td>82384.000000</td>\n",
       "      <td>82384.000000</td>\n",
       "    </tr>\n",
       "    <tr>\n",
       "      <th>mean</th>\n",
       "      <td>31.435121</td>\n",
       "      <td>2.353152e+05</td>\n",
       "      <td>0.038369</td>\n",
       "      <td>0.555028</td>\n",
       "      <td>0.561469</td>\n",
       "      <td>5.26811</td>\n",
       "      <td>-9.745531</td>\n",
       "      <td>0.070547</td>\n",
       "      <td>0.417356</td>\n",
       "      <td>0.104854</td>\n",
       "      <td>0.208163</td>\n",
       "      <td>0.554031</td>\n",
       "      <td>119.717913</td>\n",
       "    </tr>\n",
       "    <tr>\n",
       "      <th>std</th>\n",
       "      <td>17.813393</td>\n",
       "      <td>1.134970e+05</td>\n",
       "      <td>0.192087</td>\n",
       "      <td>0.162012</td>\n",
       "      <td>0.248371</td>\n",
       "      <td>3.51190</td>\n",
       "      <td>4.606973</td>\n",
       "      <td>0.093318</td>\n",
       "      <td>0.343130</td>\n",
       "      <td>0.252735</td>\n",
       "      <td>0.183945</td>\n",
       "      <td>0.256416</td>\n",
       "      <td>29.554128</td>\n",
       "    </tr>\n",
       "    <tr>\n",
       "      <th>min</th>\n",
       "      <td>0.000000</td>\n",
       "      <td>3.344000e+03</td>\n",
       "      <td>0.000000</td>\n",
       "      <td>0.000000</td>\n",
       "      <td>0.000000</td>\n",
       "      <td>0.00000</td>\n",
       "      <td>-60.000000</td>\n",
       "      <td>0.000000</td>\n",
       "      <td>0.000000</td>\n",
       "      <td>0.000000</td>\n",
       "      <td>0.000000</td>\n",
       "      <td>0.000000</td>\n",
       "      <td>0.000000</td>\n",
       "    </tr>\n",
       "    <tr>\n",
       "      <th>25%</th>\n",
       "      <td>18.000000</td>\n",
       "      <td>1.811330e+05</td>\n",
       "      <td>0.000000</td>\n",
       "      <td>0.447000</td>\n",
       "      <td>0.370000</td>\n",
       "      <td>2.00000</td>\n",
       "      <td>-12.356000</td>\n",
       "      <td>0.032900</td>\n",
       "      <td>0.072600</td>\n",
       "      <td>0.000000</td>\n",
       "      <td>0.096900</td>\n",
       "      <td>0.346000</td>\n",
       "      <td>96.981750</td>\n",
       "    </tr>\n",
       "    <tr>\n",
       "      <th>50%</th>\n",
       "      <td>31.000000</td>\n",
       "      <td>2.207600e+05</td>\n",
       "      <td>0.000000</td>\n",
       "      <td>0.564000</td>\n",
       "      <td>0.569000</td>\n",
       "      <td>5.00000</td>\n",
       "      <td>-8.997500</td>\n",
       "      <td>0.041500</td>\n",
       "      <td>0.366000</td>\n",
       "      <td>0.000043</td>\n",
       "      <td>0.134000</td>\n",
       "      <td>0.563000</td>\n",
       "      <td>118.252000</td>\n",
       "    </tr>\n",
       "    <tr>\n",
       "      <th>75%</th>\n",
       "      <td>44.000000</td>\n",
       "      <td>2.684150e+05</td>\n",
       "      <td>0.000000</td>\n",
       "      <td>0.672000</td>\n",
       "      <td>0.769000</td>\n",
       "      <td>8.00000</td>\n",
       "      <td>-6.334000</td>\n",
       "      <td>0.064400</td>\n",
       "      <td>0.743000</td>\n",
       "      <td>0.010600</td>\n",
       "      <td>0.264000</td>\n",
       "      <td>0.772000</td>\n",
       "      <td>137.674000</td>\n",
       "    </tr>\n",
       "    <tr>\n",
       "      <th>max</th>\n",
       "      <td>99.000000</td>\n",
       "      <td>4.792587e+06</td>\n",
       "      <td>1.000000</td>\n",
       "      <td>0.988000</td>\n",
       "      <td>1.000000</td>\n",
       "      <td>11.00000</td>\n",
       "      <td>2.534000</td>\n",
       "      <td>0.964000</td>\n",
       "      <td>0.996000</td>\n",
       "      <td>0.999000</td>\n",
       "      <td>0.999000</td>\n",
       "      <td>1.000000</td>\n",
       "      <td>243.507000</td>\n",
       "    </tr>\n",
       "  </tbody>\n",
       "</table>\n",
       "</div>"
      ],
      "text/plain": [
       "         popularity   duration_ms      explicit  danceability        energy  \\\n",
       "count  82384.000000  8.238400e+04  82384.000000  82384.000000  82384.000000   \n",
       "mean      31.435121  2.353152e+05      0.038369      0.555028      0.561469   \n",
       "std       17.813393  1.134970e+05      0.192087      0.162012      0.248371   \n",
       "min        0.000000  3.344000e+03      0.000000      0.000000      0.000000   \n",
       "25%       18.000000  1.811330e+05      0.000000      0.447000      0.370000   \n",
       "50%       31.000000  2.207600e+05      0.000000      0.564000      0.569000   \n",
       "75%       44.000000  2.684150e+05      0.000000      0.672000      0.769000   \n",
       "max       99.000000  4.792587e+06      1.000000      0.988000      1.000000   \n",
       "\n",
       "               key      loudness   speechiness  acousticness  \\\n",
       "count  82384.00000  82384.000000  82384.000000  82384.000000   \n",
       "mean       5.26811     -9.745531      0.070547      0.417356   \n",
       "std        3.51190      4.606973      0.093318      0.343130   \n",
       "min        0.00000    -60.000000      0.000000      0.000000   \n",
       "25%        2.00000    -12.356000      0.032900      0.072600   \n",
       "50%        5.00000     -8.997500      0.041500      0.366000   \n",
       "75%        8.00000     -6.334000      0.064400      0.743000   \n",
       "max       11.00000      2.534000      0.964000      0.996000   \n",
       "\n",
       "       instrumentalness      liveness       valence         tempo  \n",
       "count      82384.000000  82384.000000  82384.000000  82384.000000  \n",
       "mean           0.104854      0.208163      0.554031    119.717913  \n",
       "std            0.252735      0.183945      0.256416     29.554128  \n",
       "min            0.000000      0.000000      0.000000      0.000000  \n",
       "25%            0.000000      0.096900      0.346000     96.981750  \n",
       "50%            0.000043      0.134000      0.563000    118.252000  \n",
       "75%            0.010600      0.264000      0.772000    137.674000  \n",
       "max            0.999000      0.999000      1.000000    243.507000  "
      ]
     },
     "execution_count": 11,
     "metadata": {},
     "output_type": "execute_result"
    }
   ],
   "source": [
    "tracks_genres_df.describe()"
   ]
  },
  {
   "cell_type": "markdown",
   "metadata": {},
   "source": [
    "Mając więcej niż dwie klasy, stosujemy klasyfikację wieloklasową (8 klas w zbiorze po clusteringu z 15 głównych klas).\n",
    "Ze względu na to, że wartości numeryczne mają różną skalę, zastosujemy normalizację.\n",
    "Wartości dyskretne nie są brane pod uwagę w tej klasyfikacji.\n",
    "\n",
    "Stosowane cechy: ['danceability','key','energy','loudness','speechiness','acousticness','instrumentalness','liveness','valence','tempo']\n",
    "\n",
    "Zmienna celu: ['genre']"
   ]
  },
  {
   "cell_type": "code",
   "execution_count": 12,
   "metadata": {},
   "outputs": [],
   "source": [
    "tracks_features = tracks_genres_df[['danceability','key','energy','loudness','speechiness','acousticness','instrumentalness','liveness','valence','tempo']]"
   ]
  },
  {
   "cell_type": "code",
   "execution_count": 13,
   "metadata": {},
   "outputs": [],
   "source": [
    "X = tracks_features\n",
    "y = tracks_genres_df[['genre']]"
   ]
  },
  {
   "cell_type": "code",
   "execution_count": 14,
   "metadata": {},
   "outputs": [
    {
     "data": {
      "text/html": [
       "<div>\n",
       "<style scoped>\n",
       "    .dataframe tbody tr th:only-of-type {\n",
       "        vertical-align: middle;\n",
       "    }\n",
       "\n",
       "    .dataframe tbody tr th {\n",
       "        vertical-align: top;\n",
       "    }\n",
       "\n",
       "    .dataframe thead th {\n",
       "        text-align: right;\n",
       "    }\n",
       "</style>\n",
       "<table border=\"1\" class=\"dataframe\">\n",
       "  <thead>\n",
       "    <tr style=\"text-align: right;\">\n",
       "      <th></th>\n",
       "      <th>danceability</th>\n",
       "      <th>key</th>\n",
       "      <th>energy</th>\n",
       "      <th>loudness</th>\n",
       "      <th>speechiness</th>\n",
       "      <th>acousticness</th>\n",
       "      <th>instrumentalness</th>\n",
       "      <th>liveness</th>\n",
       "      <th>valence</th>\n",
       "      <th>tempo</th>\n",
       "    </tr>\n",
       "  </thead>\n",
       "  <tbody>\n",
       "    <tr>\n",
       "      <th>0</th>\n",
       "      <td>0.603</td>\n",
       "      <td>6</td>\n",
       "      <td>0.517</td>\n",
       "      <td>-8.504</td>\n",
       "      <td>0.0235</td>\n",
       "      <td>0.6950</td>\n",
       "      <td>0.000003</td>\n",
       "      <td>0.7440</td>\n",
       "      <td>0.327</td>\n",
       "      <td>96.181</td>\n",
       "    </tr>\n",
       "    <tr>\n",
       "      <th>1</th>\n",
       "      <td>0.313</td>\n",
       "      <td>0</td>\n",
       "      <td>0.116</td>\n",
       "      <td>-12.645</td>\n",
       "      <td>0.0319</td>\n",
       "      <td>0.9530</td>\n",
       "      <td>0.331000</td>\n",
       "      <td>0.1610</td>\n",
       "      <td>0.255</td>\n",
       "      <td>74.071</td>\n",
       "    </tr>\n",
       "    <tr>\n",
       "      <th>2</th>\n",
       "      <td>0.684</td>\n",
       "      <td>4</td>\n",
       "      <td>0.839</td>\n",
       "      <td>-6.457</td>\n",
       "      <td>0.0658</td>\n",
       "      <td>0.1200</td>\n",
       "      <td>0.000000</td>\n",
       "      <td>0.3540</td>\n",
       "      <td>0.580</td>\n",
       "      <td>128.051</td>\n",
       "    </tr>\n",
       "    <tr>\n",
       "      <th>3</th>\n",
       "      <td>0.439</td>\n",
       "      <td>2</td>\n",
       "      <td>0.709</td>\n",
       "      <td>-6.803</td>\n",
       "      <td>0.0339</td>\n",
       "      <td>0.0584</td>\n",
       "      <td>0.000000</td>\n",
       "      <td>0.0803</td>\n",
       "      <td>0.495</td>\n",
       "      <td>155.018</td>\n",
       "    </tr>\n",
       "    <tr>\n",
       "      <th>4</th>\n",
       "      <td>0.479</td>\n",
       "      <td>5</td>\n",
       "      <td>0.478</td>\n",
       "      <td>-8.884</td>\n",
       "      <td>0.1100</td>\n",
       "      <td>0.0601</td>\n",
       "      <td>0.000007</td>\n",
       "      <td>0.0813</td>\n",
       "      <td>0.117</td>\n",
       "      <td>100.040</td>\n",
       "    </tr>\n",
       "    <tr>\n",
       "      <th>...</th>\n",
       "      <td>...</td>\n",
       "      <td>...</td>\n",
       "      <td>...</td>\n",
       "      <td>...</td>\n",
       "      <td>...</td>\n",
       "      <td>...</td>\n",
       "      <td>...</td>\n",
       "      <td>...</td>\n",
       "      <td>...</td>\n",
       "      <td>...</td>\n",
       "    </tr>\n",
       "    <tr>\n",
       "      <th>82379</th>\n",
       "      <td>0.633</td>\n",
       "      <td>4</td>\n",
       "      <td>0.345</td>\n",
       "      <td>-15.231</td>\n",
       "      <td>0.0291</td>\n",
       "      <td>0.4110</td>\n",
       "      <td>0.000028</td>\n",
       "      <td>0.3610</td>\n",
       "      <td>0.368</td>\n",
       "      <td>132.691</td>\n",
       "    </tr>\n",
       "    <tr>\n",
       "      <th>82380</th>\n",
       "      <td>0.295</td>\n",
       "      <td>6</td>\n",
       "      <td>0.417</td>\n",
       "      <td>-8.002</td>\n",
       "      <td>0.0307</td>\n",
       "      <td>0.2220</td>\n",
       "      <td>0.000006</td>\n",
       "      <td>0.1480</td>\n",
       "      <td>0.135</td>\n",
       "      <td>64.687</td>\n",
       "    </tr>\n",
       "    <tr>\n",
       "      <th>82381</th>\n",
       "      <td>0.347</td>\n",
       "      <td>8</td>\n",
       "      <td>0.216</td>\n",
       "      <td>-15.215</td>\n",
       "      <td>0.0315</td>\n",
       "      <td>0.6720</td>\n",
       "      <td>0.000118</td>\n",
       "      <td>0.0738</td>\n",
       "      <td>0.478</td>\n",
       "      <td>108.566</td>\n",
       "    </tr>\n",
       "    <tr>\n",
       "      <th>82382</th>\n",
       "      <td>0.784</td>\n",
       "      <td>0</td>\n",
       "      <td>0.821</td>\n",
       "      <td>-7.621</td>\n",
       "      <td>0.0423</td>\n",
       "      <td>0.0229</td>\n",
       "      <td>0.000007</td>\n",
       "      <td>0.1760</td>\n",
       "      <td>0.885</td>\n",
       "      <td>119.609</td>\n",
       "    </tr>\n",
       "    <tr>\n",
       "      <th>82383</th>\n",
       "      <td>0.701</td>\n",
       "      <td>9</td>\n",
       "      <td>0.715</td>\n",
       "      <td>-5.876</td>\n",
       "      <td>0.0305</td>\n",
       "      <td>0.7200</td>\n",
       "      <td>0.000000</td>\n",
       "      <td>0.2970</td>\n",
       "      <td>0.970</td>\n",
       "      <td>104.061</td>\n",
       "    </tr>\n",
       "  </tbody>\n",
       "</table>\n",
       "<p>82384 rows × 10 columns</p>\n",
       "</div>"
      ],
      "text/plain": [
       "       danceability  key  energy  loudness  speechiness  acousticness  \\\n",
       "0             0.603    6   0.517    -8.504       0.0235        0.6950   \n",
       "1             0.313    0   0.116   -12.645       0.0319        0.9530   \n",
       "2             0.684    4   0.839    -6.457       0.0658        0.1200   \n",
       "3             0.439    2   0.709    -6.803       0.0339        0.0584   \n",
       "4             0.479    5   0.478    -8.884       0.1100        0.0601   \n",
       "...             ...  ...     ...       ...          ...           ...   \n",
       "82379         0.633    4   0.345   -15.231       0.0291        0.4110   \n",
       "82380         0.295    6   0.417    -8.002       0.0307        0.2220   \n",
       "82381         0.347    8   0.216   -15.215       0.0315        0.6720   \n",
       "82382         0.784    0   0.821    -7.621       0.0423        0.0229   \n",
       "82383         0.701    9   0.715    -5.876       0.0305        0.7200   \n",
       "\n",
       "       instrumentalness  liveness  valence    tempo  \n",
       "0              0.000003    0.7440    0.327   96.181  \n",
       "1              0.331000    0.1610    0.255   74.071  \n",
       "2              0.000000    0.3540    0.580  128.051  \n",
       "3              0.000000    0.0803    0.495  155.018  \n",
       "4              0.000007    0.0813    0.117  100.040  \n",
       "...                 ...       ...      ...      ...  \n",
       "82379          0.000028    0.3610    0.368  132.691  \n",
       "82380          0.000006    0.1480    0.135   64.687  \n",
       "82381          0.000118    0.0738    0.478  108.566  \n",
       "82382          0.000007    0.1760    0.885  119.609  \n",
       "82383          0.000000    0.2970    0.970  104.061  \n",
       "\n",
       "[82384 rows x 10 columns]"
      ]
     },
     "execution_count": 14,
     "metadata": {},
     "output_type": "execute_result"
    }
   ],
   "source": [
    "X"
   ]
  },
  {
   "cell_type": "code",
   "execution_count": 15,
   "metadata": {},
   "outputs": [
    {
     "data": {
      "text/html": [
       "<div>\n",
       "<style scoped>\n",
       "    .dataframe tbody tr th:only-of-type {\n",
       "        vertical-align: middle;\n",
       "    }\n",
       "\n",
       "    .dataframe tbody tr th {\n",
       "        vertical-align: top;\n",
       "    }\n",
       "\n",
       "    .dataframe thead th {\n",
       "        text-align: right;\n",
       "    }\n",
       "</style>\n",
       "<table border=\"1\" class=\"dataframe\">\n",
       "  <thead>\n",
       "    <tr style=\"text-align: right;\">\n",
       "      <th></th>\n",
       "      <th>genre</th>\n",
       "    </tr>\n",
       "  </thead>\n",
       "  <tbody>\n",
       "    <tr>\n",
       "      <th>0</th>\n",
       "      <td>pop</td>\n",
       "    </tr>\n",
       "    <tr>\n",
       "      <th>1</th>\n",
       "      <td>pop</td>\n",
       "    </tr>\n",
       "    <tr>\n",
       "      <th>2</th>\n",
       "      <td>pop</td>\n",
       "    </tr>\n",
       "    <tr>\n",
       "      <th>3</th>\n",
       "      <td>pop</td>\n",
       "    </tr>\n",
       "    <tr>\n",
       "      <th>4</th>\n",
       "      <td>pop</td>\n",
       "    </tr>\n",
       "    <tr>\n",
       "      <th>...</th>\n",
       "      <td>...</td>\n",
       "    </tr>\n",
       "    <tr>\n",
       "      <th>82379</th>\n",
       "      <td>pop</td>\n",
       "    </tr>\n",
       "    <tr>\n",
       "      <th>82380</th>\n",
       "      <td>pop</td>\n",
       "    </tr>\n",
       "    <tr>\n",
       "      <th>82381</th>\n",
       "      <td>pop</td>\n",
       "    </tr>\n",
       "    <tr>\n",
       "      <th>82382</th>\n",
       "      <td>pop</td>\n",
       "    </tr>\n",
       "    <tr>\n",
       "      <th>82383</th>\n",
       "      <td>pop</td>\n",
       "    </tr>\n",
       "  </tbody>\n",
       "</table>\n",
       "<p>82384 rows × 1 columns</p>\n",
       "</div>"
      ],
      "text/plain": [
       "      genre\n",
       "0       pop\n",
       "1       pop\n",
       "2       pop\n",
       "3       pop\n",
       "4       pop\n",
       "...     ...\n",
       "82379   pop\n",
       "82380   pop\n",
       "82381   pop\n",
       "82382   pop\n",
       "82383   pop\n",
       "\n",
       "[82384 rows x 1 columns]"
      ]
     },
     "execution_count": 15,
     "metadata": {},
     "output_type": "execute_result"
    }
   ],
   "source": [
    "y"
   ]
  },
  {
   "cell_type": "code",
   "execution_count": 16,
   "metadata": {},
   "outputs": [],
   "source": [
    "from sklearn.ensemble import RandomForestClassifier\n",
    "from sklearn.preprocessing import StandardScaler\n",
    "standard_scaler = StandardScaler()\n",
    "\n",
    "scaled_features = standard_scaler.fit_transform(X)"
   ]
  },
  {
   "cell_type": "code",
   "execution_count": 17,
   "metadata": {},
   "outputs": [
    {
     "data": {
      "text/plain": [
       "array([[ 0.29610622,  0.20840403, -0.17904383, ...,  2.91304642,\n",
       "        -0.8854065 , -0.796405  ],\n",
       "       [-1.49389819, -1.50008318, -1.79357621, ..., -0.25639702,\n",
       "        -1.16620195, -1.54452837],\n",
       "       [ 0.79607297, -0.36109171,  1.11741359, ...,  0.79283554,\n",
       "         0.10127749,  0.28196189],\n",
       "       ...,\n",
       "       [-1.2840356 ,  0.77789977, -1.39094968, ..., -0.73045442,\n",
       "        -0.29651605, -0.37734087],\n",
       "       [ 1.41331586, -1.50008318,  1.04494082, ..., -0.17485045,\n",
       "         1.29075821, -0.00368522],\n",
       "       [ 0.90100426,  1.06264763,  0.6181567 , ...,  0.48295857,\n",
       "         1.62225283, -0.52977396]])"
      ]
     },
     "execution_count": 17,
     "metadata": {},
     "output_type": "execute_result"
    }
   ],
   "source": [
    "scaled_features"
   ]
  },
  {
   "cell_type": "code",
   "execution_count": 18,
   "metadata": {},
   "outputs": [],
   "source": [
    "from sklearn.model_selection import train_test_split\n",
    "X_train, X_test, y_train, y_test = train_test_split(scaled_features, y, test_size=0.2, random_state=42)"
   ]
  },
  {
   "cell_type": "code",
   "execution_count": 163,
   "metadata": {},
   "outputs": [
    {
     "name": "stderr",
     "output_type": "stream",
     "text": [
      "C:\\Users\\rwole\\AppData\\Local\\Temp\\ipykernel_5012\\1928759523.py:5: DataConversionWarning: A column-vector y was passed when a 1d array was expected. Please change the shape of y to (n_samples,), for example using ravel().\n",
      "  rfc.fit(X_train, y_train)\n"
     ]
    },
    {
     "data": {
      "text/html": [
       "<style>#sk-container-id-15 {color: black;background-color: white;}#sk-container-id-15 pre{padding: 0;}#sk-container-id-15 div.sk-toggleable {background-color: white;}#sk-container-id-15 label.sk-toggleable__label {cursor: pointer;display: block;width: 100%;margin-bottom: 0;padding: 0.3em;box-sizing: border-box;text-align: center;}#sk-container-id-15 label.sk-toggleable__label-arrow:before {content: \"▸\";float: left;margin-right: 0.25em;color: #696969;}#sk-container-id-15 label.sk-toggleable__label-arrow:hover:before {color: black;}#sk-container-id-15 div.sk-estimator:hover label.sk-toggleable__label-arrow:before {color: black;}#sk-container-id-15 div.sk-toggleable__content {max-height: 0;max-width: 0;overflow: hidden;text-align: left;background-color: #f0f8ff;}#sk-container-id-15 div.sk-toggleable__content pre {margin: 0.2em;color: black;border-radius: 0.25em;background-color: #f0f8ff;}#sk-container-id-15 input.sk-toggleable__control:checked~div.sk-toggleable__content {max-height: 200px;max-width: 100%;overflow: auto;}#sk-container-id-15 input.sk-toggleable__control:checked~label.sk-toggleable__label-arrow:before {content: \"▾\";}#sk-container-id-15 div.sk-estimator input.sk-toggleable__control:checked~label.sk-toggleable__label {background-color: #d4ebff;}#sk-container-id-15 div.sk-label input.sk-toggleable__control:checked~label.sk-toggleable__label {background-color: #d4ebff;}#sk-container-id-15 input.sk-hidden--visually {border: 0;clip: rect(1px 1px 1px 1px);clip: rect(1px, 1px, 1px, 1px);height: 1px;margin: -1px;overflow: hidden;padding: 0;position: absolute;width: 1px;}#sk-container-id-15 div.sk-estimator {font-family: monospace;background-color: #f0f8ff;border: 1px dotted black;border-radius: 0.25em;box-sizing: border-box;margin-bottom: 0.5em;}#sk-container-id-15 div.sk-estimator:hover {background-color: #d4ebff;}#sk-container-id-15 div.sk-parallel-item::after {content: \"\";width: 100%;border-bottom: 1px solid gray;flex-grow: 1;}#sk-container-id-15 div.sk-label:hover label.sk-toggleable__label {background-color: #d4ebff;}#sk-container-id-15 div.sk-serial::before {content: \"\";position: absolute;border-left: 1px solid gray;box-sizing: border-box;top: 0;bottom: 0;left: 50%;z-index: 0;}#sk-container-id-15 div.sk-serial {display: flex;flex-direction: column;align-items: center;background-color: white;padding-right: 0.2em;padding-left: 0.2em;position: relative;}#sk-container-id-15 div.sk-item {position: relative;z-index: 1;}#sk-container-id-15 div.sk-parallel {display: flex;align-items: stretch;justify-content: center;background-color: white;position: relative;}#sk-container-id-15 div.sk-item::before, #sk-container-id-15 div.sk-parallel-item::before {content: \"\";position: absolute;border-left: 1px solid gray;box-sizing: border-box;top: 0;bottom: 0;left: 50%;z-index: -1;}#sk-container-id-15 div.sk-parallel-item {display: flex;flex-direction: column;z-index: 1;position: relative;background-color: white;}#sk-container-id-15 div.sk-parallel-item:first-child::after {align-self: flex-end;width: 50%;}#sk-container-id-15 div.sk-parallel-item:last-child::after {align-self: flex-start;width: 50%;}#sk-container-id-15 div.sk-parallel-item:only-child::after {width: 0;}#sk-container-id-15 div.sk-dashed-wrapped {border: 1px dashed gray;margin: 0 0.4em 0.5em 0.4em;box-sizing: border-box;padding-bottom: 0.4em;background-color: white;}#sk-container-id-15 div.sk-label label {font-family: monospace;font-weight: bold;display: inline-block;line-height: 1.2em;}#sk-container-id-15 div.sk-label-container {text-align: center;}#sk-container-id-15 div.sk-container {/* jupyter's `normalize.less` sets `[hidden] { display: none; }` but bootstrap.min.css set `[hidden] { display: none !important; }` so we also need the `!important` here to be able to override the default hidden behavior on the sphinx rendered scikit-learn.org. See: https://github.com/scikit-learn/scikit-learn/issues/21755 */display: inline-block !important;position: relative;}#sk-container-id-15 div.sk-text-repr-fallback {display: none;}</style><div id=\"sk-container-id-15\" class=\"sk-top-container\"><div class=\"sk-text-repr-fallback\"><pre>RandomForestClassifier(random_state=41)</pre><b>In a Jupyter environment, please rerun this cell to show the HTML representation or trust the notebook. <br />On GitHub, the HTML representation is unable to render, please try loading this page with nbviewer.org.</b></div><div class=\"sk-container\" hidden><div class=\"sk-item\"><div class=\"sk-estimator sk-toggleable\"><input class=\"sk-toggleable__control sk-hidden--visually\" id=\"sk-estimator-id-15\" type=\"checkbox\" checked><label for=\"sk-estimator-id-15\" class=\"sk-toggleable__label sk-toggleable__label-arrow\">RandomForestClassifier</label><div class=\"sk-toggleable__content\"><pre>RandomForestClassifier(random_state=41)</pre></div></div></div></div></div>"
      ],
      "text/plain": [
       "RandomForestClassifier(random_state=41)"
      ]
     },
     "execution_count": 163,
     "metadata": {},
     "output_type": "execute_result"
    }
   ],
   "source": [
    "from sklearn.ensemble import RandomForestClassifier\n",
    "\n",
    "rfc = RandomForestClassifier(random_state = 41)\n",
    "\n",
    "rfc.fit(X_train, y_train)"
   ]
  },
  {
   "cell_type": "code",
   "execution_count": 164,
   "metadata": {},
   "outputs": [],
   "source": [
    "y_pred = rfc.predict(X_test)"
   ]
  },
  {
   "cell_type": "code",
   "execution_count": 165,
   "metadata": {},
   "outputs": [
    {
     "data": {
      "text/plain": [
       "array(['pop', 'pop', 'pop', ..., 'pop', 'pop', 'pop'], dtype=object)"
      ]
     },
     "execution_count": 165,
     "metadata": {},
     "output_type": "execute_result"
    }
   ],
   "source": [
    "y_pred"
   ]
  },
  {
   "cell_type": "code",
   "execution_count": 166,
   "metadata": {},
   "outputs": [
    {
     "name": "stderr",
     "output_type": "stream",
     "text": [
      "c:\\Users\\rwole\\AppData\\Local\\Programs\\Python\\Python310\\lib\\site-packages\\sklearn\\metrics\\_classification.py:1344: UndefinedMetricWarning: Precision and F-score are ill-defined and being set to 0.0 in labels with no predicted samples. Use `zero_division` parameter to control this behavior.\n",
      "  _warn_prf(average, modifier, msg_start, len(result))\n",
      "c:\\Users\\rwole\\AppData\\Local\\Programs\\Python\\Python310\\lib\\site-packages\\sklearn\\metrics\\_classification.py:1344: UndefinedMetricWarning: Precision and F-score are ill-defined and being set to 0.0 in labels with no predicted samples. Use `zero_division` parameter to control this behavior.\n",
      "  _warn_prf(average, modifier, msg_start, len(result))\n"
     ]
    },
    {
     "name": "stdout",
     "output_type": "stream",
     "text": [
      "                  precision    recall  f1-score   support\n",
      "\n",
      "        acoustic       0.00      0.00      0.00         5\n",
      "  easy_listening       0.92      0.15      0.26       152\n",
      "            jazz       1.00      0.05      0.09        22\n",
      "           latin       0.97      0.20      0.33       682\n",
      "             pop       0.86      0.99      0.92     13314\n",
      "             r&b       1.00      0.12      0.22         8\n",
      "            rock       0.89      0.35      0.51      2280\n",
      "traditional_folk       1.00      0.29      0.44        14\n",
      "\n",
      "        accuracy                           0.86     16477\n",
      "       macro avg       0.83      0.27      0.35     16477\n",
      "    weighted avg       0.87      0.86      0.83     16477\n",
      "\n"
     ]
    },
    {
     "name": "stderr",
     "output_type": "stream",
     "text": [
      "c:\\Users\\rwole\\AppData\\Local\\Programs\\Python\\Python310\\lib\\site-packages\\sklearn\\metrics\\_classification.py:1344: UndefinedMetricWarning: Precision and F-score are ill-defined and being set to 0.0 in labels with no predicted samples. Use `zero_division` parameter to control this behavior.\n",
      "  _warn_prf(average, modifier, msg_start, len(result))\n"
     ]
    }
   ],
   "source": [
    "from sklearn.metrics import classification_report\n",
    "print(classification_report(y_test, y_pred))"
   ]
  },
  {
   "cell_type": "code",
   "execution_count": 167,
   "metadata": {},
   "outputs": [
    {
     "data": {
      "text/plain": [
       "['modele/m2_bez_smote_niestrojony']"
      ]
     },
     "execution_count": 167,
     "metadata": {},
     "output_type": "execute_result"
    }
   ],
   "source": [
    "dump(rfc, 'modele/m2_bez_smote_niestrojony')"
   ]
  },
  {
   "cell_type": "markdown",
   "metadata": {},
   "source": [
    "Widzimy, że uzyskany model, słabo radzi sobie z klasyfikacją innych gatunków niż pop (patrząc na f1-score, ze względu na niezbalansowany zbiór danych). Spróbujmy zastosować technikę SMOTE do zwiększenia liczebności klas mniejszościowych."
   ]
  },
  {
   "cell_type": "code",
   "execution_count": 19,
   "metadata": {},
   "outputs": [],
   "source": [
    "from imblearn.over_sampling import SMOTE\n",
    "oversample = SMOTE()\n",
    "X, y = oversample.fit_resample(scaled_features, y)\n"
   ]
  },
  {
   "cell_type": "code",
   "execution_count": 20,
   "metadata": {},
   "outputs": [
    {
     "data": {
      "text/plain": [
       "(530168, 10)"
      ]
     },
     "execution_count": 20,
     "metadata": {},
     "output_type": "execute_result"
    }
   ],
   "source": [
    "X.shape"
   ]
  },
  {
   "cell_type": "code",
   "execution_count": 21,
   "metadata": {},
   "outputs": [
    {
     "data": {
      "text/plain": [
       "(530168, 1)"
      ]
     },
     "execution_count": 21,
     "metadata": {},
     "output_type": "execute_result"
    }
   ],
   "source": [
    "y.shape"
   ]
  },
  {
   "cell_type": "code",
   "execution_count": 22,
   "metadata": {},
   "outputs": [],
   "source": [
    "from sklearn.model_selection import train_test_split\n",
    "X_train, X_test, y_train, y_test = train_test_split(X, y, test_size=0.2, random_state=42)"
   ]
  },
  {
   "cell_type": "code",
   "execution_count": 23,
   "metadata": {},
   "outputs": [
    {
     "name": "stderr",
     "output_type": "stream",
     "text": [
      "C:\\Users\\rwole\\AppData\\Local\\Temp\\ipykernel_25916\\1928759523.py:5: DataConversionWarning: A column-vector y was passed when a 1d array was expected. Please change the shape of y to (n_samples,), for example using ravel().\n",
      "  rfc.fit(X_train, y_train)\n"
     ]
    },
    {
     "data": {
      "text/html": [
       "<style>#sk-container-id-1 {color: black;background-color: white;}#sk-container-id-1 pre{padding: 0;}#sk-container-id-1 div.sk-toggleable {background-color: white;}#sk-container-id-1 label.sk-toggleable__label {cursor: pointer;display: block;width: 100%;margin-bottom: 0;padding: 0.3em;box-sizing: border-box;text-align: center;}#sk-container-id-1 label.sk-toggleable__label-arrow:before {content: \"▸\";float: left;margin-right: 0.25em;color: #696969;}#sk-container-id-1 label.sk-toggleable__label-arrow:hover:before {color: black;}#sk-container-id-1 div.sk-estimator:hover label.sk-toggleable__label-arrow:before {color: black;}#sk-container-id-1 div.sk-toggleable__content {max-height: 0;max-width: 0;overflow: hidden;text-align: left;background-color: #f0f8ff;}#sk-container-id-1 div.sk-toggleable__content pre {margin: 0.2em;color: black;border-radius: 0.25em;background-color: #f0f8ff;}#sk-container-id-1 input.sk-toggleable__control:checked~div.sk-toggleable__content {max-height: 200px;max-width: 100%;overflow: auto;}#sk-container-id-1 input.sk-toggleable__control:checked~label.sk-toggleable__label-arrow:before {content: \"▾\";}#sk-container-id-1 div.sk-estimator input.sk-toggleable__control:checked~label.sk-toggleable__label {background-color: #d4ebff;}#sk-container-id-1 div.sk-label input.sk-toggleable__control:checked~label.sk-toggleable__label {background-color: #d4ebff;}#sk-container-id-1 input.sk-hidden--visually {border: 0;clip: rect(1px 1px 1px 1px);clip: rect(1px, 1px, 1px, 1px);height: 1px;margin: -1px;overflow: hidden;padding: 0;position: absolute;width: 1px;}#sk-container-id-1 div.sk-estimator {font-family: monospace;background-color: #f0f8ff;border: 1px dotted black;border-radius: 0.25em;box-sizing: border-box;margin-bottom: 0.5em;}#sk-container-id-1 div.sk-estimator:hover {background-color: #d4ebff;}#sk-container-id-1 div.sk-parallel-item::after {content: \"\";width: 100%;border-bottom: 1px solid gray;flex-grow: 1;}#sk-container-id-1 div.sk-label:hover label.sk-toggleable__label {background-color: #d4ebff;}#sk-container-id-1 div.sk-serial::before {content: \"\";position: absolute;border-left: 1px solid gray;box-sizing: border-box;top: 0;bottom: 0;left: 50%;z-index: 0;}#sk-container-id-1 div.sk-serial {display: flex;flex-direction: column;align-items: center;background-color: white;padding-right: 0.2em;padding-left: 0.2em;position: relative;}#sk-container-id-1 div.sk-item {position: relative;z-index: 1;}#sk-container-id-1 div.sk-parallel {display: flex;align-items: stretch;justify-content: center;background-color: white;position: relative;}#sk-container-id-1 div.sk-item::before, #sk-container-id-1 div.sk-parallel-item::before {content: \"\";position: absolute;border-left: 1px solid gray;box-sizing: border-box;top: 0;bottom: 0;left: 50%;z-index: -1;}#sk-container-id-1 div.sk-parallel-item {display: flex;flex-direction: column;z-index: 1;position: relative;background-color: white;}#sk-container-id-1 div.sk-parallel-item:first-child::after {align-self: flex-end;width: 50%;}#sk-container-id-1 div.sk-parallel-item:last-child::after {align-self: flex-start;width: 50%;}#sk-container-id-1 div.sk-parallel-item:only-child::after {width: 0;}#sk-container-id-1 div.sk-dashed-wrapped {border: 1px dashed gray;margin: 0 0.4em 0.5em 0.4em;box-sizing: border-box;padding-bottom: 0.4em;background-color: white;}#sk-container-id-1 div.sk-label label {font-family: monospace;font-weight: bold;display: inline-block;line-height: 1.2em;}#sk-container-id-1 div.sk-label-container {text-align: center;}#sk-container-id-1 div.sk-container {/* jupyter's `normalize.less` sets `[hidden] { display: none; }` but bootstrap.min.css set `[hidden] { display: none !important; }` so we also need the `!important` here to be able to override the default hidden behavior on the sphinx rendered scikit-learn.org. See: https://github.com/scikit-learn/scikit-learn/issues/21755 */display: inline-block !important;position: relative;}#sk-container-id-1 div.sk-text-repr-fallback {display: none;}</style><div id=\"sk-container-id-1\" class=\"sk-top-container\"><div class=\"sk-text-repr-fallback\"><pre>RandomForestClassifier(random_state=41)</pre><b>In a Jupyter environment, please rerun this cell to show the HTML representation or trust the notebook. <br />On GitHub, the HTML representation is unable to render, please try loading this page with nbviewer.org.</b></div><div class=\"sk-container\" hidden><div class=\"sk-item\"><div class=\"sk-estimator sk-toggleable\"><input class=\"sk-toggleable__control sk-hidden--visually\" id=\"sk-estimator-id-1\" type=\"checkbox\" checked><label for=\"sk-estimator-id-1\" class=\"sk-toggleable__label sk-toggleable__label-arrow\">RandomForestClassifier</label><div class=\"sk-toggleable__content\"><pre>RandomForestClassifier(random_state=41)</pre></div></div></div></div></div>"
      ],
      "text/plain": [
       "RandomForestClassifier(random_state=41)"
      ]
     },
     "execution_count": 23,
     "metadata": {},
     "output_type": "execute_result"
    }
   ],
   "source": [
    "from sklearn.ensemble import RandomForestClassifier\n",
    "\n",
    "rfc = RandomForestClassifier(random_state = 41)\n",
    "\n",
    "rfc.fit(X_train, y_train)"
   ]
  },
  {
   "cell_type": "code",
   "execution_count": 24,
   "metadata": {},
   "outputs": [],
   "source": [
    "y_pred = rfc.predict(X_test)"
   ]
  },
  {
   "cell_type": "code",
   "execution_count": 25,
   "metadata": {},
   "outputs": [
    {
     "name": "stdout",
     "output_type": "stream",
     "text": [
      "                  precision    recall  f1-score   support\n",
      "\n",
      "        acoustic       1.00      1.00      1.00     13184\n",
      "  easy_listening       0.99      1.00      1.00     13364\n",
      "            jazz       1.00      1.00      1.00     13307\n",
      "           latin       0.97      0.99      0.98     13245\n",
      "             pop       0.94      0.90      0.92     13239\n",
      "             r&b       1.00      1.00      1.00     13091\n",
      "            rock       0.93      0.94      0.93     13284\n",
      "traditional_folk       1.00      1.00      1.00     13320\n",
      "\n",
      "        accuracy                           0.98    106034\n",
      "       macro avg       0.98      0.98      0.98    106034\n",
      "    weighted avg       0.98      0.98      0.98    106034\n",
      "\n"
     ]
    }
   ],
   "source": [
    "from sklearn.metrics import classification_report\n",
    "print(classification_report(y_test, y_pred))"
   ]
  },
  {
   "cell_type": "code",
   "execution_count": 26,
   "metadata": {},
   "outputs": [
    {
     "data": {
      "text/plain": [
       "['modele/m2_smote_niestrojony']"
      ]
     },
     "execution_count": 26,
     "metadata": {},
     "output_type": "execute_result"
    }
   ],
   "source": [
    "dump(rfc, 'modele/m2_smote_niestrojony')"
   ]
  },
  {
   "cell_type": "markdown",
   "metadata": {},
   "source": [
    "Widzimy, że wyniki pod względem metryk są bardzo wysokie. Być może oznacza to przeuczenie się modelu. Spróbujmy dostroić hiperparametry."
   ]
  },
  {
   "cell_type": "code",
   "execution_count": 114,
   "metadata": {},
   "outputs": [
    {
     "data": {
      "text/plain": [
       "0.9412663573808743"
      ]
     },
     "execution_count": 114,
     "metadata": {},
     "output_type": "execute_result"
    }
   ],
   "source": [
    "\n",
    "from sklearn.metrics import f1_score\n",
    "f1_score(y_test, y_pred, labels=[\"latin\", \"pop\", \"rock\"], average=\"weighted\")"
   ]
  },
  {
   "cell_type": "code",
   "execution_count": 119,
   "metadata": {},
   "outputs": [],
   "source": [
    "import numpy as np\n",
    "\n",
    "n_estimators = [int(x) for x in np.linspace(start=200, stop=2000, num=10)]\n",
    "max_depth = [int(x) for x in np.linspace(10, 110, num=11)]\n",
    "min_samples_split = [2, 5, 7, 10]\n",
    "min_samples_leaf = [1, 2, 3, 4]\n",
    "\n",
    "param_grid = {\n",
    "    \"n_estimators\": n_estimators,\n",
    "    \"max_depth\": max_depth,\n",
    "    \"min_samples_split\": min_samples_split,\n",
    "    \"min_samples_leaf\": min_samples_leaf,\n",
    "}"
   ]
  },
  {
   "cell_type": "code",
   "execution_count": 116,
   "metadata": {},
   "outputs": [
    {
     "data": {
      "text/plain": [
       "make_scorer(f1_score, average=weighted, labels=['latin', 'pop', 'rock'])"
      ]
     },
     "execution_count": 116,
     "metadata": {},
     "output_type": "execute_result"
    }
   ],
   "source": [
    "\n",
    "from sklearn.metrics import make_scorer\n",
    "\n",
    "custom_f1 = make_scorer(\n",
    "    f1_score, greater_is_better=True, average=\"weighted\", labels=[\"latin\", \"pop\", \"rock\"]\n",
    "  )\n",
    "\n",
    "custom_f1"
   ]
  },
  {
   "cell_type": "code",
   "execution_count": 120,
   "metadata": {},
   "outputs": [
    {
     "name": "stderr",
     "output_type": "stream",
     "text": [
      "c:\\Users\\rwole\\AppData\\Local\\Programs\\Python\\Python310\\lib\\site-packages\\sklearn\\utils\\validation.py:1141: DataConversionWarning: A column-vector y was passed when a 1d array was expected. Please change the shape of y to (n_samples, ), for example using ravel().\n",
      "  y = column_or_1d(y, warn=True)\n",
      "c:\\Users\\rwole\\AppData\\Local\\Programs\\Python\\Python310\\lib\\site-packages\\sklearn\\model_selection\\_search.py:306: UserWarning: The total space of parameters 1760 is smaller than n_iter=11045. Running 1760 iterations. For exhaustive searches, use GridSearchCV.\n",
      "  warnings.warn(\n",
      "c:\\Users\\rwole\\AppData\\Local\\Programs\\Python\\Python310\\lib\\site-packages\\sklearn\\model_selection\\_search.py:910: DataConversionWarning: A column-vector y was passed when a 1d array was expected. Please change the shape of y to (n_samples,), for example using ravel().\n",
      "  self.best_estimator_.fit(X, y, **fit_params)\n"
     ]
    }
   ],
   "source": [
    "\n",
    "from sklearn.experimental import enable_halving_search_cv\n",
    "from sklearn.model_selection import HalvingRandomSearchCV\n",
    "\n",
    "hrs = HalvingRandomSearchCV(\n",
    "    estimator=RandomForestClassifier(),\n",
    "    param_distributions=param_grid,\n",
    "    scoring=custom_f1,\n",
    "    cv=3,\n",
    "    n_candidates=\"exhaust\",\n",
    "    factor=5,\n",
    "    n_jobs=-1,\n",
    ")\n",
    "\n",
    "_ = hrs.fit(X, y)\n",
    "\n",
    "best_estimator = hrs.best_estimator_"
   ]
  },
  {
   "cell_type": "code",
   "execution_count": 121,
   "metadata": {},
   "outputs": [
    {
     "data": {
      "text/html": [
       "<style>#sk-container-id-10 {color: black;background-color: white;}#sk-container-id-10 pre{padding: 0;}#sk-container-id-10 div.sk-toggleable {background-color: white;}#sk-container-id-10 label.sk-toggleable__label {cursor: pointer;display: block;width: 100%;margin-bottom: 0;padding: 0.3em;box-sizing: border-box;text-align: center;}#sk-container-id-10 label.sk-toggleable__label-arrow:before {content: \"▸\";float: left;margin-right: 0.25em;color: #696969;}#sk-container-id-10 label.sk-toggleable__label-arrow:hover:before {color: black;}#sk-container-id-10 div.sk-estimator:hover label.sk-toggleable__label-arrow:before {color: black;}#sk-container-id-10 div.sk-toggleable__content {max-height: 0;max-width: 0;overflow: hidden;text-align: left;background-color: #f0f8ff;}#sk-container-id-10 div.sk-toggleable__content pre {margin: 0.2em;color: black;border-radius: 0.25em;background-color: #f0f8ff;}#sk-container-id-10 input.sk-toggleable__control:checked~div.sk-toggleable__content {max-height: 200px;max-width: 100%;overflow: auto;}#sk-container-id-10 input.sk-toggleable__control:checked~label.sk-toggleable__label-arrow:before {content: \"▾\";}#sk-container-id-10 div.sk-estimator input.sk-toggleable__control:checked~label.sk-toggleable__label {background-color: #d4ebff;}#sk-container-id-10 div.sk-label input.sk-toggleable__control:checked~label.sk-toggleable__label {background-color: #d4ebff;}#sk-container-id-10 input.sk-hidden--visually {border: 0;clip: rect(1px 1px 1px 1px);clip: rect(1px, 1px, 1px, 1px);height: 1px;margin: -1px;overflow: hidden;padding: 0;position: absolute;width: 1px;}#sk-container-id-10 div.sk-estimator {font-family: monospace;background-color: #f0f8ff;border: 1px dotted black;border-radius: 0.25em;box-sizing: border-box;margin-bottom: 0.5em;}#sk-container-id-10 div.sk-estimator:hover {background-color: #d4ebff;}#sk-container-id-10 div.sk-parallel-item::after {content: \"\";width: 100%;border-bottom: 1px solid gray;flex-grow: 1;}#sk-container-id-10 div.sk-label:hover label.sk-toggleable__label {background-color: #d4ebff;}#sk-container-id-10 div.sk-serial::before {content: \"\";position: absolute;border-left: 1px solid gray;box-sizing: border-box;top: 0;bottom: 0;left: 50%;z-index: 0;}#sk-container-id-10 div.sk-serial {display: flex;flex-direction: column;align-items: center;background-color: white;padding-right: 0.2em;padding-left: 0.2em;position: relative;}#sk-container-id-10 div.sk-item {position: relative;z-index: 1;}#sk-container-id-10 div.sk-parallel {display: flex;align-items: stretch;justify-content: center;background-color: white;position: relative;}#sk-container-id-10 div.sk-item::before, #sk-container-id-10 div.sk-parallel-item::before {content: \"\";position: absolute;border-left: 1px solid gray;box-sizing: border-box;top: 0;bottom: 0;left: 50%;z-index: -1;}#sk-container-id-10 div.sk-parallel-item {display: flex;flex-direction: column;z-index: 1;position: relative;background-color: white;}#sk-container-id-10 div.sk-parallel-item:first-child::after {align-self: flex-end;width: 50%;}#sk-container-id-10 div.sk-parallel-item:last-child::after {align-self: flex-start;width: 50%;}#sk-container-id-10 div.sk-parallel-item:only-child::after {width: 0;}#sk-container-id-10 div.sk-dashed-wrapped {border: 1px dashed gray;margin: 0 0.4em 0.5em 0.4em;box-sizing: border-box;padding-bottom: 0.4em;background-color: white;}#sk-container-id-10 div.sk-label label {font-family: monospace;font-weight: bold;display: inline-block;line-height: 1.2em;}#sk-container-id-10 div.sk-label-container {text-align: center;}#sk-container-id-10 div.sk-container {/* jupyter's `normalize.less` sets `[hidden] { display: none; }` but bootstrap.min.css set `[hidden] { display: none !important; }` so we also need the `!important` here to be able to override the default hidden behavior on the sphinx rendered scikit-learn.org. See: https://github.com/scikit-learn/scikit-learn/issues/21755 */display: inline-block !important;position: relative;}#sk-container-id-10 div.sk-text-repr-fallback {display: none;}</style><div id=\"sk-container-id-10\" class=\"sk-top-container\"><div class=\"sk-text-repr-fallback\"><pre>RandomForestClassifier(max_depth=80, n_estimators=2000)</pre><b>In a Jupyter environment, please rerun this cell to show the HTML representation or trust the notebook. <br />On GitHub, the HTML representation is unable to render, please try loading this page with nbviewer.org.</b></div><div class=\"sk-container\" hidden><div class=\"sk-item\"><div class=\"sk-estimator sk-toggleable\"><input class=\"sk-toggleable__control sk-hidden--visually\" id=\"sk-estimator-id-10\" type=\"checkbox\" checked><label for=\"sk-estimator-id-10\" class=\"sk-toggleable__label sk-toggleable__label-arrow\">RandomForestClassifier</label><div class=\"sk-toggleable__content\"><pre>RandomForestClassifier(max_depth=80, n_estimators=2000)</pre></div></div></div></div></div>"
      ],
      "text/plain": [
       "RandomForestClassifier(max_depth=80, n_estimators=2000)"
      ]
     },
     "execution_count": 121,
     "metadata": {},
     "output_type": "execute_result"
    }
   ],
   "source": [
    "best_estimator"
   ]
  },
  {
   "cell_type": "code",
   "execution_count": 122,
   "metadata": {},
   "outputs": [
    {
     "name": "stderr",
     "output_type": "stream",
     "text": [
      "C:\\Users\\rwole\\AppData\\Local\\Temp\\ipykernel_5012\\1892460495.py:5: DataConversionWarning: A column-vector y was passed when a 1d array was expected. Please change the shape of y to (n_samples,), for example using ravel().\n",
      "  rfc_A.fit(X_train, y_train)\n"
     ]
    },
    {
     "data": {
      "text/html": [
       "<style>#sk-container-id-11 {color: black;background-color: white;}#sk-container-id-11 pre{padding: 0;}#sk-container-id-11 div.sk-toggleable {background-color: white;}#sk-container-id-11 label.sk-toggleable__label {cursor: pointer;display: block;width: 100%;margin-bottom: 0;padding: 0.3em;box-sizing: border-box;text-align: center;}#sk-container-id-11 label.sk-toggleable__label-arrow:before {content: \"▸\";float: left;margin-right: 0.25em;color: #696969;}#sk-container-id-11 label.sk-toggleable__label-arrow:hover:before {color: black;}#sk-container-id-11 div.sk-estimator:hover label.sk-toggleable__label-arrow:before {color: black;}#sk-container-id-11 div.sk-toggleable__content {max-height: 0;max-width: 0;overflow: hidden;text-align: left;background-color: #f0f8ff;}#sk-container-id-11 div.sk-toggleable__content pre {margin: 0.2em;color: black;border-radius: 0.25em;background-color: #f0f8ff;}#sk-container-id-11 input.sk-toggleable__control:checked~div.sk-toggleable__content {max-height: 200px;max-width: 100%;overflow: auto;}#sk-container-id-11 input.sk-toggleable__control:checked~label.sk-toggleable__label-arrow:before {content: \"▾\";}#sk-container-id-11 div.sk-estimator input.sk-toggleable__control:checked~label.sk-toggleable__label {background-color: #d4ebff;}#sk-container-id-11 div.sk-label input.sk-toggleable__control:checked~label.sk-toggleable__label {background-color: #d4ebff;}#sk-container-id-11 input.sk-hidden--visually {border: 0;clip: rect(1px 1px 1px 1px);clip: rect(1px, 1px, 1px, 1px);height: 1px;margin: -1px;overflow: hidden;padding: 0;position: absolute;width: 1px;}#sk-container-id-11 div.sk-estimator {font-family: monospace;background-color: #f0f8ff;border: 1px dotted black;border-radius: 0.25em;box-sizing: border-box;margin-bottom: 0.5em;}#sk-container-id-11 div.sk-estimator:hover {background-color: #d4ebff;}#sk-container-id-11 div.sk-parallel-item::after {content: \"\";width: 100%;border-bottom: 1px solid gray;flex-grow: 1;}#sk-container-id-11 div.sk-label:hover label.sk-toggleable__label {background-color: #d4ebff;}#sk-container-id-11 div.sk-serial::before {content: \"\";position: absolute;border-left: 1px solid gray;box-sizing: border-box;top: 0;bottom: 0;left: 50%;z-index: 0;}#sk-container-id-11 div.sk-serial {display: flex;flex-direction: column;align-items: center;background-color: white;padding-right: 0.2em;padding-left: 0.2em;position: relative;}#sk-container-id-11 div.sk-item {position: relative;z-index: 1;}#sk-container-id-11 div.sk-parallel {display: flex;align-items: stretch;justify-content: center;background-color: white;position: relative;}#sk-container-id-11 div.sk-item::before, #sk-container-id-11 div.sk-parallel-item::before {content: \"\";position: absolute;border-left: 1px solid gray;box-sizing: border-box;top: 0;bottom: 0;left: 50%;z-index: -1;}#sk-container-id-11 div.sk-parallel-item {display: flex;flex-direction: column;z-index: 1;position: relative;background-color: white;}#sk-container-id-11 div.sk-parallel-item:first-child::after {align-self: flex-end;width: 50%;}#sk-container-id-11 div.sk-parallel-item:last-child::after {align-self: flex-start;width: 50%;}#sk-container-id-11 div.sk-parallel-item:only-child::after {width: 0;}#sk-container-id-11 div.sk-dashed-wrapped {border: 1px dashed gray;margin: 0 0.4em 0.5em 0.4em;box-sizing: border-box;padding-bottom: 0.4em;background-color: white;}#sk-container-id-11 div.sk-label label {font-family: monospace;font-weight: bold;display: inline-block;line-height: 1.2em;}#sk-container-id-11 div.sk-label-container {text-align: center;}#sk-container-id-11 div.sk-container {/* jupyter's `normalize.less` sets `[hidden] { display: none; }` but bootstrap.min.css set `[hidden] { display: none !important; }` so we also need the `!important` here to be able to override the default hidden behavior on the sphinx rendered scikit-learn.org. See: https://github.com/scikit-learn/scikit-learn/issues/21755 */display: inline-block !important;position: relative;}#sk-container-id-11 div.sk-text-repr-fallback {display: none;}</style><div id=\"sk-container-id-11\" class=\"sk-top-container\"><div class=\"sk-text-repr-fallback\"><pre>RandomForestClassifier(max_depth=80, n_estimators=2000, random_state=2)</pre><b>In a Jupyter environment, please rerun this cell to show the HTML representation or trust the notebook. <br />On GitHub, the HTML representation is unable to render, please try loading this page with nbviewer.org.</b></div><div class=\"sk-container\" hidden><div class=\"sk-item\"><div class=\"sk-estimator sk-toggleable\"><input class=\"sk-toggleable__control sk-hidden--visually\" id=\"sk-estimator-id-11\" type=\"checkbox\" checked><label for=\"sk-estimator-id-11\" class=\"sk-toggleable__label sk-toggleable__label-arrow\">RandomForestClassifier</label><div class=\"sk-toggleable__content\"><pre>RandomForestClassifier(max_depth=80, n_estimators=2000, random_state=2)</pre></div></div></div></div></div>"
      ],
      "text/plain": [
       "RandomForestClassifier(max_depth=80, n_estimators=2000, random_state=2)"
      ]
     },
     "execution_count": 122,
     "metadata": {},
     "output_type": "execute_result"
    }
   ],
   "source": [
    "from sklearn.ensemble import RandomForestClassifier\n",
    "\n",
    "rfc_A = RandomForestClassifier(max_depth=80, n_estimators=2000, random_state=2)\n",
    "\n",
    "rfc_A.fit(X_train, y_train)"
   ]
  },
  {
   "cell_type": "code",
   "execution_count": 138,
   "metadata": {},
   "outputs": [],
   "source": [
    "y_pred = rfc_A.predict(X_test)"
   ]
  },
  {
   "cell_type": "code",
   "execution_count": 139,
   "metadata": {},
   "outputs": [
    {
     "name": "stdout",
     "output_type": "stream",
     "text": [
      "                  precision    recall  f1-score   support\n",
      "\n",
      "        acoustic       0.00      0.00      0.00     13184\n",
      "  easy_listening       0.13      0.10      0.11     13364\n",
      "            jazz       0.75      0.15      0.25     13307\n",
      "           latin       0.15      0.17      0.16     13245\n",
      "             pop       0.22      0.52      0.31     13239\n",
      "             r&b       0.00      0.00      0.00     13091\n",
      "            rock       0.10      0.33      0.15     13284\n",
      "traditional_folk       0.00      0.00      0.00     13320\n",
      "\n",
      "        accuracy                           0.16    106034\n",
      "       macro avg       0.17      0.16      0.12    106034\n",
      "    weighted avg       0.17      0.16      0.12    106034\n",
      "\n"
     ]
    }
   ],
   "source": [
    "print(classification_report(y_test, y_pred))"
   ]
  },
  {
   "cell_type": "code",
   "execution_count": 140,
   "metadata": {},
   "outputs": [
    {
     "data": {
      "text/plain": [
       "['modele/model_smote_strojony']"
      ]
     },
     "execution_count": 140,
     "metadata": {},
     "output_type": "execute_result"
    }
   ],
   "source": [
    "dump(rfc_A, 'modele/m2_smote_strojony')"
   ]
  },
  {
   "cell_type": "markdown",
   "metadata": {},
   "source": [
    "Wyniki po strojeniu hiperparametrów znacząco pogorszyły się. Finalnie, spróbujmy dostroić hiperparametry na modelu bez użycia techniki SMOTE do danych."
   ]
  },
  {
   "cell_type": "code",
   "execution_count": 145,
   "metadata": {},
   "outputs": [],
   "source": [
    "X = tracks_features\n",
    "y = tracks_genres_df[['genre']]"
   ]
  },
  {
   "cell_type": "code",
   "execution_count": 146,
   "metadata": {},
   "outputs": [],
   "source": [
    "from sklearn.ensemble import RandomForestClassifier\n",
    "from sklearn.preprocessing import StandardScaler\n",
    "standard_scaler = StandardScaler()\n",
    "\n",
    "scaled_features = standard_scaler.fit_transform(X)"
   ]
  },
  {
   "cell_type": "code",
   "execution_count": 147,
   "metadata": {},
   "outputs": [],
   "source": [
    "from sklearn.model_selection import train_test_split\n",
    "X_train, X_test, y_train, y_test = train_test_split(scaled_features, y, test_size=0.2, random_state=42)"
   ]
  },
  {
   "cell_type": "code",
   "execution_count": 148,
   "metadata": {},
   "outputs": [
    {
     "name": "stderr",
     "output_type": "stream",
     "text": [
      "C:\\Users\\rwole\\AppData\\Local\\Temp\\ipykernel_5012\\654781791.py:5: DataConversionWarning: A column-vector y was passed when a 1d array was expected. Please change the shape of y to (n_samples,), for example using ravel().\n",
      "  rfc.fit(X_train, y_train)\n"
     ]
    }
   ],
   "source": [
    "from sklearn.ensemble import RandomForestClassifier\n",
    "\n",
    "rfc = RandomForestClassifier(random_state = 41)\n",
    "\n",
    "rfc.fit(X_train, y_train)\n",
    "y_pred = rfc.predict(X_test)"
   ]
  },
  {
   "cell_type": "code",
   "execution_count": 149,
   "metadata": {},
   "outputs": [
    {
     "data": {
      "text/plain": [
       "0.45255539008693546"
      ]
     },
     "execution_count": 149,
     "metadata": {},
     "output_type": "execute_result"
    }
   ],
   "source": [
    "\n",
    "from sklearn.metrics import f1_score\n",
    "f1_score(y_test, y_pred, labels=[\"easy_listening\", \"acoustic\", \"jazz\", \"latin\", \"r&b\", \"rock\", \"traditional_folk\"], average=\"weighted\")"
   ]
  },
  {
   "cell_type": "code",
   "execution_count": 150,
   "metadata": {},
   "outputs": [],
   "source": [
    "import numpy as np\n",
    "\n",
    "n_estimators = [int(x) for x in np.linspace(start=200, stop=1000, num=10)]\n",
    "max_depth = [int(x) for x in np.linspace(10, 110, num=11)]\n",
    "min_samples_split = [2, 5, 7, 10]\n",
    "min_samples_leaf = [1, 2, 3, 4]\n",
    "\n",
    "param_grid = {\n",
    "    \"n_estimators\": n_estimators,\n",
    "    \"max_depth\": max_depth,\n",
    "    \"min_samples_split\": min_samples_split,\n",
    "    \"min_samples_leaf\": min_samples_leaf,\n",
    "}"
   ]
  },
  {
   "cell_type": "code",
   "execution_count": 151,
   "metadata": {},
   "outputs": [
    {
     "data": {
      "text/plain": [
       "make_scorer(f1_score, average=weighted, labels=['easy_listening', 'acoustic', 'jazz', 'latin', 'r&b', 'rock', 'traditional_folk'])"
      ]
     },
     "execution_count": 151,
     "metadata": {},
     "output_type": "execute_result"
    }
   ],
   "source": [
    "\n",
    "from sklearn.metrics import make_scorer\n",
    "\n",
    "custom_f1 = make_scorer(\n",
    "    f1_score, greater_is_better=True, average=\"weighted\", labels=[\"easy_listening\", \"acoustic\", \"jazz\", \"latin\", \"r&b\", \"rock\", \"traditional_folk\"]\n",
    "  )\n",
    "\n",
    "custom_f1"
   ]
  },
  {
   "cell_type": "code",
   "execution_count": 152,
   "metadata": {},
   "outputs": [
    {
     "name": "stderr",
     "output_type": "stream",
     "text": [
      "c:\\Users\\rwole\\AppData\\Local\\Programs\\Python\\Python310\\lib\\site-packages\\sklearn\\utils\\validation.py:1141: DataConversionWarning: A column-vector y was passed when a 1d array was expected. Please change the shape of y to (n_samples, ), for example using ravel().\n",
      "  y = column_or_1d(y, warn=True)\n",
      "c:\\Users\\rwole\\AppData\\Local\\Programs\\Python\\Python310\\lib\\site-packages\\sklearn\\model_selection\\_search.py:910: DataConversionWarning: A column-vector y was passed when a 1d array was expected. Please change the shape of y to (n_samples,), for example using ravel().\n",
      "  self.best_estimator_.fit(X, y, **fit_params)\n"
     ]
    }
   ],
   "source": [
    "\n",
    "from sklearn.experimental import enable_halving_search_cv\n",
    "from sklearn.model_selection import HalvingRandomSearchCV\n",
    "\n",
    "hrs = HalvingRandomSearchCV(\n",
    "    estimator=RandomForestClassifier(),\n",
    "    param_distributions=param_grid,\n",
    "    scoring=custom_f1,\n",
    "    cv=3,\n",
    "    n_candidates=\"exhaust\",\n",
    "    factor=5,\n",
    "    n_jobs=-1,\n",
    ")\n",
    "\n",
    "_ = hrs.fit(X, y)\n",
    "\n",
    "best_estimator = hrs.best_estimator_"
   ]
  },
  {
   "cell_type": "code",
   "execution_count": 154,
   "metadata": {},
   "outputs": [
    {
     "data": {
      "text/html": [
       "<style>#sk-container-id-13 {color: black;background-color: white;}#sk-container-id-13 pre{padding: 0;}#sk-container-id-13 div.sk-toggleable {background-color: white;}#sk-container-id-13 label.sk-toggleable__label {cursor: pointer;display: block;width: 100%;margin-bottom: 0;padding: 0.3em;box-sizing: border-box;text-align: center;}#sk-container-id-13 label.sk-toggleable__label-arrow:before {content: \"▸\";float: left;margin-right: 0.25em;color: #696969;}#sk-container-id-13 label.sk-toggleable__label-arrow:hover:before {color: black;}#sk-container-id-13 div.sk-estimator:hover label.sk-toggleable__label-arrow:before {color: black;}#sk-container-id-13 div.sk-toggleable__content {max-height: 0;max-width: 0;overflow: hidden;text-align: left;background-color: #f0f8ff;}#sk-container-id-13 div.sk-toggleable__content pre {margin: 0.2em;color: black;border-radius: 0.25em;background-color: #f0f8ff;}#sk-container-id-13 input.sk-toggleable__control:checked~div.sk-toggleable__content {max-height: 200px;max-width: 100%;overflow: auto;}#sk-container-id-13 input.sk-toggleable__control:checked~label.sk-toggleable__label-arrow:before {content: \"▾\";}#sk-container-id-13 div.sk-estimator input.sk-toggleable__control:checked~label.sk-toggleable__label {background-color: #d4ebff;}#sk-container-id-13 div.sk-label input.sk-toggleable__control:checked~label.sk-toggleable__label {background-color: #d4ebff;}#sk-container-id-13 input.sk-hidden--visually {border: 0;clip: rect(1px 1px 1px 1px);clip: rect(1px, 1px, 1px, 1px);height: 1px;margin: -1px;overflow: hidden;padding: 0;position: absolute;width: 1px;}#sk-container-id-13 div.sk-estimator {font-family: monospace;background-color: #f0f8ff;border: 1px dotted black;border-radius: 0.25em;box-sizing: border-box;margin-bottom: 0.5em;}#sk-container-id-13 div.sk-estimator:hover {background-color: #d4ebff;}#sk-container-id-13 div.sk-parallel-item::after {content: \"\";width: 100%;border-bottom: 1px solid gray;flex-grow: 1;}#sk-container-id-13 div.sk-label:hover label.sk-toggleable__label {background-color: #d4ebff;}#sk-container-id-13 div.sk-serial::before {content: \"\";position: absolute;border-left: 1px solid gray;box-sizing: border-box;top: 0;bottom: 0;left: 50%;z-index: 0;}#sk-container-id-13 div.sk-serial {display: flex;flex-direction: column;align-items: center;background-color: white;padding-right: 0.2em;padding-left: 0.2em;position: relative;}#sk-container-id-13 div.sk-item {position: relative;z-index: 1;}#sk-container-id-13 div.sk-parallel {display: flex;align-items: stretch;justify-content: center;background-color: white;position: relative;}#sk-container-id-13 div.sk-item::before, #sk-container-id-13 div.sk-parallel-item::before {content: \"\";position: absolute;border-left: 1px solid gray;box-sizing: border-box;top: 0;bottom: 0;left: 50%;z-index: -1;}#sk-container-id-13 div.sk-parallel-item {display: flex;flex-direction: column;z-index: 1;position: relative;background-color: white;}#sk-container-id-13 div.sk-parallel-item:first-child::after {align-self: flex-end;width: 50%;}#sk-container-id-13 div.sk-parallel-item:last-child::after {align-self: flex-start;width: 50%;}#sk-container-id-13 div.sk-parallel-item:only-child::after {width: 0;}#sk-container-id-13 div.sk-dashed-wrapped {border: 1px dashed gray;margin: 0 0.4em 0.5em 0.4em;box-sizing: border-box;padding-bottom: 0.4em;background-color: white;}#sk-container-id-13 div.sk-label label {font-family: monospace;font-weight: bold;display: inline-block;line-height: 1.2em;}#sk-container-id-13 div.sk-label-container {text-align: center;}#sk-container-id-13 div.sk-container {/* jupyter's `normalize.less` sets `[hidden] { display: none; }` but bootstrap.min.css set `[hidden] { display: none !important; }` so we also need the `!important` here to be able to override the default hidden behavior on the sphinx rendered scikit-learn.org. See: https://github.com/scikit-learn/scikit-learn/issues/21755 */display: inline-block !important;position: relative;}#sk-container-id-13 div.sk-text-repr-fallback {display: none;}</style><div id=\"sk-container-id-13\" class=\"sk-top-container\"><div class=\"sk-text-repr-fallback\"><pre>RandomForestClassifier(max_depth=70, n_estimators=822)</pre><b>In a Jupyter environment, please rerun this cell to show the HTML representation or trust the notebook. <br />On GitHub, the HTML representation is unable to render, please try loading this page with nbviewer.org.</b></div><div class=\"sk-container\" hidden><div class=\"sk-item\"><div class=\"sk-estimator sk-toggleable\"><input class=\"sk-toggleable__control sk-hidden--visually\" id=\"sk-estimator-id-13\" type=\"checkbox\" checked><label for=\"sk-estimator-id-13\" class=\"sk-toggleable__label sk-toggleable__label-arrow\">RandomForestClassifier</label><div class=\"sk-toggleable__content\"><pre>RandomForestClassifier(max_depth=70, n_estimators=822)</pre></div></div></div></div></div>"
      ],
      "text/plain": [
       "RandomForestClassifier(max_depth=70, n_estimators=822)"
      ]
     },
     "execution_count": 154,
     "metadata": {},
     "output_type": "execute_result"
    }
   ],
   "source": [
    "best_estimator"
   ]
  },
  {
   "cell_type": "code",
   "execution_count": 155,
   "metadata": {},
   "outputs": [
    {
     "name": "stderr",
     "output_type": "stream",
     "text": [
      "C:\\Users\\rwole\\AppData\\Local\\Temp\\ipykernel_5012\\1037370777.py:5: DataConversionWarning: A column-vector y was passed when a 1d array was expected. Please change the shape of y to (n_samples,), for example using ravel().\n",
      "  rfc_A.fit(X_train, y_train)\n"
     ]
    },
    {
     "data": {
      "text/html": [
       "<style>#sk-container-id-14 {color: black;background-color: white;}#sk-container-id-14 pre{padding: 0;}#sk-container-id-14 div.sk-toggleable {background-color: white;}#sk-container-id-14 label.sk-toggleable__label {cursor: pointer;display: block;width: 100%;margin-bottom: 0;padding: 0.3em;box-sizing: border-box;text-align: center;}#sk-container-id-14 label.sk-toggleable__label-arrow:before {content: \"▸\";float: left;margin-right: 0.25em;color: #696969;}#sk-container-id-14 label.sk-toggleable__label-arrow:hover:before {color: black;}#sk-container-id-14 div.sk-estimator:hover label.sk-toggleable__label-arrow:before {color: black;}#sk-container-id-14 div.sk-toggleable__content {max-height: 0;max-width: 0;overflow: hidden;text-align: left;background-color: #f0f8ff;}#sk-container-id-14 div.sk-toggleable__content pre {margin: 0.2em;color: black;border-radius: 0.25em;background-color: #f0f8ff;}#sk-container-id-14 input.sk-toggleable__control:checked~div.sk-toggleable__content {max-height: 200px;max-width: 100%;overflow: auto;}#sk-container-id-14 input.sk-toggleable__control:checked~label.sk-toggleable__label-arrow:before {content: \"▾\";}#sk-container-id-14 div.sk-estimator input.sk-toggleable__control:checked~label.sk-toggleable__label {background-color: #d4ebff;}#sk-container-id-14 div.sk-label input.sk-toggleable__control:checked~label.sk-toggleable__label {background-color: #d4ebff;}#sk-container-id-14 input.sk-hidden--visually {border: 0;clip: rect(1px 1px 1px 1px);clip: rect(1px, 1px, 1px, 1px);height: 1px;margin: -1px;overflow: hidden;padding: 0;position: absolute;width: 1px;}#sk-container-id-14 div.sk-estimator {font-family: monospace;background-color: #f0f8ff;border: 1px dotted black;border-radius: 0.25em;box-sizing: border-box;margin-bottom: 0.5em;}#sk-container-id-14 div.sk-estimator:hover {background-color: #d4ebff;}#sk-container-id-14 div.sk-parallel-item::after {content: \"\";width: 100%;border-bottom: 1px solid gray;flex-grow: 1;}#sk-container-id-14 div.sk-label:hover label.sk-toggleable__label {background-color: #d4ebff;}#sk-container-id-14 div.sk-serial::before {content: \"\";position: absolute;border-left: 1px solid gray;box-sizing: border-box;top: 0;bottom: 0;left: 50%;z-index: 0;}#sk-container-id-14 div.sk-serial {display: flex;flex-direction: column;align-items: center;background-color: white;padding-right: 0.2em;padding-left: 0.2em;position: relative;}#sk-container-id-14 div.sk-item {position: relative;z-index: 1;}#sk-container-id-14 div.sk-parallel {display: flex;align-items: stretch;justify-content: center;background-color: white;position: relative;}#sk-container-id-14 div.sk-item::before, #sk-container-id-14 div.sk-parallel-item::before {content: \"\";position: absolute;border-left: 1px solid gray;box-sizing: border-box;top: 0;bottom: 0;left: 50%;z-index: -1;}#sk-container-id-14 div.sk-parallel-item {display: flex;flex-direction: column;z-index: 1;position: relative;background-color: white;}#sk-container-id-14 div.sk-parallel-item:first-child::after {align-self: flex-end;width: 50%;}#sk-container-id-14 div.sk-parallel-item:last-child::after {align-self: flex-start;width: 50%;}#sk-container-id-14 div.sk-parallel-item:only-child::after {width: 0;}#sk-container-id-14 div.sk-dashed-wrapped {border: 1px dashed gray;margin: 0 0.4em 0.5em 0.4em;box-sizing: border-box;padding-bottom: 0.4em;background-color: white;}#sk-container-id-14 div.sk-label label {font-family: monospace;font-weight: bold;display: inline-block;line-height: 1.2em;}#sk-container-id-14 div.sk-label-container {text-align: center;}#sk-container-id-14 div.sk-container {/* jupyter's `normalize.less` sets `[hidden] { display: none; }` but bootstrap.min.css set `[hidden] { display: none !important; }` so we also need the `!important` here to be able to override the default hidden behavior on the sphinx rendered scikit-learn.org. See: https://github.com/scikit-learn/scikit-learn/issues/21755 */display: inline-block !important;position: relative;}#sk-container-id-14 div.sk-text-repr-fallback {display: none;}</style><div id=\"sk-container-id-14\" class=\"sk-top-container\"><div class=\"sk-text-repr-fallback\"><pre>RandomForestClassifier(max_depth=70, n_estimators=822)</pre><b>In a Jupyter environment, please rerun this cell to show the HTML representation or trust the notebook. <br />On GitHub, the HTML representation is unable to render, please try loading this page with nbviewer.org.</b></div><div class=\"sk-container\" hidden><div class=\"sk-item\"><div class=\"sk-estimator sk-toggleable\"><input class=\"sk-toggleable__control sk-hidden--visually\" id=\"sk-estimator-id-14\" type=\"checkbox\" checked><label for=\"sk-estimator-id-14\" class=\"sk-toggleable__label sk-toggleable__label-arrow\">RandomForestClassifier</label><div class=\"sk-toggleable__content\"><pre>RandomForestClassifier(max_depth=70, n_estimators=822)</pre></div></div></div></div></div>"
      ],
      "text/plain": [
       "RandomForestClassifier(max_depth=70, n_estimators=822)"
      ]
     },
     "execution_count": 155,
     "metadata": {},
     "output_type": "execute_result"
    }
   ],
   "source": [
    "from sklearn.ensemble import RandomForestClassifier\n",
    "\n",
    "rfc_A = RandomForestClassifier(max_depth=70, n_estimators=822)\n",
    "\n",
    "rfc_A.fit(X_train, y_train)"
   ]
  },
  {
   "cell_type": "code",
   "execution_count": 156,
   "metadata": {},
   "outputs": [
    {
     "name": "stderr",
     "output_type": "stream",
     "text": [
      "c:\\Users\\rwole\\AppData\\Local\\Programs\\Python\\Python310\\lib\\site-packages\\sklearn\\metrics\\_classification.py:1344: UndefinedMetricWarning: Precision and F-score are ill-defined and being set to 0.0 in labels with no predicted samples. Use `zero_division` parameter to control this behavior.\n",
      "  _warn_prf(average, modifier, msg_start, len(result))\n",
      "c:\\Users\\rwole\\AppData\\Local\\Programs\\Python\\Python310\\lib\\site-packages\\sklearn\\metrics\\_classification.py:1344: UndefinedMetricWarning: Precision and F-score are ill-defined and being set to 0.0 in labels with no predicted samples. Use `zero_division` parameter to control this behavior.\n",
      "  _warn_prf(average, modifier, msg_start, len(result))\n"
     ]
    },
    {
     "name": "stdout",
     "output_type": "stream",
     "text": [
      "                  precision    recall  f1-score   support\n",
      "\n",
      "        acoustic       0.00      0.00      0.00         5\n",
      "  easy_listening       0.89      0.16      0.27       152\n",
      "            jazz       1.00      0.05      0.09        22\n",
      "           latin       0.98      0.19      0.31       682\n",
      "             pop       0.86      1.00      0.92     13314\n",
      "             r&b       1.00      0.12      0.22         8\n",
      "            rock       0.90      0.35      0.51      2280\n",
      "traditional_folk       1.00      0.14      0.25        14\n",
      "\n",
      "        accuracy                           0.86     16477\n",
      "       macro avg       0.83      0.25      0.32     16477\n",
      "    weighted avg       0.87      0.86      0.83     16477\n",
      "\n"
     ]
    },
    {
     "name": "stderr",
     "output_type": "stream",
     "text": [
      "c:\\Users\\rwole\\AppData\\Local\\Programs\\Python\\Python310\\lib\\site-packages\\sklearn\\metrics\\_classification.py:1344: UndefinedMetricWarning: Precision and F-score are ill-defined and being set to 0.0 in labels with no predicted samples. Use `zero_division` parameter to control this behavior.\n",
      "  _warn_prf(average, modifier, msg_start, len(result))\n"
     ]
    }
   ],
   "source": [
    "y_pred = rfc_A.predict(X_test)\n",
    "print(classification_report(y_test, y_pred))"
   ]
  },
  {
   "cell_type": "code",
   "execution_count": 158,
   "metadata": {},
   "outputs": [
    {
     "data": {
      "text/plain": [
       "['modele/model_bez_smote_strojony']"
      ]
     },
     "execution_count": 158,
     "metadata": {},
     "output_type": "execute_result"
    }
   ],
   "source": [
    "dump(rfc_A, 'modele/m2_bez_smote_strojony')"
   ]
  },
  {
   "cell_type": "code",
   "execution_count": null,
   "metadata": {},
   "outputs": [],
   "source": []
  }
 ],
 "metadata": {
  "kernelspec": {
   "display_name": "Python 3 (ipykernel)",
   "language": "python",
   "name": "python3"
  },
  "language_info": {
   "codemirror_mode": {
    "name": "ipython",
    "version": 3
   },
   "file_extension": ".py",
   "mimetype": "text/x-python",
   "name": "python",
   "nbconvert_exporter": "python",
   "pygments_lexer": "ipython3",
   "version": "3.10.9"
  },
  "vscode": {
   "interpreter": {
    "hash": "4c1bce8e414f9bc48912dcc4416cdb1ae524d0fbd3b04a7c9d6465f890f9d9c6"
   }
  }
 },
 "nbformat": 4,
 "nbformat_minor": 2
}
